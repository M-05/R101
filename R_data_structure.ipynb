{
  "cells": [
    {
      "cell_type": "markdown",
      "source": [
        "# [R 이용한 데이터 wrangling논쟁](https://hyunyulhenry.github.io/data_wrangling/numbers.html)\n",
        "\n",
        "## 데이터 구조 다루기\n",
        "\n",
        "> [library(stringr)](https://stringr.tidyverse.org/)\n",
        "\n",
        "> [library(lubridate)](https://lubridate.tidyverse.org/)\n",
        "\n",
        "> [library(forcats)](https://forcats.tidyverse.org/)"
      ],
      "metadata": {
        "id": "qaoQ7bvKLEF6"
      }
    },
    {
      "cell_type": "markdown",
      "source": [
        "# Data Structure Basics\n",
        "\n",
        "|Dimension\t|Homogeneous|\tHeterogeneous|\n",
        "|:-:|:-:|:-:|\n",
        "|1D\t|Atomic Vector\t|List|\n",
        "|2D\t|Matrix\t|Data frame|\n",
        "|nD\t|Array\t||"
      ],
      "metadata": {
        "id": "CjSg4VKOLTpf"
      }
    },
    {
      "cell_type": "code",
      "source": [
        "vectors = 1:10\n",
        "lists = list(item1=1:10, itme2=LETTERS[1:18])\n",
        "matrixs=matrix(1:12, nrow=4)\n",
        "\n",
        "df = data.frame(item1=1:10, item2=LETTERS[1:10])"
      ],
      "metadata": {
        "id": "9TdzVjqo85Te"
      },
      "execution_count": 14,
      "outputs": []
    },
    {
      "cell_type": "code",
      "source": [
        "vectors\n",
        "lists\n",
        "matrixs"
      ],
      "metadata": {
        "colab": {
          "base_uri": "https://localhost:8080/",
          "height": 298
        },
        "id": "eg9ElmsW85QM",
        "outputId": "3ce7890c-4f27-4259-c6b2-238469be9b88"
      },
      "execution_count": 15,
      "outputs": [
        {
          "output_type": "display_data",
          "data": {
            "text/html": [
              "<style>\n",
              ".list-inline {list-style: none; margin:0; padding: 0}\n",
              ".list-inline>li {display: inline-block}\n",
              ".list-inline>li:not(:last-child)::after {content: \"\\00b7\"; padding: 0 .5ex}\n",
              "</style>\n",
              "<ol class=list-inline><li>1</li><li>2</li><li>3</li><li>4</li><li>5</li><li>6</li><li>7</li><li>8</li><li>9</li><li>10</li></ol>\n"
            ],
            "text/markdown": "1. 1\n2. 2\n3. 3\n4. 4\n5. 5\n6. 6\n7. 7\n8. 8\n9. 9\n10. 10\n\n\n",
            "text/latex": "\\begin{enumerate*}\n\\item 1\n\\item 2\n\\item 3\n\\item 4\n\\item 5\n\\item 6\n\\item 7\n\\item 8\n\\item 9\n\\item 10\n\\end{enumerate*}\n",
            "text/plain": [
              " [1]  1  2  3  4  5  6  7  8  9 10"
            ]
          },
          "metadata": {}
        },
        {
          "output_type": "display_data",
          "data": {
            "text/html": [
              "<dl>\n",
              "\t<dt>$item1</dt>\n",
              "\t\t<dd><style>\n",
              ".list-inline {list-style: none; margin:0; padding: 0}\n",
              ".list-inline>li {display: inline-block}\n",
              ".list-inline>li:not(:last-child)::after {content: \"\\00b7\"; padding: 0 .5ex}\n",
              "</style>\n",
              "<ol class=list-inline><li>1</li><li>2</li><li>3</li><li>4</li><li>5</li><li>6</li><li>7</li><li>8</li><li>9</li><li>10</li></ol>\n",
              "</dd>\n",
              "\t<dt>$itme2</dt>\n",
              "\t\t<dd><style>\n",
              ".list-inline {list-style: none; margin:0; padding: 0}\n",
              ".list-inline>li {display: inline-block}\n",
              ".list-inline>li:not(:last-child)::after {content: \"\\00b7\"; padding: 0 .5ex}\n",
              "</style>\n",
              "<ol class=list-inline><li>'A'</li><li>'B'</li><li>'C'</li><li>'D'</li><li>'E'</li><li>'F'</li><li>'G'</li><li>'H'</li><li>'I'</li><li>'J'</li><li>'K'</li><li>'L'</li><li>'M'</li><li>'N'</li><li>'O'</li><li>'P'</li><li>'Q'</li><li>'R'</li></ol>\n",
              "</dd>\n",
              "</dl>\n"
            ],
            "text/markdown": "$item1\n:   1. 1\n2. 2\n3. 3\n4. 4\n5. 5\n6. 6\n7. 7\n8. 8\n9. 9\n10. 10\n\n\n\n$itme2\n:   1. 'A'\n2. 'B'\n3. 'C'\n4. 'D'\n5. 'E'\n6. 'F'\n7. 'G'\n8. 'H'\n9. 'I'\n10. 'J'\n11. 'K'\n12. 'L'\n13. 'M'\n14. 'N'\n15. 'O'\n16. 'P'\n17. 'Q'\n18. 'R'\n\n\n\n\n\n",
            "text/latex": "\\begin{description}\n\\item[\\$item1] \\begin{enumerate*}\n\\item 1\n\\item 2\n\\item 3\n\\item 4\n\\item 5\n\\item 6\n\\item 7\n\\item 8\n\\item 9\n\\item 10\n\\end{enumerate*}\n\n\\item[\\$itme2] \\begin{enumerate*}\n\\item 'A'\n\\item 'B'\n\\item 'C'\n\\item 'D'\n\\item 'E'\n\\item 'F'\n\\item 'G'\n\\item 'H'\n\\item 'I'\n\\item 'J'\n\\item 'K'\n\\item 'L'\n\\item 'M'\n\\item 'N'\n\\item 'O'\n\\item 'P'\n\\item 'Q'\n\\item 'R'\n\\end{enumerate*}\n\n\\end{description}\n",
            "text/plain": [
              "$item1\n",
              " [1]  1  2  3  4  5  6  7  8  9 10\n",
              "\n",
              "$itme2\n",
              " [1] \"A\" \"B\" \"C\" \"D\" \"E\" \"F\" \"G\" \"H\" \"I\" \"J\" \"K\" \"L\" \"M\" \"N\" \"O\" \"P\" \"Q\" \"R\"\n"
            ]
          },
          "metadata": {}
        },
        {
          "output_type": "display_data",
          "data": {
            "text/html": [
              "<table class=\"dataframe\">\n",
              "<caption>A matrix: 4 × 3 of type int</caption>\n",
              "<tbody>\n",
              "\t<tr><td>1</td><td>5</td><td> 9</td></tr>\n",
              "\t<tr><td>2</td><td>6</td><td>10</td></tr>\n",
              "\t<tr><td>3</td><td>7</td><td>11</td></tr>\n",
              "\t<tr><td>4</td><td>8</td><td>12</td></tr>\n",
              "</tbody>\n",
              "</table>\n"
            ],
            "text/markdown": "\nA matrix: 4 × 3 of type int\n\n| 1 | 5 |  9 |\n| 2 | 6 | 10 |\n| 3 | 7 | 11 |\n| 4 | 8 | 12 |\n\n",
            "text/latex": "A matrix: 4 × 3 of type int\n\\begin{tabular}{lll}\n\t 1 & 5 &  9\\\\\n\t 2 & 6 & 10\\\\\n\t 3 & 7 & 11\\\\\n\t 4 & 8 & 12\\\\\n\\end{tabular}\n",
            "text/plain": [
              "     [,1] [,2] [,3]\n",
              "[1,] 1    5     9  \n",
              "[2,] 2    6    10  \n",
              "[3,] 3    7    11  \n",
              "[4,] 4    8    12  "
            ]
          },
          "metadata": {}
        }
      ]
    },
    {
      "cell_type": "code",
      "source": [
        "df"
      ],
      "metadata": {
        "colab": {
          "base_uri": "https://localhost:8080/",
          "height": 416
        },
        "id": "B3sPsgpU85Mw",
        "outputId": "9bf67f7c-8473-40ee-b897-05a51d3b0ba1"
      },
      "execution_count": 16,
      "outputs": [
        {
          "output_type": "display_data",
          "data": {
            "text/html": [
              "<table class=\"dataframe\">\n",
              "<caption>A data.frame: 10 × 2</caption>\n",
              "<thead>\n",
              "\t<tr><th scope=col>item1</th><th scope=col>item2</th></tr>\n",
              "\t<tr><th scope=col>&lt;int&gt;</th><th scope=col>&lt;chr&gt;</th></tr>\n",
              "</thead>\n",
              "<tbody>\n",
              "\t<tr><td> 1</td><td>A</td></tr>\n",
              "\t<tr><td> 2</td><td>B</td></tr>\n",
              "\t<tr><td> 3</td><td>C</td></tr>\n",
              "\t<tr><td> 4</td><td>D</td></tr>\n",
              "\t<tr><td> 5</td><td>E</td></tr>\n",
              "\t<tr><td> 6</td><td>F</td></tr>\n",
              "\t<tr><td> 7</td><td>G</td></tr>\n",
              "\t<tr><td> 8</td><td>H</td></tr>\n",
              "\t<tr><td> 9</td><td>I</td></tr>\n",
              "\t<tr><td>10</td><td>J</td></tr>\n",
              "</tbody>\n",
              "</table>\n"
            ],
            "text/markdown": "\nA data.frame: 10 × 2\n\n| item1 &lt;int&gt; | item2 &lt;chr&gt; |\n|---|---|\n|  1 | A |\n|  2 | B |\n|  3 | C |\n|  4 | D |\n|  5 | E |\n|  6 | F |\n|  7 | G |\n|  8 | H |\n|  9 | I |\n| 10 | J |\n\n",
            "text/latex": "A data.frame: 10 × 2\n\\begin{tabular}{ll}\n item1 & item2\\\\\n <int> & <chr>\\\\\n\\hline\n\t  1 & A\\\\\n\t  2 & B\\\\\n\t  3 & C\\\\\n\t  4 & D\\\\\n\t  5 & E\\\\\n\t  6 & F\\\\\n\t  7 & G\\\\\n\t  8 & H\\\\\n\t  9 & I\\\\\n\t 10 & J\\\\\n\\end{tabular}\n",
            "text/plain": [
              "   item1 item2\n",
              "1   1    A    \n",
              "2   2    B    \n",
              "3   3    C    \n",
              "4   4    D    \n",
              "5   5    E    \n",
              "6   6    F    \n",
              "7   7    G    \n",
              "8   8    H    \n",
              "9   9    I    \n",
              "10 10    J    "
            ]
          },
          "metadata": {}
        }
      ]
    },
    {
      "cell_type": "code",
      "source": [
        "1:18"
      ],
      "metadata": {
        "id": "ReTcHF7VLWRS",
        "colab": {
          "base_uri": "https://localhost:8080/",
          "height": 32
        },
        "outputId": "3e96f872-9f6a-41c0-b1ce-7083f00e11b5"
      },
      "execution_count": 6,
      "outputs": [
        {
          "output_type": "display_data",
          "data": {
            "text/html": [
              "<style>\n",
              ".list-inline {list-style: none; margin:0; padding: 0}\n",
              ".list-inline>li {display: inline-block}\n",
              ".list-inline>li:not(:last-child)::after {content: \"\\00b7\"; padding: 0 .5ex}\n",
              "</style>\n",
              "<ol class=list-inline><li>1</li><li>2</li><li>3</li><li>4</li><li>5</li><li>6</li><li>7</li><li>8</li><li>9</li><li>10</li><li>11</li><li>12</li><li>13</li><li>14</li><li>15</li><li>16</li><li>17</li><li>18</li></ol>\n"
            ],
            "text/markdown": "1. 1\n2. 2\n3. 3\n4. 4\n5. 5\n6. 6\n7. 7\n8. 8\n9. 9\n10. 10\n11. 11\n12. 12\n13. 13\n14. 14\n15. 15\n16. 16\n17. 17\n18. 18\n\n\n",
            "text/latex": "\\begin{enumerate*}\n\\item 1\n\\item 2\n\\item 3\n\\item 4\n\\item 5\n\\item 6\n\\item 7\n\\item 8\n\\item 9\n\\item 10\n\\item 11\n\\item 12\n\\item 13\n\\item 14\n\\item 15\n\\item 16\n\\item 17\n\\item 18\n\\end{enumerate*}\n",
            "text/plain": [
              " [1]  1  2  3  4  5  6  7  8  9 10 11 12 13 14 15 16 17 18"
            ]
          },
          "metadata": {}
        }
      ]
    },
    {
      "cell_type": "code",
      "source": [
        "length(LETTERS)"
      ],
      "metadata": {
        "colab": {
          "base_uri": "https://localhost:8080/",
          "height": 32
        },
        "id": "XxxczgCJ9hqQ",
        "outputId": "1deb294e-4680-4346-8a8c-b3b4d4680aff"
      },
      "execution_count": 10,
      "outputs": [
        {
          "output_type": "display_data",
          "data": {
            "text/html": [
              "26"
            ],
            "text/markdown": "26",
            "text/latex": "26",
            "text/plain": [
              "[1] 26"
            ]
          },
          "metadata": {}
        }
      ]
    },
    {
      "cell_type": "code",
      "source": [
        "LETTERS[1:length(LETTERS)]"
      ],
      "metadata": {
        "colab": {
          "base_uri": "https://localhost:8080/",
          "height": 32
        },
        "id": "cnLFgjsJ9YxI",
        "outputId": "b1fec9b7-3010-4303-aa83-f68a9a0ed301"
      },
      "execution_count": 11,
      "outputs": [
        {
          "output_type": "display_data",
          "data": {
            "text/html": [
              "<style>\n",
              ".list-inline {list-style: none; margin:0; padding: 0}\n",
              ".list-inline>li {display: inline-block}\n",
              ".list-inline>li:not(:last-child)::after {content: \"\\00b7\"; padding: 0 .5ex}\n",
              "</style>\n",
              "<ol class=list-inline><li>'A'</li><li>'B'</li><li>'C'</li><li>'D'</li><li>'E'</li><li>'F'</li><li>'G'</li><li>'H'</li><li>'I'</li><li>'J'</li><li>'K'</li><li>'L'</li><li>'M'</li><li>'N'</li><li>'O'</li><li>'P'</li><li>'Q'</li><li>'R'</li><li>'S'</li><li>'T'</li><li>'U'</li><li>'V'</li><li>'W'</li><li>'X'</li><li>'Y'</li><li>'Z'</li></ol>\n"
            ],
            "text/markdown": "1. 'A'\n2. 'B'\n3. 'C'\n4. 'D'\n5. 'E'\n6. 'F'\n7. 'G'\n8. 'H'\n9. 'I'\n10. 'J'\n11. 'K'\n12. 'L'\n13. 'M'\n14. 'N'\n15. 'O'\n16. 'P'\n17. 'Q'\n18. 'R'\n19. 'S'\n20. 'T'\n21. 'U'\n22. 'V'\n23. 'W'\n24. 'X'\n25. 'Y'\n26. 'Z'\n\n\n",
            "text/latex": "\\begin{enumerate*}\n\\item 'A'\n\\item 'B'\n\\item 'C'\n\\item 'D'\n\\item 'E'\n\\item 'F'\n\\item 'G'\n\\item 'H'\n\\item 'I'\n\\item 'J'\n\\item 'K'\n\\item 'L'\n\\item 'M'\n\\item 'N'\n\\item 'O'\n\\item 'P'\n\\item 'Q'\n\\item 'R'\n\\item 'S'\n\\item 'T'\n\\item 'U'\n\\item 'V'\n\\item 'W'\n\\item 'X'\n\\item 'Y'\n\\item 'Z'\n\\end{enumerate*}\n",
            "text/plain": [
              " [1] \"A\" \"B\" \"C\" \"D\" \"E\" \"F\" \"G\" \"H\" \"I\" \"J\" \"K\" \"L\" \"M\" \"N\" \"O\" \"P\" \"Q\" \"R\" \"S\"\n",
              "[20] \"T\" \"U\" \"V\" \"W\" \"X\" \"Y\" \"Z\""
            ]
          },
          "metadata": {}
        }
      ]
    },
    {
      "cell_type": "code",
      "source": [],
      "metadata": {
        "colab": {
          "base_uri": "https://localhost:8080/",
          "height": 103
        },
        "id": "niVGDnKd9Yu2",
        "outputId": "f7d21392-0e1a-46d7-c488-47bbd73252bb"
      },
      "execution_count": 19,
      "outputs": [
        {
          "output_type": "error",
          "ename": "ERROR",
          "evalue": "ignored",
          "traceback": [
            "Error in eval(expr, envir, enclos): object 'item1' not found\nTraceback:\n"
          ]
        }
      ]
    },
    {
      "cell_type": "code",
      "source": [
        "str(lists)\n",
        "str(matrixs)\n",
        "str(df)"
      ],
      "metadata": {
        "colab": {
          "base_uri": "https://localhost:8080/"
        },
        "id": "5J8tYph79Yss",
        "outputId": "4972ed3e-0352-43f2-df9e-f193d0a2d758"
      },
      "execution_count": 23,
      "outputs": [
        {
          "output_type": "stream",
          "name": "stdout",
          "text": [
            "List of 2\n",
            " $ item1: int [1:10] 1 2 3 4 5 6 7 8 9 10\n",
            " $ itme2: chr [1:18] \"A\" \"B\" \"C\" \"D\" ...\n",
            " int [1:4, 1:3] 1 2 3 4 5 6 7 8 9 10 ...\n",
            "'data.frame':\t10 obs. of  2 variables:\n",
            " $ item1: int  1 2 3 4 5 6 7 8 9 10\n",
            " $ item2: chr  \"A\" \"B\" \"C\" \"D\" ...\n"
          ]
        }
      ]
    },
    {
      "cell_type": "markdown",
      "source": [
        "# Vector\n",
        "- integer\n",
        "- double\n",
        "- logical\n",
        "- character"
      ],
      "metadata": {
        "id": "_OaFeU6C-uaT"
      }
    },
    {
      "cell_type": "code",
      "source": [
        "vec_integer = 8:17\n",
        "str(vec_integer)"
      ],
      "metadata": {
        "colab": {
          "base_uri": "https://localhost:8080/"
        },
        "id": "PAapu6os-31Z",
        "outputId": "3c23a4e0-7c28-4496-f3dc-fa305e4111af"
      },
      "execution_count": 24,
      "outputs": [
        {
          "output_type": "stream",
          "name": "stdout",
          "text": [
            " int [1:10] 8 9 10 11 12 13 14 15 16 17\n"
          ]
        }
      ]
    },
    {
      "cell_type": "code",
      "source": [
        "typeof(vec_integer)\n",
        "class(vec_integer)\n",
        "length(vec_integer)\n",
        "nchar(vec_integer)"
      ],
      "metadata": {
        "colab": {
          "base_uri": "https://localhost:8080/",
          "height": 82
        },
        "id": "bujA1rmr-9Pn",
        "outputId": "a80fea8d-8899-4ff7-a589-a5b437bd6db6"
      },
      "execution_count": 26,
      "outputs": [
        {
          "output_type": "display_data",
          "data": {
            "text/html": [
              "'integer'"
            ],
            "text/markdown": "'integer'",
            "text/latex": "'integer'",
            "text/plain": [
              "[1] \"integer\""
            ]
          },
          "metadata": {}
        },
        {
          "output_type": "display_data",
          "data": {
            "text/html": [
              "'integer'"
            ],
            "text/markdown": "'integer'",
            "text/latex": "'integer'",
            "text/plain": [
              "[1] \"integer\""
            ]
          },
          "metadata": {}
        },
        {
          "output_type": "display_data",
          "data": {
            "text/html": [
              "10"
            ],
            "text/markdown": "10",
            "text/latex": "10",
            "text/plain": [
              "[1] 10"
            ]
          },
          "metadata": {}
        },
        {
          "output_type": "display_data",
          "data": {
            "text/html": [
              "<style>\n",
              ".list-inline {list-style: none; margin:0; padding: 0}\n",
              ".list-inline>li {display: inline-block}\n",
              ".list-inline>li:not(:last-child)::after {content: \"\\00b7\"; padding: 0 .5ex}\n",
              "</style>\n",
              "<ol class=list-inline><li>1</li><li>1</li><li>2</li><li>2</li><li>2</li><li>2</li><li>2</li><li>2</li><li>2</li><li>2</li></ol>\n"
            ],
            "text/markdown": "1. 1\n2. 1\n3. 2\n4. 2\n5. 2\n6. 2\n7. 2\n8. 2\n9. 2\n10. 2\n\n\n",
            "text/latex": "\\begin{enumerate*}\n\\item 1\n\\item 1\n\\item 2\n\\item 2\n\\item 2\n\\item 2\n\\item 2\n\\item 2\n\\item 2\n\\item 2\n\\end{enumerate*}\n",
            "text/plain": [
              " [1] 1 1 2 2 2 2 2 2 2 2"
            ]
          },
          "metadata": {}
        }
      ]
    },
    {
      "cell_type": "code",
      "source": [
        "vec_double = c(.5, .6, .2)\n",
        "str(vec_double)"
      ],
      "metadata": {
        "colab": {
          "base_uri": "https://localhost:8080/"
        },
        "id": "SQwOdtNz_Aiu",
        "outputId": "01f1e535-e997-4e43-c011-157704fee9a9"
      },
      "execution_count": 27,
      "outputs": [
        {
          "output_type": "stream",
          "name": "stdout",
          "text": [
            " num [1:3] 0.5 0.6 0.2\n"
          ]
        }
      ]
    },
    {
      "cell_type": "code",
      "source": [
        "typeof(vec_double)\n",
        "class(vec_double)\n",
        "length(vec_double)\n",
        "nchar(vec_double)"
      ],
      "metadata": {
        "colab": {
          "base_uri": "https://localhost:8080/",
          "height": 82
        },
        "id": "hGjKeYkP_Oqx",
        "outputId": "dda1e72a-0d1d-47e2-d4cf-2982c51c6d05"
      },
      "execution_count": 28,
      "outputs": [
        {
          "output_type": "display_data",
          "data": {
            "text/html": [
              "'double'"
            ],
            "text/markdown": "'double'",
            "text/latex": "'double'",
            "text/plain": [
              "[1] \"double\""
            ]
          },
          "metadata": {}
        },
        {
          "output_type": "display_data",
          "data": {
            "text/html": [
              "'numeric'"
            ],
            "text/markdown": "'numeric'",
            "text/latex": "'numeric'",
            "text/plain": [
              "[1] \"numeric\""
            ]
          },
          "metadata": {}
        },
        {
          "output_type": "display_data",
          "data": {
            "text/html": [
              "3"
            ],
            "text/markdown": "3",
            "text/latex": "3",
            "text/plain": [
              "[1] 3"
            ]
          },
          "metadata": {}
        },
        {
          "output_type": "display_data",
          "data": {
            "text/html": [
              "<style>\n",
              ".list-inline {list-style: none; margin:0; padding: 0}\n",
              ".list-inline>li {display: inline-block}\n",
              ".list-inline>li:not(:last-child)::after {content: \"\\00b7\"; padding: 0 .5ex}\n",
              "</style>\n",
              "<ol class=list-inline><li>3</li><li>3</li><li>3</li></ol>\n"
            ],
            "text/markdown": "1. 3\n2. 3\n3. 3\n\n\n",
            "text/latex": "\\begin{enumerate*}\n\\item 3\n\\item 3\n\\item 3\n\\end{enumerate*}\n",
            "text/plain": [
              "[1] 3 3 3"
            ]
          },
          "metadata": {}
        }
      ]
    },
    {
      "cell_type": "code",
      "source": [
        "vec_logical = c(TRUE, FALSE, TRUE)\n",
        "str(vec_logical)"
      ],
      "metadata": {
        "colab": {
          "base_uri": "https://localhost:8080/"
        },
        "id": "f-JoxPuY_R1X",
        "outputId": "e8fc084a-c6e5-4dc0-9611-b1265514cc4b"
      },
      "execution_count": 29,
      "outputs": [
        {
          "output_type": "stream",
          "name": "stdout",
          "text": [
            " logi [1:3] TRUE FALSE TRUE\n"
          ]
        }
      ]
    },
    {
      "cell_type": "code",
      "source": [
        "typeof(vec_logical)\n",
        "class(vec_logical)\n",
        "length(vec_logical)\n",
        "nchar(vec_logical)"
      ],
      "metadata": {
        "colab": {
          "base_uri": "https://localhost:8080/",
          "height": 82
        },
        "id": "QL4djiQJ_ZM_",
        "outputId": "83c0cb4e-676c-4a31-81f0-c9318fdc141d"
      },
      "execution_count": 30,
      "outputs": [
        {
          "output_type": "display_data",
          "data": {
            "text/html": [
              "'logical'"
            ],
            "text/markdown": "'logical'",
            "text/latex": "'logical'",
            "text/plain": [
              "[1] \"logical\""
            ]
          },
          "metadata": {}
        },
        {
          "output_type": "display_data",
          "data": {
            "text/html": [
              "'logical'"
            ],
            "text/markdown": "'logical'",
            "text/latex": "'logical'",
            "text/plain": [
              "[1] \"logical\""
            ]
          },
          "metadata": {}
        },
        {
          "output_type": "display_data",
          "data": {
            "text/html": [
              "3"
            ],
            "text/markdown": "3",
            "text/latex": "3",
            "text/plain": [
              "[1] 3"
            ]
          },
          "metadata": {}
        },
        {
          "output_type": "display_data",
          "data": {
            "text/html": [
              "<style>\n",
              ".list-inline {list-style: none; margin:0; padding: 0}\n",
              ".list-inline>li {display: inline-block}\n",
              ".list-inline>li:not(:last-child)::after {content: \"\\00b7\"; padding: 0 .5ex}\n",
              "</style>\n",
              "<ol class=list-inline><li>4</li><li>5</li><li>4</li></ol>\n"
            ],
            "text/markdown": "1. 4\n2. 5\n3. 4\n\n\n",
            "text/latex": "\\begin{enumerate*}\n\\item 4\n\\item 5\n\\item 4\n\\end{enumerate*}\n",
            "text/plain": [
              "[1] 4 5 4"
            ]
          },
          "metadata": {}
        }
      ]
    },
    {
      "cell_type": "code",
      "source": [
        "as.double(vec_logical)\n",
        "as.integer(vec_logical)"
      ],
      "metadata": {
        "colab": {
          "base_uri": "https://localhost:8080/",
          "height": 49
        },
        "id": "6-HLMHZ0_bht",
        "outputId": "83c2a1f2-6fc0-4055-8629-bc9113c4cafd"
      },
      "execution_count": 33,
      "outputs": [
        {
          "output_type": "display_data",
          "data": {
            "text/html": [
              "<style>\n",
              ".list-inline {list-style: none; margin:0; padding: 0}\n",
              ".list-inline>li {display: inline-block}\n",
              ".list-inline>li:not(:last-child)::after {content: \"\\00b7\"; padding: 0 .5ex}\n",
              "</style>\n",
              "<ol class=list-inline><li>1</li><li>0</li><li>1</li></ol>\n"
            ],
            "text/markdown": "1. 1\n2. 0\n3. 1\n\n\n",
            "text/latex": "\\begin{enumerate*}\n\\item 1\n\\item 0\n\\item 1\n\\end{enumerate*}\n",
            "text/plain": [
              "[1] 1 0 1"
            ]
          },
          "metadata": {}
        },
        {
          "output_type": "display_data",
          "data": {
            "text/html": [
              "<style>\n",
              ".list-inline {list-style: none; margin:0; padding: 0}\n",
              ".list-inline>li {display: inline-block}\n",
              ".list-inline>li:not(:last-child)::after {content: \"\\00b7\"; padding: 0 .5ex}\n",
              "</style>\n",
              "<ol class=list-inline><li>1</li><li>0</li><li>1</li></ol>\n"
            ],
            "text/markdown": "1. 1\n2. 0\n3. 1\n\n\n",
            "text/latex": "\\begin{enumerate*}\n\\item 1\n\\item 0\n\\item 1\n\\end{enumerate*}\n",
            "text/plain": [
              "[1] 1 0 1"
            ]
          },
          "metadata": {}
        }
      ]
    },
    {
      "cell_type": "code",
      "source": [
        "as.logical(vec_double)\n",
        "as.logical(vec_integer)"
      ],
      "metadata": {
        "colab": {
          "base_uri": "https://localhost:8080/",
          "height": 49
        },
        "id": "5YHYbeYD_dwA",
        "outputId": "693c8fbf-0017-4720-cf46-07949b28aa79"
      },
      "execution_count": 35,
      "outputs": [
        {
          "output_type": "display_data",
          "data": {
            "text/html": [
              "<style>\n",
              ".list-inline {list-style: none; margin:0; padding: 0}\n",
              ".list-inline>li {display: inline-block}\n",
              ".list-inline>li:not(:last-child)::after {content: \"\\00b7\"; padding: 0 .5ex}\n",
              "</style>\n",
              "<ol class=list-inline><li>TRUE</li><li>TRUE</li><li>TRUE</li></ol>\n"
            ],
            "text/markdown": "1. TRUE\n2. TRUE\n3. TRUE\n\n\n",
            "text/latex": "\\begin{enumerate*}\n\\item TRUE\n\\item TRUE\n\\item TRUE\n\\end{enumerate*}\n",
            "text/plain": [
              "[1] TRUE TRUE TRUE"
            ]
          },
          "metadata": {}
        },
        {
          "output_type": "display_data",
          "data": {
            "text/html": [
              "<style>\n",
              ".list-inline {list-style: none; margin:0; padding: 0}\n",
              ".list-inline>li {display: inline-block}\n",
              ".list-inline>li:not(:last-child)::after {content: \"\\00b7\"; padding: 0 .5ex}\n",
              "</style>\n",
              "<ol class=list-inline><li>TRUE</li><li>TRUE</li><li>TRUE</li><li>TRUE</li><li>TRUE</li><li>TRUE</li><li>TRUE</li><li>TRUE</li><li>TRUE</li><li>TRUE</li></ol>\n"
            ],
            "text/markdown": "1. TRUE\n2. TRUE\n3. TRUE\n4. TRUE\n5. TRUE\n6. TRUE\n7. TRUE\n8. TRUE\n9. TRUE\n10. TRUE\n\n\n",
            "text/latex": "\\begin{enumerate*}\n\\item TRUE\n\\item TRUE\n\\item TRUE\n\\item TRUE\n\\item TRUE\n\\item TRUE\n\\item TRUE\n\\item TRUE\n\\item TRUE\n\\item TRUE\n\\end{enumerate*}\n",
            "text/plain": [
              " [1] TRUE TRUE TRUE TRUE TRUE TRUE TRUE TRUE TRUE TRUE"
            ]
          },
          "metadata": {}
        }
      ]
    },
    {
      "cell_type": "code",
      "source": [
        "vec_char = c('a', \"b\", 1, 2)\n",
        "str(vec_char)"
      ],
      "metadata": {
        "colab": {
          "base_uri": "https://localhost:8080/"
        },
        "id": "Dr8FSP3t_lCT",
        "outputId": "9fc6b29a-0dfb-4a64-94b2-d34e1d8d311f"
      },
      "execution_count": 36,
      "outputs": [
        {
          "output_type": "stream",
          "name": "stdout",
          "text": [
            " chr [1:4] \"a\" \"b\" \"1\" \"2\"\n"
          ]
        }
      ]
    },
    {
      "cell_type": "code",
      "source": [
        "typeof(vec_char)\n",
        "class(vec_char)"
      ],
      "metadata": {
        "colab": {
          "base_uri": "https://localhost:8080/",
          "height": 49
        },
        "id": "GjMT1QdX_wEX",
        "outputId": "c45e403e-e485-418f-a2a3-8af501917482"
      },
      "execution_count": 37,
      "outputs": [
        {
          "output_type": "display_data",
          "data": {
            "text/html": [
              "'character'"
            ],
            "text/markdown": "'character'",
            "text/latex": "'character'",
            "text/plain": [
              "[1] \"character\""
            ]
          },
          "metadata": {}
        },
        {
          "output_type": "display_data",
          "data": {
            "text/html": [
              "'character'"
            ],
            "text/markdown": "'character'",
            "text/latex": "'character'",
            "text/plain": [
              "[1] \"character\""
            ]
          },
          "metadata": {}
        }
      ]
    },
    {
      "cell_type": "code",
      "source": [
        "vec_num = c(1, 2, TRUE, FALSE)\n",
        "str(vec_num)"
      ],
      "metadata": {
        "colab": {
          "base_uri": "https://localhost:8080/"
        },
        "id": "ELwALidq_y8_",
        "outputId": "af950db6-ff65-410c-cfb6-d89bbed3905d"
      },
      "execution_count": 38,
      "outputs": [
        {
          "output_type": "stream",
          "name": "stdout",
          "text": [
            " num [1:4] 1 2 1 0\n"
          ]
        }
      ]
    },
    {
      "cell_type": "code",
      "source": [
        "typeof(vec_num)\n",
        "class(vec_num)"
      ],
      "metadata": {
        "colab": {
          "base_uri": "https://localhost:8080/",
          "height": 49
        },
        "id": "J6W4vemk_9DH",
        "outputId": "77ea190b-630c-4386-ec61-b405ecadbe2f"
      },
      "execution_count": 39,
      "outputs": [
        {
          "output_type": "display_data",
          "data": {
            "text/html": [
              "'double'"
            ],
            "text/markdown": "'double'",
            "text/latex": "'double'",
            "text/plain": [
              "[1] \"double\""
            ]
          },
          "metadata": {}
        },
        {
          "output_type": "display_data",
          "data": {
            "text/html": [
              "'numeric'"
            ],
            "text/markdown": "'numeric'",
            "text/latex": "'numeric'",
            "text/plain": [
              "[1] \"numeric\""
            ]
          },
          "metadata": {}
        }
      ]
    },
    {
      "cell_type": "code",
      "source": [
        "vec_log = c('a', 'b', TRUE, FALSE)\n",
        "str(vec_log)"
      ],
      "metadata": {
        "colab": {
          "base_uri": "https://localhost:8080/"
        },
        "id": "RTkblnr-AAkM",
        "outputId": "57ba7c52-aac9-4b33-a0cc-c737a806a753"
      },
      "execution_count": 40,
      "outputs": [
        {
          "output_type": "stream",
          "name": "stdout",
          "text": [
            " chr [1:4] \"a\" \"b\" \"TRUE\" \"FALSE\"\n"
          ]
        }
      ]
    },
    {
      "cell_type": "code",
      "source": [
        "vec = 15:24\n",
        "c(vec, 10:14)\n",
        "vec[15]\n",
        "vec[1:5]"
      ],
      "metadata": {
        "colab": {
          "base_uri": "https://localhost:8080/",
          "height": 65
        },
        "id": "Au9FJxgLAPo8",
        "outputId": "d71ff96e-f2e4-40f2-c1ee-6098786dfe66"
      },
      "execution_count": 42,
      "outputs": [
        {
          "output_type": "display_data",
          "data": {
            "text/html": [
              "<style>\n",
              ".list-inline {list-style: none; margin:0; padding: 0}\n",
              ".list-inline>li {display: inline-block}\n",
              ".list-inline>li:not(:last-child)::after {content: \"\\00b7\"; padding: 0 .5ex}\n",
              "</style>\n",
              "<ol class=list-inline><li>15</li><li>16</li><li>17</li><li>18</li><li>19</li><li>20</li><li>21</li><li>22</li><li>23</li><li>24</li><li>10</li><li>11</li><li>12</li><li>13</li><li>14</li></ol>\n"
            ],
            "text/markdown": "1. 15\n2. 16\n3. 17\n4. 18\n5. 19\n6. 20\n7. 21\n8. 22\n9. 23\n10. 24\n11. 10\n12. 11\n13. 12\n14. 13\n15. 14\n\n\n",
            "text/latex": "\\begin{enumerate*}\n\\item 15\n\\item 16\n\\item 17\n\\item 18\n\\item 19\n\\item 20\n\\item 21\n\\item 22\n\\item 23\n\\item 24\n\\item 10\n\\item 11\n\\item 12\n\\item 13\n\\item 14\n\\end{enumerate*}\n",
            "text/plain": [
              " [1] 15 16 17 18 19 20 21 22 23 24 10 11 12 13 14"
            ]
          },
          "metadata": {}
        },
        {
          "output_type": "display_data",
          "data": {
            "text/html": [
              "&lt;NA&gt;"
            ],
            "text/markdown": "&lt;NA&gt;",
            "text/latex": "<NA>",
            "text/plain": [
              "[1] NA"
            ]
          },
          "metadata": {}
        },
        {
          "output_type": "display_data",
          "data": {
            "text/html": [
              "<style>\n",
              ".list-inline {list-style: none; margin:0; padding: 0}\n",
              ".list-inline>li {display: inline-block}\n",
              ".list-inline>li:not(:last-child)::after {content: \"\\00b7\"; padding: 0 .5ex}\n",
              "</style>\n",
              "<ol class=list-inline><li>15</li><li>16</li><li>17</li><li>18</li><li>19</li></ol>\n"
            ],
            "text/markdown": "1. 15\n2. 16\n3. 17\n4. 18\n5. 19\n\n\n",
            "text/latex": "\\begin{enumerate*}\n\\item 15\n\\item 16\n\\item 17\n\\item 18\n\\item 19\n\\end{enumerate*}\n",
            "text/plain": [
              "[1] 15 16 17 18 19"
            ]
          },
          "metadata": {}
        }
      ]
    },
    {
      "cell_type": "code",
      "source": [
        "vec[c(1, 3, 5)]\n",
        "vec[seq(1, 15, 3)]"
      ],
      "metadata": {
        "colab": {
          "base_uri": "https://localhost:8080/",
          "height": 49
        },
        "id": "-FGu85V6AgDn",
        "outputId": "28ff4d08-12f5-4912-ac7e-3b9af887c2ac"
      },
      "execution_count": 44,
      "outputs": [
        {
          "output_type": "display_data",
          "data": {
            "text/html": [
              "<style>\n",
              ".list-inline {list-style: none; margin:0; padding: 0}\n",
              ".list-inline>li {display: inline-block}\n",
              ".list-inline>li:not(:last-child)::after {content: \"\\00b7\"; padding: 0 .5ex}\n",
              "</style>\n",
              "<ol class=list-inline><li>15</li><li>17</li><li>19</li></ol>\n"
            ],
            "text/markdown": "1. 15\n2. 17\n3. 19\n\n\n",
            "text/latex": "\\begin{enumerate*}\n\\item 15\n\\item 17\n\\item 19\n\\end{enumerate*}\n",
            "text/plain": [
              "[1] 15 17 19"
            ]
          },
          "metadata": {}
        },
        {
          "output_type": "display_data",
          "data": {
            "text/html": [
              "<style>\n",
              ".list-inline {list-style: none; margin:0; padding: 0}\n",
              ".list-inline>li {display: inline-block}\n",
              ".list-inline>li:not(:last-child)::after {content: \"\\00b7\"; padding: 0 .5ex}\n",
              "</style>\n",
              "<ol class=list-inline><li>15</li><li>18</li><li>21</li><li>24</li><li>&lt;NA&gt;</li></ol>\n"
            ],
            "text/markdown": "1. 15\n2. 18\n3. 21\n4. 24\n5. &lt;NA&gt;\n\n\n",
            "text/latex": "\\begin{enumerate*}\n\\item 15\n\\item 18\n\\item 21\n\\item 24\n\\item <NA>\n\\end{enumerate*}\n",
            "text/plain": [
              "[1] 15 18 21 24 NA"
            ]
          },
          "metadata": {}
        }
      ]
    },
    {
      "cell_type": "code",
      "source": [
        "vec[-1] # 해당 순서 빼고\n",
        "vec[0] # 아무것도 출력 안됨."
      ],
      "metadata": {
        "colab": {
          "base_uri": "https://localhost:8080/",
          "height": 32
        },
        "id": "-fs1B2ggAqVq",
        "outputId": "f7fd100a-c041-4653-bec5-9bcc105e7916"
      },
      "execution_count": 46,
      "outputs": [
        {
          "output_type": "display_data",
          "data": {
            "text/html": [
              "<style>\n",
              ".list-inline {list-style: none; margin:0; padding: 0}\n",
              ".list-inline>li {display: inline-block}\n",
              ".list-inline>li:not(:last-child)::after {content: \"\\00b7\"; padding: 0 .5ex}\n",
              "</style>\n",
              "<ol class=list-inline><li>16</li><li>17</li><li>18</li><li>19</li><li>20</li><li>21</li><li>22</li><li>23</li><li>24</li></ol>\n"
            ],
            "text/markdown": "1. 16\n2. 17\n3. 18\n4. 19\n5. 20\n6. 21\n7. 22\n8. 23\n9. 24\n\n\n",
            "text/latex": "\\begin{enumerate*}\n\\item 16\n\\item 17\n\\item 18\n\\item 19\n\\item 20\n\\item 21\n\\item 22\n\\item 23\n\\item 24\n\\end{enumerate*}\n",
            "text/plain": [
              "[1] 16 17 18 19 20 21 22 23 24"
            ]
          },
          "metadata": {}
        },
        {
          "output_type": "display_data",
          "data": {
            "text/html": [],
            "text/markdown": "",
            "text/latex": "",
            "text/plain": [
              "integer(0)"
            ]
          },
          "metadata": {}
        }
      ]
    },
    {
      "cell_type": "code",
      "source": [
        "vec[-1:-5]"
      ],
      "metadata": {
        "colab": {
          "base_uri": "https://localhost:8080/",
          "height": 32
        },
        "id": "NQpzc2MYBV-N",
        "outputId": "af51c36e-ac56-4de6-f869-170b324f477e"
      },
      "execution_count": 58,
      "outputs": [
        {
          "output_type": "display_data",
          "data": {
            "text/html": [
              "<style>\n",
              ".list-inline {list-style: none; margin:0; padding: 0}\n",
              ".list-inline>li {display: inline-block}\n",
              ".list-inline>li:not(:last-child)::after {content: \"\\00b7\"; padding: 0 .5ex}\n",
              "</style>\n",
              "<ol class=list-inline><li>20</li><li>21</li><li>22</li><li>23</li><li>24</li></ol>\n"
            ],
            "text/markdown": "1. 20\n2. 21\n3. 22\n4. 23\n5. 24\n\n\n",
            "text/latex": "\\begin{enumerate*}\n\\item 20\n\\item 21\n\\item 22\n\\item 23\n\\item 24\n\\end{enumerate*}\n",
            "text/plain": [
              "[1] 20 21 22 23 24"
            ]
          },
          "metadata": {}
        }
      ]
    },
    {
      "cell_type": "code",
      "source": [
        "vec[vec<20 & 18<=vec] # and\n",
        "vec[vec<16 | 22<vec] # or"
      ],
      "metadata": {
        "colab": {
          "base_uri": "https://localhost:8080/",
          "height": 49
        },
        "id": "-SHW8JvwA10S",
        "outputId": "ec417671-ec89-4d3e-fb32-3642e2bfaba2"
      },
      "execution_count": 54,
      "outputs": [
        {
          "output_type": "display_data",
          "data": {
            "text/html": [
              "<style>\n",
              ".list-inline {list-style: none; margin:0; padding: 0}\n",
              ".list-inline>li {display: inline-block}\n",
              ".list-inline>li:not(:last-child)::after {content: \"\\00b7\"; padding: 0 .5ex}\n",
              "</style>\n",
              "<ol class=list-inline><li>18</li><li>19</li></ol>\n"
            ],
            "text/markdown": "1. 18\n2. 19\n\n\n",
            "text/latex": "\\begin{enumerate*}\n\\item 18\n\\item 19\n\\end{enumerate*}\n",
            "text/plain": [
              "[1] 18 19"
            ]
          },
          "metadata": {}
        },
        {
          "output_type": "display_data",
          "data": {
            "text/html": [
              "<style>\n",
              ".list-inline {list-style: none; margin:0; padding: 0}\n",
              ".list-inline>li {display: inline-block}\n",
              ".list-inline>li:not(:last-child)::after {content: \"\\00b7\"; padding: 0 .5ex}\n",
              "</style>\n",
              "<ol class=list-inline><li>15</li><li>23</li><li>24</li></ol>\n"
            ],
            "text/markdown": "1. 15\n2. 23\n3. 24\n\n\n",
            "text/latex": "\\begin{enumerate*}\n\\item 15\n\\item 23\n\\item 24\n\\end{enumerate*}\n",
            "text/plain": [
              "[1] 15 23 24"
            ]
          },
          "metadata": {}
        }
      ]
    },
    {
      "cell_type": "markdown",
      "source": [
        "# List\n",
        "\n",
        "element간 타입 or 길이 달라도 결합 가능"
      ],
      "metadata": {
        "id": "WexmMeQ3BLSC"
      }
    },
    {
      "cell_type": "code",
      "source": [
        "round(runif(1:5, min=0, max=1) * 10, digits=2)"
      ],
      "metadata": {
        "colab": {
          "base_uri": "https://localhost:8080/",
          "height": 32
        },
        "id": "WRE3cvQdBnBb",
        "outputId": "3717cebc-aba3-4bbe-9b04-1563f6eb6fcb"
      },
      "execution_count": 69,
      "outputs": [
        {
          "output_type": "display_data",
          "data": {
            "text/html": [
              "<style>\n",
              ".list-inline {list-style: none; margin:0; padding: 0}\n",
              ".list-inline>li {display: inline-block}\n",
              ".list-inline>li:not(:last-child)::after {content: \"\\00b7\"; padding: 0 .5ex}\n",
              "</style>\n",
              "<ol class=list-inline><li>9.15</li><li>2.93</li><li>3.42</li><li>1.16</li><li>9.87</li></ol>\n"
            ],
            "text/markdown": "1. 9.15\n2. 2.93\n3. 3.42\n4. 1.16\n5. 9.87\n\n\n",
            "text/latex": "\\begin{enumerate*}\n\\item 9.15\n\\item 2.93\n\\item 3.42\n\\item 1.16\n\\item 9.87\n\\end{enumerate*}\n",
            "text/plain": [
              "[1] 9.15 2.93 3.42 1.16 9.87"
            ]
          },
          "metadata": {}
        }
      ]
    },
    {
      "cell_type": "code",
      "source": [
        "x = round(runif(1:5) * 10, digits=2)\n",
        "li = list(x, c(TRUE, FALSE), LETTERS[-1:-24])\n",
        "str(li)"
      ],
      "metadata": {
        "colab": {
          "base_uri": "https://localhost:8080/"
        },
        "id": "DJ08rV5dBgth",
        "outputId": "ec26de7a-7da5-4215-a764-02e6e6fa18f3"
      },
      "execution_count": 70,
      "outputs": [
        {
          "output_type": "stream",
          "name": "stdout",
          "text": [
            "List of 3\n",
            " $ : num [1:5] 3.67 7.45 7.51 9.26 3.74\n",
            " $ : logi [1:2] TRUE FALSE\n",
            " $ : chr [1:2] \"Y\" \"Z\"\n"
          ]
        }
      ]
    },
    {
      "cell_type": "code",
      "source": [
        "class(li)\n",
        "typeof(li)\n",
        "length(li)\n",
        "nchar(li)"
      ],
      "metadata": {
        "colab": {
          "base_uri": "https://localhost:8080/",
          "height": 82
        },
        "id": "3oQfoymRCIEi",
        "outputId": "a3b7eea5-04a8-449a-bce5-585f3d4ee2c7"
      },
      "execution_count": 72,
      "outputs": [
        {
          "output_type": "display_data",
          "data": {
            "text/html": [
              "'list'"
            ],
            "text/markdown": "'list'",
            "text/latex": "'list'",
            "text/plain": [
              "[1] \"list\""
            ]
          },
          "metadata": {}
        },
        {
          "output_type": "display_data",
          "data": {
            "text/html": [
              "'list'"
            ],
            "text/markdown": "'list'",
            "text/latex": "'list'",
            "text/plain": [
              "[1] \"list\""
            ]
          },
          "metadata": {}
        },
        {
          "output_type": "display_data",
          "data": {
            "text/html": [
              "3"
            ],
            "text/markdown": "3",
            "text/latex": "3",
            "text/plain": [
              "[1] 3"
            ]
          },
          "metadata": {}
        },
        {
          "output_type": "display_data",
          "data": {
            "text/html": [
              "<style>\n",
              ".list-inline {list-style: none; margin:0; padding: 0}\n",
              ".list-inline>li {display: inline-block}\n",
              ".list-inline>li:not(:last-child)::after {content: \"\\00b7\"; padding: 0 .5ex}\n",
              "</style>\n",
              "<ol class=list-inline><li>31</li><li>14</li><li>11</li></ol>\n"
            ],
            "text/markdown": "1. 31\n2. 14\n3. 11\n\n\n",
            "text/latex": "\\begin{enumerate*}\n\\item 31\n\\item 14\n\\item 11\n\\end{enumerate*}\n",
            "text/plain": [
              "[1] 31 14 11"
            ]
          },
          "metadata": {}
        }
      ]
    },
    {
      "cell_type": "code",
      "source": [
        "li2 = append(li, c(1,.5))"
      ],
      "metadata": {
        "id": "Zms7ayDoCcuy"
      },
      "execution_count": 73,
      "outputs": []
    },
    {
      "cell_type": "code",
      "source": [
        "li2"
      ],
      "metadata": {
        "colab": {
          "base_uri": "https://localhost:8080/",
          "height": 127
        },
        "id": "yiK7OcdnCuOL",
        "outputId": "108ef2d3-5e05-46d3-f3b3-2720d4740be1"
      },
      "execution_count": 74,
      "outputs": [
        {
          "output_type": "display_data",
          "data": {
            "text/html": [
              "<ol>\n",
              "\t<li><style>\n",
              ".list-inline {list-style: none; margin:0; padding: 0}\n",
              ".list-inline>li {display: inline-block}\n",
              ".list-inline>li:not(:last-child)::after {content: \"\\00b7\"; padding: 0 .5ex}\n",
              "</style>\n",
              "<ol class=list-inline><li>3.67</li><li>7.45</li><li>7.51</li><li>9.26</li><li>3.74</li></ol>\n",
              "</li>\n",
              "\t<li><style>\n",
              ".list-inline {list-style: none; margin:0; padding: 0}\n",
              ".list-inline>li {display: inline-block}\n",
              ".list-inline>li:not(:last-child)::after {content: \"\\00b7\"; padding: 0 .5ex}\n",
              "</style>\n",
              "<ol class=list-inline><li>TRUE</li><li>FALSE</li></ol>\n",
              "</li>\n",
              "\t<li><style>\n",
              ".list-inline {list-style: none; margin:0; padding: 0}\n",
              ".list-inline>li {display: inline-block}\n",
              ".list-inline>li:not(:last-child)::after {content: \"\\00b7\"; padding: 0 .5ex}\n",
              "</style>\n",
              "<ol class=list-inline><li>'Y'</li><li>'Z'</li></ol>\n",
              "</li>\n",
              "\t<li>1</li>\n",
              "\t<li>0.5</li>\n",
              "</ol>\n"
            ],
            "text/markdown": "1. 1. 3.67\n2. 7.45\n3. 7.51\n4. 9.26\n5. 3.74\n\n\n\n2. 1. TRUE\n2. FALSE\n\n\n\n3. 1. 'Y'\n2. 'Z'\n\n\n\n4. 1\n5. 0.5\n\n\n",
            "text/latex": "\\begin{enumerate}\n\\item \\begin{enumerate*}\n\\item 3.67\n\\item 7.45\n\\item 7.51\n\\item 9.26\n\\item 3.74\n\\end{enumerate*}\n\n\\item \\begin{enumerate*}\n\\item TRUE\n\\item FALSE\n\\end{enumerate*}\n\n\\item \\begin{enumerate*}\n\\item 'Y'\n\\item 'Z'\n\\end{enumerate*}\n\n\\item 1\n\\item 0.5\n\\end{enumerate}\n",
            "text/plain": [
              "[[1]]\n",
              "[1] 3.67 7.45 7.51 9.26 3.74\n",
              "\n",
              "[[2]]\n",
              "[1]  TRUE FALSE\n",
              "\n",
              "[[3]]\n",
              "[1] \"Y\" \"Z\"\n",
              "\n",
              "[[4]]\n",
              "[1] 1\n",
              "\n",
              "[[5]]\n",
              "[1] 0.5\n"
            ]
          },
          "metadata": {}
        }
      ]
    },
    {
      "cell_type": "code",
      "source": [
        "li3 = append(li2, list(list(c(TRUE, FALSE))))\n",
        "li3"
      ],
      "metadata": {
        "colab": {
          "base_uri": "https://localhost:8080/",
          "height": 143
        },
        "id": "4N3TYqgvCvJv",
        "outputId": "5e777b4b-92ec-42e6-ef91-49ca0a6dd382"
      },
      "execution_count": 75,
      "outputs": [
        {
          "output_type": "display_data",
          "data": {
            "text/html": [
              "<ol>\n",
              "\t<li><style>\n",
              ".list-inline {list-style: none; margin:0; padding: 0}\n",
              ".list-inline>li {display: inline-block}\n",
              ".list-inline>li:not(:last-child)::after {content: \"\\00b7\"; padding: 0 .5ex}\n",
              "</style>\n",
              "<ol class=list-inline><li>3.67</li><li>7.45</li><li>7.51</li><li>9.26</li><li>3.74</li></ol>\n",
              "</li>\n",
              "\t<li><style>\n",
              ".list-inline {list-style: none; margin:0; padding: 0}\n",
              ".list-inline>li {display: inline-block}\n",
              ".list-inline>li:not(:last-child)::after {content: \"\\00b7\"; padding: 0 .5ex}\n",
              "</style>\n",
              "<ol class=list-inline><li>TRUE</li><li>FALSE</li></ol>\n",
              "</li>\n",
              "\t<li><style>\n",
              ".list-inline {list-style: none; margin:0; padding: 0}\n",
              ".list-inline>li {display: inline-block}\n",
              ".list-inline>li:not(:last-child)::after {content: \"\\00b7\"; padding: 0 .5ex}\n",
              "</style>\n",
              "<ol class=list-inline><li>'Y'</li><li>'Z'</li></ol>\n",
              "</li>\n",
              "\t<li>1</li>\n",
              "\t<li>0.5</li>\n",
              "\t<li><ol>\n",
              "\t<li><style>\n",
              ".list-inline {list-style: none; margin:0; padding: 0}\n",
              ".list-inline>li {display: inline-block}\n",
              ".list-inline>li:not(:last-child)::after {content: \"\\00b7\"; padding: 0 .5ex}\n",
              "</style>\n",
              "<ol class=list-inline><li>TRUE</li><li>FALSE</li></ol>\n",
              "</li>\n",
              "</ol>\n",
              "</li>\n",
              "</ol>\n"
            ],
            "text/markdown": "1. 1. 3.67\n2. 7.45\n3. 7.51\n4. 9.26\n5. 3.74\n\n\n\n2. 1. TRUE\n2. FALSE\n\n\n\n3. 1. 'Y'\n2. 'Z'\n\n\n\n4. 1\n5. 0.5\n6. 1. 1. TRUE\n2. FALSE\n\n\n\n\n\n\n\n\n",
            "text/latex": "\\begin{enumerate}\n\\item \\begin{enumerate*}\n\\item 3.67\n\\item 7.45\n\\item 7.51\n\\item 9.26\n\\item 3.74\n\\end{enumerate*}\n\n\\item \\begin{enumerate*}\n\\item TRUE\n\\item FALSE\n\\end{enumerate*}\n\n\\item \\begin{enumerate*}\n\\item 'Y'\n\\item 'Z'\n\\end{enumerate*}\n\n\\item 1\n\\item 0.5\n\\item \\begin{enumerate}\n\\item \\begin{enumerate*}\n\\item TRUE\n\\item FALSE\n\\end{enumerate*}\n\n\\end{enumerate}\n\n\\end{enumerate}\n",
            "text/plain": [
              "[[1]]\n",
              "[1] 3.67 7.45 7.51 9.26 3.74\n",
              "\n",
              "[[2]]\n",
              "[1]  TRUE FALSE\n",
              "\n",
              "[[3]]\n",
              "[1] \"Y\" \"Z\"\n",
              "\n",
              "[[4]]\n",
              "[1] 1\n",
              "\n",
              "[[5]]\n",
              "[1] 0.5\n",
              "\n",
              "[[6]]\n",
              "[[6]][[1]]\n",
              "[1]  TRUE FALSE\n",
              "\n"
            ]
          },
          "metadata": {}
        }
      ]
    },
    {
      "cell_type": "code",
      "source": [
        "str(li3)"
      ],
      "metadata": {
        "colab": {
          "base_uri": "https://localhost:8080/"
        },
        "id": "83SCjQ6_C26N",
        "outputId": "1f4f43b9-ea90-42b3-bf55-14a4d78e0a52"
      },
      "execution_count": 76,
      "outputs": [
        {
          "output_type": "stream",
          "name": "stdout",
          "text": [
            "List of 6\n",
            " $ : num [1:5] 3.67 7.45 7.51 9.26 3.74\n",
            " $ : logi [1:2] TRUE FALSE\n",
            " $ : chr [1:2] \"Y\" \"Z\"\n",
            " $ : num 1\n",
            " $ : num 0.5\n",
            " $ :List of 1\n",
            "  ..$ : logi [1:2] TRUE FALSE\n"
          ]
        }
      ]
    },
    {
      "cell_type": "code",
      "source": [
        "# $ append 역할.\n",
        "li3$item4 = 'new list items'\n",
        "str(li3)"
      ],
      "metadata": {
        "colab": {
          "base_uri": "https://localhost:8080/"
        },
        "id": "4uxBSr_sC4XQ",
        "outputId": "89d5da0c-e600-4604-fa8e-ce145dfc65c5"
      },
      "execution_count": 78,
      "outputs": [
        {
          "output_type": "stream",
          "name": "stdout",
          "text": [
            "List of 7\n",
            " $      : num [1:5] 3.67 7.45 7.51 9.26 3.74\n",
            " $      : logi [1:2] TRUE FALSE\n",
            " $      : chr [1:2] \"Y\" \"Z\"\n",
            " $      : num 1\n",
            " $      : num 0.5\n",
            " $      :List of 1\n",
            "  ..$ : logi [1:2] TRUE FALSE\n",
            " $ item4: chr \"new list items\"\n"
          ]
        }
      ]
    },
    {
      "cell_type": "code",
      "source": [
        "li3[length(li3)]"
      ],
      "metadata": {
        "colab": {
          "base_uri": "https://localhost:8080/",
          "height": 32
        },
        "id": "CTmVrx4jDHa0",
        "outputId": "55da5dff-3da6-4949-d444-758ddd91b29a"
      },
      "execution_count": 79,
      "outputs": [
        {
          "output_type": "display_data",
          "data": {
            "text/html": [
              "<strong>$item4</strong> = 'new list items'"
            ],
            "text/markdown": "**$item4** = 'new list items'",
            "text/latex": "\\textbf{\\$item4} = 'new list items'",
            "text/plain": [
              "$item4\n",
              "[1] \"new list items\"\n"
            ]
          },
          "metadata": {}
        }
      ]
    },
    {
      "cell_type": "code",
      "source": [
        "li3$item4"
      ],
      "metadata": {
        "colab": {
          "base_uri": "https://localhost:8080/",
          "height": 32
        },
        "id": "X6VUk5suDU1Z",
        "outputId": "e3643734-45e9-4a6d-c48f-f8d7d905e000"
      },
      "execution_count": 80,
      "outputs": [
        {
          "output_type": "display_data",
          "data": {
            "text/html": [
              "'new list items'"
            ],
            "text/markdown": "'new list items'",
            "text/latex": "'new list items'",
            "text/plain": [
              "[1] \"new list items\""
            ]
          },
          "metadata": {}
        }
      ]
    },
    {
      "cell_type": "code",
      "source": [
        "li3[6]\n",
        "li3[[6]]\n",
        "li3[[6]][2]"
      ],
      "metadata": {
        "colab": {
          "base_uri": "https://localhost:8080/",
          "height": 122
        },
        "id": "L_yr_znfDZYo",
        "outputId": "e5d2fbfb-0bc8-4f90-f611-db19dbfaa6b6"
      },
      "execution_count": 89,
      "outputs": [
        {
          "output_type": "display_data",
          "data": {
            "text/html": [
              "<ol>\n",
              "\t<li><ol>\n",
              "\t<li><style>\n",
              ".list-inline {list-style: none; margin:0; padding: 0}\n",
              ".list-inline>li {display: inline-block}\n",
              ".list-inline>li:not(:last-child)::after {content: \"\\00b7\"; padding: 0 .5ex}\n",
              "</style>\n",
              "<ol class=list-inline><li>TRUE</li><li>FALSE</li></ol>\n",
              "</li>\n",
              "</ol>\n",
              "</li>\n",
              "</ol>\n"
            ],
            "text/markdown": "1. 1. 1. TRUE\n2. FALSE\n\n\n\n\n\n\n\n\n",
            "text/latex": "\\begin{enumerate}\n\\item \\begin{enumerate}\n\\item \\begin{enumerate*}\n\\item TRUE\n\\item FALSE\n\\end{enumerate*}\n\n\\end{enumerate}\n\n\\end{enumerate}\n",
            "text/plain": [
              "[[1]]\n",
              "[[1]][[1]]\n",
              "[1]  TRUE FALSE\n",
              "\n"
            ]
          },
          "metadata": {}
        },
        {
          "output_type": "display_data",
          "data": {
            "text/html": [
              "<ol>\n",
              "\t<li><style>\n",
              ".list-inline {list-style: none; margin:0; padding: 0}\n",
              ".list-inline>li {display: inline-block}\n",
              ".list-inline>li:not(:last-child)::after {content: \"\\00b7\"; padding: 0 .5ex}\n",
              "</style>\n",
              "<ol class=list-inline><li>TRUE</li><li>FALSE</li></ol>\n",
              "</li>\n",
              "</ol>\n"
            ],
            "text/markdown": "1. 1. TRUE\n2. FALSE\n\n\n\n\n\n",
            "text/latex": "\\begin{enumerate}\n\\item \\begin{enumerate*}\n\\item TRUE\n\\item FALSE\n\\end{enumerate*}\n\n\\end{enumerate}\n",
            "text/plain": [
              "[[1]]\n",
              "[1]  TRUE FALSE\n"
            ]
          },
          "metadata": {}
        },
        {
          "output_type": "display_data",
          "data": {
            "text/html": [
              "<ol>\n",
              "\t<li>NULL</li>\n",
              "</ol>\n"
            ],
            "text/markdown": "1. NULL\n\n\n",
            "text/latex": "\\begin{enumerate}\n\\item NULL\n\\end{enumerate}\n",
            "text/plain": [
              "[[1]]\n",
              "NULL\n"
            ]
          },
          "metadata": {}
        }
      ]
    },
    {
      "cell_type": "markdown",
      "source": [
        "# Matrix"
      ],
      "metadata": {
        "id": "Bc9R9CILDv-5"
      }
    },
    {
      "cell_type": "code",
      "source": [
        "mat1 = matrix(1:6, nrow=2, ncol=3)\n",
        "mat2 = matrix(letters[1:6], 2, 3)\n",
        "mat1\n",
        "mat2"
      ],
      "metadata": {
        "colab": {
          "base_uri": "https://localhost:8080/",
          "height": 237
        },
        "id": "wbwNHhDUDxXv",
        "outputId": "49cf8c70-3c4f-414d-e241-66a49a038a51"
      },
      "execution_count": 90,
      "outputs": [
        {
          "output_type": "display_data",
          "data": {
            "text/html": [
              "<table class=\"dataframe\">\n",
              "<caption>A matrix: 2 × 3 of type int</caption>\n",
              "<tbody>\n",
              "\t<tr><td>1</td><td>3</td><td>5</td></tr>\n",
              "\t<tr><td>2</td><td>4</td><td>6</td></tr>\n",
              "</tbody>\n",
              "</table>\n"
            ],
            "text/markdown": "\nA matrix: 2 × 3 of type int\n\n| 1 | 3 | 5 |\n| 2 | 4 | 6 |\n\n",
            "text/latex": "A matrix: 2 × 3 of type int\n\\begin{tabular}{lll}\n\t 1 & 3 & 5\\\\\n\t 2 & 4 & 6\\\\\n\\end{tabular}\n",
            "text/plain": [
              "     [,1] [,2] [,3]\n",
              "[1,] 1    3    5   \n",
              "[2,] 2    4    6   "
            ]
          },
          "metadata": {}
        },
        {
          "output_type": "display_data",
          "data": {
            "text/html": [
              "<table class=\"dataframe\">\n",
              "<caption>A matrix: 2 × 3 of type chr</caption>\n",
              "<tbody>\n",
              "\t<tr><td>a</td><td>c</td><td>e</td></tr>\n",
              "\t<tr><td>b</td><td>d</td><td>f</td></tr>\n",
              "</tbody>\n",
              "</table>\n"
            ],
            "text/markdown": "\nA matrix: 2 × 3 of type chr\n\n| a | c | e |\n| b | d | f |\n\n",
            "text/latex": "A matrix: 2 × 3 of type chr\n\\begin{tabular}{lll}\n\t a & c & e\\\\\n\t b & d & f\\\\\n\\end{tabular}\n",
            "text/plain": [
              "     [,1] [,2] [,3]\n",
              "[1,] a    c    e   \n",
              "[2,] b    d    f   "
            ]
          },
          "metadata": {}
        }
      ]
    },
    {
      "cell_type": "code",
      "source": [
        "vec1 = 1:4\n",
        "vec2 = 5:8\n",
        "# combine by columns\n",
        "cbind(vec1, vec2)\n",
        "# combine by rows\n",
        "rbind(vec1, vec2)"
      ],
      "metadata": {
        "colab": {
          "base_uri": "https://localhost:8080/",
          "height": 297
        },
        "id": "3_JmWAucD-Ro",
        "outputId": "6962ddf4-a431-4826-f8a4-4dd565036dc6"
      },
      "execution_count": 93,
      "outputs": [
        {
          "output_type": "display_data",
          "data": {
            "text/html": [
              "<table class=\"dataframe\">\n",
              "<caption>A matrix: 4 × 2 of type int</caption>\n",
              "<thead>\n",
              "\t<tr><th scope=col>vec1</th><th scope=col>vec2</th></tr>\n",
              "</thead>\n",
              "<tbody>\n",
              "\t<tr><td>1</td><td>5</td></tr>\n",
              "\t<tr><td>2</td><td>6</td></tr>\n",
              "\t<tr><td>3</td><td>7</td></tr>\n",
              "\t<tr><td>4</td><td>8</td></tr>\n",
              "</tbody>\n",
              "</table>\n"
            ],
            "text/markdown": "\nA matrix: 4 × 2 of type int\n\n| vec1 | vec2 |\n|---|---|\n| 1 | 5 |\n| 2 | 6 |\n| 3 | 7 |\n| 4 | 8 |\n\n",
            "text/latex": "A matrix: 4 × 2 of type int\n\\begin{tabular}{ll}\n vec1 & vec2\\\\\n\\hline\n\t 1 & 5\\\\\n\t 2 & 6\\\\\n\t 3 & 7\\\\\n\t 4 & 8\\\\\n\\end{tabular}\n",
            "text/plain": [
              "     vec1 vec2\n",
              "[1,] 1    5   \n",
              "[2,] 2    6   \n",
              "[3,] 3    7   \n",
              "[4,] 4    8   "
            ]
          },
          "metadata": {}
        },
        {
          "output_type": "display_data",
          "data": {
            "text/html": [
              "<table class=\"dataframe\">\n",
              "<caption>A matrix: 2 × 4 of type int</caption>\n",
              "<tbody>\n",
              "\t<tr><th scope=row>vec1</th><td>1</td><td>2</td><td>3</td><td>4</td></tr>\n",
              "\t<tr><th scope=row>vec2</th><td>5</td><td>6</td><td>7</td><td>8</td></tr>\n",
              "</tbody>\n",
              "</table>\n"
            ],
            "text/markdown": "\nA matrix: 2 × 4 of type int\n\n| vec1 | 1 | 2 | 3 | 4 |\n| vec2 | 5 | 6 | 7 | 8 |\n\n",
            "text/latex": "A matrix: 2 × 4 of type int\n\\begin{tabular}{r|llll}\n\tvec1 & 1 & 2 & 3 & 4\\\\\n\tvec2 & 5 & 6 & 7 & 8\\\\\n\\end{tabular}\n",
            "text/plain": [
              "     [,1] [,2] [,3] [,4]\n",
              "vec1 1    2    3    4   \n",
              "vec2 5    6    7    8   "
            ]
          },
          "metadata": {}
        }
      ]
    },
    {
      "cell_type": "code",
      "source": [
        "cbind(cbind(vec1, vec2), 9:12)"
      ],
      "metadata": {
        "colab": {
          "base_uri": "https://localhost:8080/",
          "height": 203
        },
        "id": "BorrkomiEHQI",
        "outputId": "6d6f8357-ac83-4a36-a467-107ecb297494"
      },
      "execution_count": 94,
      "outputs": [
        {
          "output_type": "display_data",
          "data": {
            "text/html": [
              "<table class=\"dataframe\">\n",
              "<caption>A matrix: 4 × 3 of type int</caption>\n",
              "<thead>\n",
              "\t<tr><th scope=col>vec1</th><th scope=col>vec2</th><th scope=col></th></tr>\n",
              "</thead>\n",
              "<tbody>\n",
              "\t<tr><td>1</td><td>5</td><td> 9</td></tr>\n",
              "\t<tr><td>2</td><td>6</td><td>10</td></tr>\n",
              "\t<tr><td>3</td><td>7</td><td>11</td></tr>\n",
              "\t<tr><td>4</td><td>8</td><td>12</td></tr>\n",
              "</tbody>\n",
              "</table>\n"
            ],
            "text/markdown": "\nA matrix: 4 × 3 of type int\n\n| vec1 | vec2 | <!----> |\n|---|---|---|\n| 1 | 5 |  9 |\n| 2 | 6 | 10 |\n| 3 | 7 | 11 |\n| 4 | 8 | 12 |\n\n",
            "text/latex": "A matrix: 4 × 3 of type int\n\\begin{tabular}{lll}\n vec1 & vec2 & \\\\\n\\hline\n\t 1 & 5 &  9\\\\\n\t 2 & 6 & 10\\\\\n\t 3 & 7 & 11\\\\\n\t 4 & 8 & 12\\\\\n\\end{tabular}\n",
            "text/plain": [
              "     vec1 vec2   \n",
              "[1,] 1    5     9\n",
              "[2,] 2    6    10\n",
              "[3,] 3    7    11\n",
              "[4,] 4    8    12"
            ]
          },
          "metadata": {}
        }
      ]
    },
    {
      "cell_type": "code",
      "source": [
        "rbind(rbind(vec1, vec2), 9:12)"
      ],
      "metadata": {
        "colab": {
          "base_uri": "https://localhost:8080/",
          "height": 141
        },
        "id": "0JxeFUbhEKZb",
        "outputId": "55c86721-3a98-4f2f-96a9-bf53666401cf"
      },
      "execution_count": 96,
      "outputs": [
        {
          "output_type": "display_data",
          "data": {
            "text/html": [
              "<table class=\"dataframe\">\n",
              "<caption>A matrix: 3 × 4 of type int</caption>\n",
              "<tbody>\n",
              "\t<tr><th scope=row>vec1</th><td>1</td><td> 2</td><td> 3</td><td> 4</td></tr>\n",
              "\t<tr><th scope=row>vec2</th><td>5</td><td> 6</td><td> 7</td><td> 8</td></tr>\n",
              "\t<tr><th scope=row></th><td>9</td><td>10</td><td>11</td><td>12</td></tr>\n",
              "</tbody>\n",
              "</table>\n"
            ],
            "text/markdown": "\nA matrix: 3 × 4 of type int\n\n| vec1 | 1 |  2 |  3 |  4 |\n| vec2 | 5 |  6 |  7 |  8 |\n| <!----> | 9 | 10 | 11 | 12 |\n\n",
            "text/latex": "A matrix: 3 × 4 of type int\n\\begin{tabular}{r|llll}\n\tvec1 & 1 &  2 &  3 &  4\\\\\n\tvec2 & 5 &  6 &  7 &  8\\\\\n\t & 9 & 10 & 11 & 12\\\\\n\\end{tabular}\n",
            "text/plain": [
              "     [,1] [,2] [,3] [,4]\n",
              "vec1 1     2    3    4  \n",
              "vec2 5     6    7    8  \n",
              "     9    10   11   12  "
            ]
          },
          "metadata": {}
        }
      ]
    },
    {
      "cell_type": "code",
      "source": [
        "mat1"
      ],
      "metadata": {
        "colab": {
          "base_uri": "https://localhost:8080/",
          "height": 127
        },
        "id": "5VL46_g6Fh4_",
        "outputId": "d77fe756-2972-4d07-bec3-4ac7309635fb"
      },
      "execution_count": 98,
      "outputs": [
        {
          "output_type": "display_data",
          "data": {
            "text/html": [
              "<table class=\"dataframe\">\n",
              "<caption>A matrix: 2 × 3 of type int</caption>\n",
              "<tbody>\n",
              "\t<tr><td>1</td><td>3</td><td>5</td></tr>\n",
              "\t<tr><td>2</td><td>4</td><td>6</td></tr>\n",
              "</tbody>\n",
              "</table>\n"
            ],
            "text/markdown": "\nA matrix: 2 × 3 of type int\n\n| 1 | 3 | 5 |\n| 2 | 4 | 6 |\n\n",
            "text/latex": "A matrix: 2 × 3 of type int\n\\begin{tabular}{lll}\n\t 1 & 3 & 5\\\\\n\t 2 & 4 & 6\\\\\n\\end{tabular}\n",
            "text/plain": [
              "     [,1] [,2] [,3]\n",
              "[1,] 1    3    5   \n",
              "[2,] 2    4    6   "
            ]
          },
          "metadata": {}
        }
      ]
    },
    {
      "cell_type": "code",
      "source": [
        "rownames(mat1) = c('r1','r2')\n",
        "colnames(mat1) = c('c1','c2','c3')\n",
        "mat1"
      ],
      "metadata": {
        "colab": {
          "base_uri": "https://localhost:8080/",
          "height": 142
        },
        "id": "4hQ2jUkuFLKZ",
        "outputId": "91a08967-61f5-4e78-f4b0-3047fffbce64"
      },
      "execution_count": 99,
      "outputs": [
        {
          "output_type": "display_data",
          "data": {
            "text/html": [
              "<table class=\"dataframe\">\n",
              "<caption>A matrix: 2 × 3 of type int</caption>\n",
              "<thead>\n",
              "\t<tr><th></th><th scope=col>c1</th><th scope=col>c2</th><th scope=col>c3</th></tr>\n",
              "</thead>\n",
              "<tbody>\n",
              "\t<tr><th scope=row>r1</th><td>1</td><td>3</td><td>5</td></tr>\n",
              "\t<tr><th scope=row>r2</th><td>2</td><td>4</td><td>6</td></tr>\n",
              "</tbody>\n",
              "</table>\n"
            ],
            "text/markdown": "\nA matrix: 2 × 3 of type int\n\n| <!--/--> | c1 | c2 | c3 |\n|---|---|---|---|\n| r1 | 1 | 3 | 5 |\n| r2 | 2 | 4 | 6 |\n\n",
            "text/latex": "A matrix: 2 × 3 of type int\n\\begin{tabular}{r|lll}\n  & c1 & c2 & c3\\\\\n\\hline\n\tr1 & 1 & 3 & 5\\\\\n\tr2 & 2 & 4 & 6\\\\\n\\end{tabular}\n",
            "text/plain": [
              "   c1 c2 c3\n",
              "r1 1  3  5 \n",
              "r2 2  4  6 "
            ]
          },
          "metadata": {}
        }
      ]
    },
    {
      "cell_type": "code",
      "source": [
        "length(mat1)\n",
        "nchar(mat1)"
      ],
      "metadata": {
        "colab": {
          "base_uri": "https://localhost:8080/",
          "height": 158
        },
        "id": "1G1GOBdSFfgq",
        "outputId": "28389977-3c17-4cda-a5ba-368f372f2689"
      },
      "execution_count": 100,
      "outputs": [
        {
          "output_type": "display_data",
          "data": {
            "text/html": [
              "6"
            ],
            "text/markdown": "6",
            "text/latex": "6",
            "text/plain": [
              "[1] 6"
            ]
          },
          "metadata": {}
        },
        {
          "output_type": "display_data",
          "data": {
            "text/html": [
              "<table class=\"dataframe\">\n",
              "<caption>A matrix: 2 × 3 of type int</caption>\n",
              "<thead>\n",
              "\t<tr><th></th><th scope=col>c1</th><th scope=col>c2</th><th scope=col>c3</th></tr>\n",
              "</thead>\n",
              "<tbody>\n",
              "\t<tr><th scope=row>r1</th><td>1</td><td>1</td><td>1</td></tr>\n",
              "\t<tr><th scope=row>r2</th><td>1</td><td>1</td><td>1</td></tr>\n",
              "</tbody>\n",
              "</table>\n"
            ],
            "text/markdown": "\nA matrix: 2 × 3 of type int\n\n| <!--/--> | c1 | c2 | c3 |\n|---|---|---|---|\n| r1 | 1 | 1 | 1 |\n| r2 | 1 | 1 | 1 |\n\n",
            "text/latex": "A matrix: 2 × 3 of type int\n\\begin{tabular}{r|lll}\n  & c1 & c2 & c3\\\\\n\\hline\n\tr1 & 1 & 1 & 1\\\\\n\tr2 & 1 & 1 & 1\\\\\n\\end{tabular}\n",
            "text/plain": [
              "   c1 c2 c3\n",
              "r1 1  1  1 \n",
              "r2 1  1  1 "
            ]
          },
          "metadata": {}
        }
      ]
    },
    {
      "cell_type": "code",
      "source": [
        "mat1[1, 2:3]\n",
        "mat1[2, c(1,3)]\n",
        "mat1[, 2:3]\n",
        "mat1[,]"
      ],
      "metadata": {
        "colab": {
          "base_uri": "https://localhost:8080/",
          "height": 301
        },
        "id": "XddHgI95FruK",
        "outputId": "47658643-d8cb-475e-cf68-009a507a8555"
      },
      "execution_count": 105,
      "outputs": [
        {
          "output_type": "display_data",
          "data": {
            "text/html": [
              "<style>\n",
              ".dl-inline {width: auto; margin:0; padding: 0}\n",
              ".dl-inline>dt, .dl-inline>dd {float: none; width: auto; display: inline-block}\n",
              ".dl-inline>dt::after {content: \":\\0020\"; padding-right: .5ex}\n",
              ".dl-inline>dt:not(:first-of-type) {padding-left: .5ex}\n",
              "</style><dl class=dl-inline><dt>c2</dt><dd>3</dd><dt>c3</dt><dd>5</dd></dl>\n"
            ],
            "text/markdown": "c2\n:   3c3\n:   5\n\n",
            "text/latex": "\\begin{description*}\n\\item[c2] 3\n\\item[c3] 5\n\\end{description*}\n",
            "text/plain": [
              "c2 c3 \n",
              " 3  5 "
            ]
          },
          "metadata": {}
        },
        {
          "output_type": "display_data",
          "data": {
            "text/html": [
              "<style>\n",
              ".dl-inline {width: auto; margin:0; padding: 0}\n",
              ".dl-inline>dt, .dl-inline>dd {float: none; width: auto; display: inline-block}\n",
              ".dl-inline>dt::after {content: \":\\0020\"; padding-right: .5ex}\n",
              ".dl-inline>dt:not(:first-of-type) {padding-left: .5ex}\n",
              "</style><dl class=dl-inline><dt>c1</dt><dd>2</dd><dt>c3</dt><dd>6</dd></dl>\n"
            ],
            "text/markdown": "c1\n:   2c3\n:   6\n\n",
            "text/latex": "\\begin{description*}\n\\item[c1] 2\n\\item[c3] 6\n\\end{description*}\n",
            "text/plain": [
              "c1 c3 \n",
              " 2  6 "
            ]
          },
          "metadata": {}
        },
        {
          "output_type": "display_data",
          "data": {
            "text/html": [
              "<table class=\"dataframe\">\n",
              "<caption>A matrix: 2 × 2 of type int</caption>\n",
              "<thead>\n",
              "\t<tr><th></th><th scope=col>c2</th><th scope=col>c3</th></tr>\n",
              "</thead>\n",
              "<tbody>\n",
              "\t<tr><th scope=row>r1</th><td>3</td><td>5</td></tr>\n",
              "\t<tr><th scope=row>r2</th><td>4</td><td>6</td></tr>\n",
              "</tbody>\n",
              "</table>\n"
            ],
            "text/markdown": "\nA matrix: 2 × 2 of type int\n\n| <!--/--> | c2 | c3 |\n|---|---|---|\n| r1 | 3 | 5 |\n| r2 | 4 | 6 |\n\n",
            "text/latex": "A matrix: 2 × 2 of type int\n\\begin{tabular}{r|ll}\n  & c2 & c3\\\\\n\\hline\n\tr1 & 3 & 5\\\\\n\tr2 & 4 & 6\\\\\n\\end{tabular}\n",
            "text/plain": [
              "   c2 c3\n",
              "r1 3  5 \n",
              "r2 4  6 "
            ]
          },
          "metadata": {}
        },
        {
          "output_type": "display_data",
          "data": {
            "text/html": [
              "<table class=\"dataframe\">\n",
              "<caption>A matrix: 2 × 3 of type int</caption>\n",
              "<thead>\n",
              "\t<tr><th></th><th scope=col>c1</th><th scope=col>c2</th><th scope=col>c3</th></tr>\n",
              "</thead>\n",
              "<tbody>\n",
              "\t<tr><th scope=row>r1</th><td>1</td><td>3</td><td>5</td></tr>\n",
              "\t<tr><th scope=row>r2</th><td>2</td><td>4</td><td>6</td></tr>\n",
              "</tbody>\n",
              "</table>\n"
            ],
            "text/markdown": "\nA matrix: 2 × 3 of type int\n\n| <!--/--> | c1 | c2 | c3 |\n|---|---|---|---|\n| r1 | 1 | 3 | 5 |\n| r2 | 2 | 4 | 6 |\n\n",
            "text/latex": "A matrix: 2 × 3 of type int\n\\begin{tabular}{r|lll}\n  & c1 & c2 & c3\\\\\n\\hline\n\tr1 & 1 & 3 & 5\\\\\n\tr2 & 2 & 4 & 6\\\\\n\\end{tabular}\n",
            "text/plain": [
              "   c1 c2 c3\n",
              "r1 1  3  5 \n",
              "r2 2  4  6 "
            ]
          },
          "metadata": {}
        }
      ]
    },
    {
      "cell_type": "markdown",
      "source": [
        "# Data Frame"
      ],
      "metadata": {
        "id": "g1CZ4KfLFwhB"
      }
    },
    {
      "cell_type": "code",
      "source": [
        "df = data.frame(\n",
        "    col1=1:3,\n",
        "    col5=c(\"This\", \"is\", \"Text\"),\n",
        "    col8=c(TRUE, FALSE, TRUE),\n",
        "    col10=c(2.4, 42, pi)\n",
        "    # stringsAsFactors = FALSE\n",
        "    # R에서는 문자 형식을 자동적으로 팩터로 인식. 원치 않으면. FALSE --> defualt\n",
        ")\n",
        "str(df)"
      ],
      "metadata": {
        "colab": {
          "base_uri": "https://localhost:8080/"
        },
        "id": "S4xTahQkGE7Q",
        "outputId": "7df8f796-f4de-4dd2-fdbb-d8f0586a3e7b"
      },
      "execution_count": 109,
      "outputs": [
        {
          "output_type": "stream",
          "name": "stdout",
          "text": [
            "'data.frame':\t3 obs. of  4 variables:\n",
            " $ col1 : int  1 2 3\n",
            " $ col5 : chr  \"This\" \"is\" \"Text\"\n",
            " $ col8 : logi  TRUE FALSE TRUE\n",
            " $ col10: num  2.4 42 3.14\n"
          ]
        }
      ]
    },
    {
      "cell_type": "code",
      "source": [
        "df"
      ],
      "metadata": {
        "colab": {
          "base_uri": "https://localhost:8080/",
          "height": 187
        },
        "id": "O-yB8hhWGXvb",
        "outputId": "31a78bdc-22d8-452b-b614-e6f0e6398e17"
      },
      "execution_count": 110,
      "outputs": [
        {
          "output_type": "display_data",
          "data": {
            "text/html": [
              "<table class=\"dataframe\">\n",
              "<caption>A data.frame: 3 × 4</caption>\n",
              "<thead>\n",
              "\t<tr><th scope=col>col1</th><th scope=col>col5</th><th scope=col>col8</th><th scope=col>col10</th></tr>\n",
              "\t<tr><th scope=col>&lt;int&gt;</th><th scope=col>&lt;chr&gt;</th><th scope=col>&lt;lgl&gt;</th><th scope=col>&lt;dbl&gt;</th></tr>\n",
              "</thead>\n",
              "<tbody>\n",
              "\t<tr><td>1</td><td>This</td><td> TRUE</td><td> 2.400000</td></tr>\n",
              "\t<tr><td>2</td><td>is  </td><td>FALSE</td><td>42.000000</td></tr>\n",
              "\t<tr><td>3</td><td>Text</td><td> TRUE</td><td> 3.141593</td></tr>\n",
              "</tbody>\n",
              "</table>\n"
            ],
            "text/markdown": "\nA data.frame: 3 × 4\n\n| col1 &lt;int&gt; | col5 &lt;chr&gt; | col8 &lt;lgl&gt; | col10 &lt;dbl&gt; |\n|---|---|---|---|\n| 1 | This |  TRUE |  2.400000 |\n| 2 | is   | FALSE | 42.000000 |\n| 3 | Text |  TRUE |  3.141593 |\n\n",
            "text/latex": "A data.frame: 3 × 4\n\\begin{tabular}{llll}\n col1 & col5 & col8 & col10\\\\\n <int> & <chr> & <lgl> & <dbl>\\\\\n\\hline\n\t 1 & This &  TRUE &  2.400000\\\\\n\t 2 & is   & FALSE & 42.000000\\\\\n\t 3 & Text &  TRUE &  3.141593\\\\\n\\end{tabular}\n",
            "text/plain": [
              "  col1 col5 col8  col10    \n",
              "1 1    This  TRUE  2.400000\n",
              "2 2    is   FALSE 42.000000\n",
              "3 3    Text  TRUE  3.141593"
            ]
          },
          "metadata": {}
        }
      ]
    },
    {
      "cell_type": "code",
      "source": [
        "?data.frame"
      ],
      "metadata": {
        "id": "k8z7a3R4HDkW"
      },
      "execution_count": 112,
      "outputs": []
    },
    {
      "cell_type": "code",
      "source": [
        "li = list(\n",
        "    col1=1:3,\n",
        "    col5=c(\"This\", \"is\", \"Text\"),\n",
        "    col8=c(TRUE, FALSE, TRUE),\n",
        "    col10=c(2.4, 42, pi)\n",
        ")\n",
        "str(li)"
      ],
      "metadata": {
        "colab": {
          "base_uri": "https://localhost:8080/"
        },
        "id": "T2YwUkdfGY5L",
        "outputId": "36494b44-7074-443d-e82b-890acce032a0"
      },
      "execution_count": 111,
      "outputs": [
        {
          "output_type": "stream",
          "name": "stdout",
          "text": [
            "List of 4\n",
            " $ col1 : int [1:3] 1 2 3\n",
            " $ col5 : chr [1:3] \"This\" \"is\" \"Text\"\n",
            " $ col8 : logi [1:3] TRUE FALSE TRUE\n",
            " $ col10: num [1:3] 2.4 42 3.14\n"
          ]
        }
      ]
    },
    {
      "cell_type": "code",
      "source": [
        "as.data.frame(li)"
      ],
      "metadata": {
        "colab": {
          "base_uri": "https://localhost:8080/",
          "height": 187
        },
        "id": "pgy8e1bvGb3X",
        "outputId": "7964fe23-3b4e-4303-bbec-83e8a6b8510a"
      },
      "execution_count": 113,
      "outputs": [
        {
          "output_type": "display_data",
          "data": {
            "text/html": [
              "<table class=\"dataframe\">\n",
              "<caption>A data.frame: 3 × 4</caption>\n",
              "<thead>\n",
              "\t<tr><th scope=col>col1</th><th scope=col>col5</th><th scope=col>col8</th><th scope=col>col10</th></tr>\n",
              "\t<tr><th scope=col>&lt;int&gt;</th><th scope=col>&lt;chr&gt;</th><th scope=col>&lt;lgl&gt;</th><th scope=col>&lt;dbl&gt;</th></tr>\n",
              "</thead>\n",
              "<tbody>\n",
              "\t<tr><td>1</td><td>This</td><td> TRUE</td><td> 2.400000</td></tr>\n",
              "\t<tr><td>2</td><td>is  </td><td>FALSE</td><td>42.000000</td></tr>\n",
              "\t<tr><td>3</td><td>Text</td><td> TRUE</td><td> 3.141593</td></tr>\n",
              "</tbody>\n",
              "</table>\n"
            ],
            "text/markdown": "\nA data.frame: 3 × 4\n\n| col1 &lt;int&gt; | col5 &lt;chr&gt; | col8 &lt;lgl&gt; | col10 &lt;dbl&gt; |\n|---|---|---|---|\n| 1 | This |  TRUE |  2.400000 |\n| 2 | is   | FALSE | 42.000000 |\n| 3 | Text |  TRUE |  3.141593 |\n\n",
            "text/latex": "A data.frame: 3 × 4\n\\begin{tabular}{llll}\n col1 & col5 & col8 & col10\\\\\n <int> & <chr> & <lgl> & <dbl>\\\\\n\\hline\n\t 1 & This &  TRUE &  2.400000\\\\\n\t 2 & is   & FALSE & 42.000000\\\\\n\t 3 & Text &  TRUE &  3.141593\\\\\n\\end{tabular}\n",
            "text/plain": [
              "  col1 col5 col8  col10    \n",
              "1 1    This  TRUE  2.400000\n",
              "2 2    is   FALSE 42.000000\n",
              "3 3    Text  TRUE  3.141593"
            ]
          },
          "metadata": {}
        }
      ]
    },
    {
      "cell_type": "code",
      "source": [
        "letter = c(letters[1:3])\n",
        "cbind(df, letter)"
      ],
      "metadata": {
        "colab": {
          "base_uri": "https://localhost:8080/",
          "height": 187
        },
        "id": "M4rkS1IUHaF4",
        "outputId": "f187d7b7-111f-43f7-ffe8-2fc422982cc1"
      },
      "execution_count": 114,
      "outputs": [
        {
          "output_type": "display_data",
          "data": {
            "text/html": [
              "<table class=\"dataframe\">\n",
              "<caption>A data.frame: 3 × 5</caption>\n",
              "<thead>\n",
              "\t<tr><th scope=col>col1</th><th scope=col>col5</th><th scope=col>col8</th><th scope=col>col10</th><th scope=col>letter</th></tr>\n",
              "\t<tr><th scope=col>&lt;int&gt;</th><th scope=col>&lt;chr&gt;</th><th scope=col>&lt;lgl&gt;</th><th scope=col>&lt;dbl&gt;</th><th scope=col>&lt;chr&gt;</th></tr>\n",
              "</thead>\n",
              "<tbody>\n",
              "\t<tr><td>1</td><td>This</td><td> TRUE</td><td> 2.400000</td><td>a</td></tr>\n",
              "\t<tr><td>2</td><td>is  </td><td>FALSE</td><td>42.000000</td><td>b</td></tr>\n",
              "\t<tr><td>3</td><td>Text</td><td> TRUE</td><td> 3.141593</td><td>c</td></tr>\n",
              "</tbody>\n",
              "</table>\n"
            ],
            "text/markdown": "\nA data.frame: 3 × 5\n\n| col1 &lt;int&gt; | col5 &lt;chr&gt; | col8 &lt;lgl&gt; | col10 &lt;dbl&gt; | letter &lt;chr&gt; |\n|---|---|---|---|---|\n| 1 | This |  TRUE |  2.400000 | a |\n| 2 | is   | FALSE | 42.000000 | b |\n| 3 | Text |  TRUE |  3.141593 | c |\n\n",
            "text/latex": "A data.frame: 3 × 5\n\\begin{tabular}{lllll}\n col1 & col5 & col8 & col10 & letter\\\\\n <int> & <chr> & <lgl> & <dbl> & <chr>\\\\\n\\hline\n\t 1 & This &  TRUE &  2.400000 & a\\\\\n\t 2 & is   & FALSE & 42.000000 & b\\\\\n\t 3 & Text &  TRUE &  3.141593 & c\\\\\n\\end{tabular}\n",
            "text/plain": [
              "  col1 col5 col8  col10     letter\n",
              "1 1    This  TRUE  2.400000 a     \n",
              "2 2    is   FALSE 42.000000 b     \n",
              "3 3    Text  TRUE  3.141593 c     "
            ]
          },
          "metadata": {}
        }
      ]
    },
    {
      "cell_type": "code",
      "source": [
        "df"
      ],
      "metadata": {
        "colab": {
          "base_uri": "https://localhost:8080/",
          "height": 187
        },
        "id": "fLS6pWGCH_mT",
        "outputId": "bd7a27aa-c248-4601-ea36-a66ad0b4c0cf"
      },
      "execution_count": 115,
      "outputs": [
        {
          "output_type": "display_data",
          "data": {
            "text/html": [
              "<table class=\"dataframe\">\n",
              "<caption>A data.frame: 3 × 4</caption>\n",
              "<thead>\n",
              "\t<tr><th scope=col>col1</th><th scope=col>col5</th><th scope=col>col8</th><th scope=col>col10</th></tr>\n",
              "\t<tr><th scope=col>&lt;int&gt;</th><th scope=col>&lt;chr&gt;</th><th scope=col>&lt;lgl&gt;</th><th scope=col>&lt;dbl&gt;</th></tr>\n",
              "</thead>\n",
              "<tbody>\n",
              "\t<tr><td>1</td><td>This</td><td> TRUE</td><td> 2.400000</td></tr>\n",
              "\t<tr><td>2</td><td>is  </td><td>FALSE</td><td>42.000000</td></tr>\n",
              "\t<tr><td>3</td><td>Text</td><td> TRUE</td><td> 3.141593</td></tr>\n",
              "</tbody>\n",
              "</table>\n"
            ],
            "text/markdown": "\nA data.frame: 3 × 4\n\n| col1 &lt;int&gt; | col5 &lt;chr&gt; | col8 &lt;lgl&gt; | col10 &lt;dbl&gt; |\n|---|---|---|---|\n| 1 | This |  TRUE |  2.400000 |\n| 2 | is   | FALSE | 42.000000 |\n| 3 | Text |  TRUE |  3.141593 |\n\n",
            "text/latex": "A data.frame: 3 × 4\n\\begin{tabular}{llll}\n col1 & col5 & col8 & col10\\\\\n <int> & <chr> & <lgl> & <dbl>\\\\\n\\hline\n\t 1 & This &  TRUE &  2.400000\\\\\n\t 2 & is   & FALSE & 42.000000\\\\\n\t 3 & Text &  TRUE &  3.141593\\\\\n\\end{tabular}\n",
            "text/plain": [
              "  col1 col5 col8  col10    \n",
              "1 1    This  TRUE  2.400000\n",
              "2 2    is   FALSE 42.000000\n",
              "3 3    Text  TRUE  3.141593"
            ]
          },
          "metadata": {}
        }
      ]
    },
    {
      "cell_type": "code",
      "source": [
        "rbind(df, c(4,'R',F,1.1))"
      ],
      "metadata": {
        "colab": {
          "base_uri": "https://localhost:8080/",
          "height": 217
        },
        "id": "QTQGcrHUH_7T",
        "outputId": "5b9c6662-3976-46d7-9b2a-5ff05ba9d252"
      },
      "execution_count": 116,
      "outputs": [
        {
          "output_type": "display_data",
          "data": {
            "text/html": [
              "<table class=\"dataframe\">\n",
              "<caption>A data.frame: 4 × 4</caption>\n",
              "<thead>\n",
              "\t<tr><th scope=col>col1</th><th scope=col>col5</th><th scope=col>col8</th><th scope=col>col10</th></tr>\n",
              "\t<tr><th scope=col>&lt;chr&gt;</th><th scope=col>&lt;chr&gt;</th><th scope=col>&lt;chr&gt;</th><th scope=col>&lt;chr&gt;</th></tr>\n",
              "</thead>\n",
              "<tbody>\n",
              "\t<tr><td>1</td><td>This</td><td>TRUE </td><td>2.4             </td></tr>\n",
              "\t<tr><td>2</td><td>is  </td><td>FALSE</td><td>42              </td></tr>\n",
              "\t<tr><td>3</td><td>Text</td><td>TRUE </td><td>3.14159265358979</td></tr>\n",
              "\t<tr><td>4</td><td>R   </td><td>FALSE</td><td>1.1             </td></tr>\n",
              "</tbody>\n",
              "</table>\n"
            ],
            "text/markdown": "\nA data.frame: 4 × 4\n\n| col1 &lt;chr&gt; | col5 &lt;chr&gt; | col8 &lt;chr&gt; | col10 &lt;chr&gt; |\n|---|---|---|---|\n| 1 | This | TRUE  | 2.4              |\n| 2 | is   | FALSE | 42               |\n| 3 | Text | TRUE  | 3.14159265358979 |\n| 4 | R    | FALSE | 1.1              |\n\n",
            "text/latex": "A data.frame: 4 × 4\n\\begin{tabular}{llll}\n col1 & col5 & col8 & col10\\\\\n <chr> & <chr> & <chr> & <chr>\\\\\n\\hline\n\t 1 & This & TRUE  & 2.4             \\\\\n\t 2 & is   & FALSE & 42              \\\\\n\t 3 & Text & TRUE  & 3.14159265358979\\\\\n\t 4 & R    & FALSE & 1.1             \\\\\n\\end{tabular}\n",
            "text/plain": [
              "  col1 col5 col8  col10           \n",
              "1 1    This TRUE  2.4             \n",
              "2 2    is   FALSE 42              \n",
              "3 3    Text TRUE  3.14159265358979\n",
              "4 4    R    FALSE 1.1             "
            ]
          },
          "metadata": {}
        }
      ]
    },
    {
      "cell_type": "code",
      "source": [
        "T"
      ],
      "metadata": {
        "colab": {
          "base_uri": "https://localhost:8080/",
          "height": 32
        },
        "id": "hG2MkSTYIHOu",
        "outputId": "12f8a237-1ea7-471b-b3be-7a2a625ef641"
      },
      "execution_count": 117,
      "outputs": [
        {
          "output_type": "display_data",
          "data": {
            "text/html": [
              "TRUE"
            ],
            "text/markdown": "TRUE",
            "text/latex": "TRUE",
            "text/plain": [
              "[1] TRUE"
            ]
          },
          "metadata": {}
        }
      ]
    },
    {
      "cell_type": "code",
      "source": [
        "# data frame 형태로\n",
        "df[,2,drop=F]"
      ],
      "metadata": {
        "colab": {
          "base_uri": "https://localhost:8080/",
          "height": 220
        },
        "id": "9kpwuk7qIIPz",
        "outputId": "3fd601a9-046a-4d92-c22a-78c696aa11fa"
      },
      "execution_count": 118,
      "outputs": [
        {
          "output_type": "display_data",
          "data": {
            "text/html": [
              "<table class=\"dataframe\">\n",
              "<caption>A data.frame: 3 × 1</caption>\n",
              "<thead>\n",
              "\t<tr><th scope=col>col5</th></tr>\n",
              "\t<tr><th scope=col>&lt;chr&gt;</th></tr>\n",
              "</thead>\n",
              "<tbody>\n",
              "\t<tr><td>This</td></tr>\n",
              "\t<tr><td>is  </td></tr>\n",
              "\t<tr><td>Text</td></tr>\n",
              "</tbody>\n",
              "</table>\n"
            ],
            "text/markdown": "\nA data.frame: 3 × 1\n\n| col5 &lt;chr&gt; |\n|---|\n| This |\n| is   |\n| Text |\n\n",
            "text/latex": "A data.frame: 3 × 1\n\\begin{tabular}{l}\n col5\\\\\n <chr>\\\\\n\\hline\n\t This\\\\\n\t is  \\\\\n\t Text\\\\\n\\end{tabular}\n",
            "text/plain": [
              "  col5\n",
              "1 This\n",
              "2 is  \n",
              "3 Text"
            ]
          },
          "metadata": {}
        }
      ]
    },
    {
      "cell_type": "code",
      "source": [
        "df"
      ],
      "metadata": {
        "colab": {
          "base_uri": "https://localhost:8080/",
          "height": 187
        },
        "id": "ErrO7ysRITcO",
        "outputId": "d0455c5e-a471-4c32-d050-a5b47dac9898"
      },
      "execution_count": 119,
      "outputs": [
        {
          "output_type": "display_data",
          "data": {
            "text/html": [
              "<table class=\"dataframe\">\n",
              "<caption>A data.frame: 3 × 4</caption>\n",
              "<thead>\n",
              "\t<tr><th scope=col>col1</th><th scope=col>col5</th><th scope=col>col8</th><th scope=col>col10</th></tr>\n",
              "\t<tr><th scope=col>&lt;int&gt;</th><th scope=col>&lt;chr&gt;</th><th scope=col>&lt;lgl&gt;</th><th scope=col>&lt;dbl&gt;</th></tr>\n",
              "</thead>\n",
              "<tbody>\n",
              "\t<tr><td>1</td><td>This</td><td> TRUE</td><td> 2.400000</td></tr>\n",
              "\t<tr><td>2</td><td>is  </td><td>FALSE</td><td>42.000000</td></tr>\n",
              "\t<tr><td>3</td><td>Text</td><td> TRUE</td><td> 3.141593</td></tr>\n",
              "</tbody>\n",
              "</table>\n"
            ],
            "text/markdown": "\nA data.frame: 3 × 4\n\n| col1 &lt;int&gt; | col5 &lt;chr&gt; | col8 &lt;lgl&gt; | col10 &lt;dbl&gt; |\n|---|---|---|---|\n| 1 | This |  TRUE |  2.400000 |\n| 2 | is   | FALSE | 42.000000 |\n| 3 | Text |  TRUE |  3.141593 |\n\n",
            "text/latex": "A data.frame: 3 × 4\n\\begin{tabular}{llll}\n col1 & col5 & col8 & col10\\\\\n <int> & <chr> & <lgl> & <dbl>\\\\\n\\hline\n\t 1 & This &  TRUE &  2.400000\\\\\n\t 2 & is   & FALSE & 42.000000\\\\\n\t 3 & Text &  TRUE &  3.141593\\\\\n\\end{tabular}\n",
            "text/plain": [
              "  col1 col5 col8  col10    \n",
              "1 1    This  TRUE  2.400000\n",
              "2 2    is   FALSE 42.000000\n",
              "3 3    Text  TRUE  3.141593"
            ]
          },
          "metadata": {}
        }
      ]
    },
    {
      "cell_type": "code",
      "source": [
        "# data frame 형태 drop. --> default\n",
        "df[,2, drop=T]\n",
        "df[,2]"
      ],
      "metadata": {
        "colab": {
          "base_uri": "https://localhost:8080/",
          "height": 49
        },
        "id": "CEFeTow1IVnA",
        "outputId": "f98128c3-d0ac-44d2-f9d3-f2ab3ef19b29"
      },
      "execution_count": 122,
      "outputs": [
        {
          "output_type": "display_data",
          "data": {
            "text/html": [
              "<style>\n",
              ".list-inline {list-style: none; margin:0; padding: 0}\n",
              ".list-inline>li {display: inline-block}\n",
              ".list-inline>li:not(:last-child)::after {content: \"\\00b7\"; padding: 0 .5ex}\n",
              "</style>\n",
              "<ol class=list-inline><li>'This'</li><li>'is'</li><li>'Text'</li></ol>\n"
            ],
            "text/markdown": "1. 'This'\n2. 'is'\n3. 'Text'\n\n\n",
            "text/latex": "\\begin{enumerate*}\n\\item 'This'\n\\item 'is'\n\\item 'Text'\n\\end{enumerate*}\n",
            "text/plain": [
              "[1] \"This\" \"is\"   \"Text\""
            ]
          },
          "metadata": {}
        },
        {
          "output_type": "display_data",
          "data": {
            "text/html": [
              "<style>\n",
              ".list-inline {list-style: none; margin:0; padding: 0}\n",
              ".list-inline>li {display: inline-block}\n",
              ".list-inline>li:not(:last-child)::after {content: \"\\00b7\"; padding: 0 .5ex}\n",
              "</style>\n",
              "<ol class=list-inline><li>'This'</li><li>'is'</li><li>'Text'</li></ol>\n"
            ],
            "text/markdown": "1. 'This'\n2. 'is'\n3. 'Text'\n\n\n",
            "text/latex": "\\begin{enumerate*}\n\\item 'This'\n\\item 'is'\n\\item 'Text'\n\\end{enumerate*}\n",
            "text/plain": [
              "[1] \"This\" \"is\"   \"Text\""
            ]
          },
          "metadata": {}
        }
      ]
    },
    {
      "cell_type": "code",
      "source": [
        "str(df[,2]) # character\n",
        "str(df[,2,drop=F]) # dataframe"
      ],
      "metadata": {
        "colab": {
          "base_uri": "https://localhost:8080/"
        },
        "id": "Yxu7vmwuIXI1",
        "outputId": "bc524055-031e-4ad8-f026-247c5817e183"
      },
      "execution_count": 124,
      "outputs": [
        {
          "output_type": "stream",
          "name": "stdout",
          "text": [
            " chr [1:3] \"This\" \"is\" \"Text\"\n",
            "'data.frame':\t3 obs. of  1 variable:\n",
            " $ col5: chr  \"This\" \"is\" \"Text\"\n"
          ]
        }
      ]
    },
    {
      "cell_type": "markdown",
      "source": [
        "# 결측치 테스트\n",
        "\n",
        "- is.na()"
      ],
      "metadata": {
        "id": "6Oq5SjzTIeZF"
      }
    },
    {
      "cell_type": "code",
      "source": [],
      "metadata": {
        "id": "2rF6MNbKI1kb"
      },
      "execution_count": null,
      "outputs": []
    },
    {
      "cell_type": "code",
      "source": [
        "x= c(NA, rep(seq(1, 10, 5), times=2), NA)\n",
        "x\n",
        "is.na(x)"
      ],
      "metadata": {
        "colab": {
          "base_uri": "https://localhost:8080/",
          "height": 49
        },
        "id": "bngMpEE8IyMb",
        "outputId": "2f93e140-d7c1-4060-b9ca-5879f2164152"
      },
      "execution_count": 128,
      "outputs": [
        {
          "output_type": "display_data",
          "data": {
            "text/html": [
              "<style>\n",
              ".list-inline {list-style: none; margin:0; padding: 0}\n",
              ".list-inline>li {display: inline-block}\n",
              ".list-inline>li:not(:last-child)::after {content: \"\\00b7\"; padding: 0 .5ex}\n",
              "</style>\n",
              "<ol class=list-inline><li>&lt;NA&gt;</li><li>1</li><li>6</li><li>1</li><li>6</li><li>&lt;NA&gt;</li></ol>\n"
            ],
            "text/markdown": "1. &lt;NA&gt;\n2. 1\n3. 6\n4. 1\n5. 6\n6. &lt;NA&gt;\n\n\n",
            "text/latex": "\\begin{enumerate*}\n\\item <NA>\n\\item 1\n\\item 6\n\\item 1\n\\item 6\n\\item <NA>\n\\end{enumerate*}\n",
            "text/plain": [
              "[1] NA  1  6  1  6 NA"
            ]
          },
          "metadata": {}
        },
        {
          "output_type": "display_data",
          "data": {
            "text/html": [
              "<style>\n",
              ".list-inline {list-style: none; margin:0; padding: 0}\n",
              ".list-inline>li {display: inline-block}\n",
              ".list-inline>li:not(:last-child)::after {content: \"\\00b7\"; padding: 0 .5ex}\n",
              "</style>\n",
              "<ol class=list-inline><li>TRUE</li><li>FALSE</li><li>FALSE</li><li>FALSE</li><li>FALSE</li><li>TRUE</li></ol>\n"
            ],
            "text/markdown": "1. TRUE\n2. FALSE\n3. FALSE\n4. FALSE\n5. FALSE\n6. TRUE\n\n\n",
            "text/latex": "\\begin{enumerate*}\n\\item TRUE\n\\item FALSE\n\\item FALSE\n\\item FALSE\n\\item FALSE\n\\item TRUE\n\\end{enumerate*}\n",
            "text/plain": [
              "[1]  TRUE FALSE FALSE FALSE FALSE  TRUE"
            ]
          },
          "metadata": {}
        }
      ]
    },
    {
      "cell_type": "code",
      "source": [
        "as.integer(is.na(x))\n",
        "sum(as.integer(is.na(x)))"
      ],
      "metadata": {
        "colab": {
          "base_uri": "https://localhost:8080/",
          "height": 49
        },
        "id": "c-pXXNSgJNoi",
        "outputId": "7fd4ab6a-5698-432e-8a5c-78875c97a1ed"
      },
      "execution_count": 134,
      "outputs": [
        {
          "output_type": "display_data",
          "data": {
            "text/html": [
              "<style>\n",
              ".list-inline {list-style: none; margin:0; padding: 0}\n",
              ".list-inline>li {display: inline-block}\n",
              ".list-inline>li:not(:last-child)::after {content: \"\\00b7\"; padding: 0 .5ex}\n",
              "</style>\n",
              "<ol class=list-inline><li>1</li><li>0</li><li>0</li><li>0</li><li>0</li><li>1</li></ol>\n"
            ],
            "text/markdown": "1. 1\n2. 0\n3. 0\n4. 0\n5. 0\n6. 1\n\n\n",
            "text/latex": "\\begin{enumerate*}\n\\item 1\n\\item 0\n\\item 0\n\\item 0\n\\item 0\n\\item 1\n\\end{enumerate*}\n",
            "text/plain": [
              "[1] 1 0 0 0 0 1"
            ]
          },
          "metadata": {}
        },
        {
          "output_type": "display_data",
          "data": {
            "text/html": [
              "2"
            ],
            "text/markdown": "2",
            "text/latex": "2",
            "text/plain": [
              "[1] 2"
            ]
          },
          "metadata": {}
        }
      ]
    },
    {
      "cell_type": "code",
      "source": [
        "is.na(cbind(df, c(F,T,NA)))"
      ],
      "metadata": {
        "colab": {
          "base_uri": "https://localhost:8080/",
          "height": 156
        },
        "id": "CiVxdzErJXOt",
        "outputId": "5474f8aa-abe3-4a85-ff5d-26d6d2f0dffc"
      },
      "execution_count": 137,
      "outputs": [
        {
          "output_type": "display_data",
          "data": {
            "text/html": [
              "<table class=\"dataframe\">\n",
              "<caption>A matrix: 3 × 5 of type lgl</caption>\n",
              "<thead>\n",
              "\t<tr><th scope=col>col1</th><th scope=col>col5</th><th scope=col>col8</th><th scope=col>col10</th><th scope=col>c(F, T, NA)</th></tr>\n",
              "</thead>\n",
              "<tbody>\n",
              "\t<tr><td>FALSE</td><td>FALSE</td><td>FALSE</td><td>FALSE</td><td>FALSE</td></tr>\n",
              "\t<tr><td>FALSE</td><td>FALSE</td><td>FALSE</td><td>FALSE</td><td>FALSE</td></tr>\n",
              "\t<tr><td>FALSE</td><td>FALSE</td><td>FALSE</td><td>FALSE</td><td> TRUE</td></tr>\n",
              "</tbody>\n",
              "</table>\n"
            ],
            "text/markdown": "\nA matrix: 3 × 5 of type lgl\n\n| col1 | col5 | col8 | col10 | c(F, T, NA) |\n|---|---|---|---|---|\n| FALSE | FALSE | FALSE | FALSE | FALSE |\n| FALSE | FALSE | FALSE | FALSE | FALSE |\n| FALSE | FALSE | FALSE | FALSE |  TRUE |\n\n",
            "text/latex": "A matrix: 3 × 5 of type lgl\n\\begin{tabular}{lllll}\n col1 & col5 & col8 & col10 & c(F, T, NA)\\\\\n\\hline\n\t FALSE & FALSE & FALSE & FALSE & FALSE\\\\\n\t FALSE & FALSE & FALSE & FALSE & FALSE\\\\\n\t FALSE & FALSE & FALSE & FALSE &  TRUE\\\\\n\\end{tabular}\n",
            "text/plain": [
              "     col1  col5  col8  col10 c(F, T, NA)\n",
              "[1,] FALSE FALSE FALSE FALSE FALSE      \n",
              "[2,] FALSE FALSE FALSE FALSE FALSE      \n",
              "[3,] FALSE FALSE FALSE FALSE  TRUE      "
            ]
          },
          "metadata": {}
        }
      ]
    },
    {
      "cell_type": "code",
      "source": [
        "which(is.na(cbind(df, c(F,T,NA))))"
      ],
      "metadata": {
        "colab": {
          "base_uri": "https://localhost:8080/",
          "height": 32
        },
        "id": "wx8gmAM7Jdmy",
        "outputId": "1224447e-7de6-4a22-a715-c1cb4d84ed13"
      },
      "execution_count": 138,
      "outputs": [
        {
          "output_type": "display_data",
          "data": {
            "text/html": [
              "15"
            ],
            "text/markdown": "15",
            "text/latex": "15",
            "text/plain": [
              "[1] 15"
            ]
          },
          "metadata": {}
        }
      ]
    },
    {
      "cell_type": "code",
      "source": [
        "y = c(5, 10, NA, 20)\n",
        "mean(y)\n",
        "mean(y, na.rm=T)"
      ],
      "metadata": {
        "colab": {
          "base_uri": "https://localhost:8080/",
          "height": 49
        },
        "id": "53puVUbxJxyD",
        "outputId": "46a631e1-6797-4dc0-e7a7-ab7b18c4fd56"
      },
      "execution_count": 139,
      "outputs": [
        {
          "output_type": "display_data",
          "data": {
            "text/html": [
              "&lt;NA&gt;"
            ],
            "text/markdown": "&lt;NA&gt;",
            "text/latex": "<NA>",
            "text/plain": [
              "[1] NA"
            ]
          },
          "metadata": {}
        },
        {
          "output_type": "display_data",
          "data": {
            "text/html": [
              "11.6666666666667"
            ],
            "text/markdown": "11.6666666666667",
            "text/latex": "11.6666666666667",
            "text/plain": [
              "[1] 11.66667"
            ]
          },
          "metadata": {}
        }
      ]
    },
    {
      "cell_type": "code",
      "source": [
        "# na 값 채우기\n",
        "\n",
        "y[is.na(y)]\n",
        "mean(y, na.rm=T)\n",
        "y[is.na(y)] = mean(y, na.rm=T)\n",
        "y"
      ],
      "metadata": {
        "colab": {
          "base_uri": "https://localhost:8080/",
          "height": 65
        },
        "id": "8Tgx724WKAIR",
        "outputId": "1b64a90b-fb0c-4631-a16c-2fbf0d2547ee"
      },
      "execution_count": 146,
      "outputs": [
        {
          "output_type": "display_data",
          "data": {
            "text/html": [
              "&lt;NA&gt;"
            ],
            "text/markdown": "&lt;NA&gt;",
            "text/latex": "<NA>",
            "text/plain": [
              "[1] NA"
            ]
          },
          "metadata": {}
        },
        {
          "output_type": "display_data",
          "data": {
            "text/html": [
              "11.6666666666667"
            ],
            "text/markdown": "11.6666666666667",
            "text/latex": "11.6666666666667",
            "text/plain": [
              "[1] 11.66667"
            ]
          },
          "metadata": {}
        },
        {
          "output_type": "display_data",
          "data": {
            "text/html": [
              "<style>\n",
              ".list-inline {list-style: none; margin:0; padding: 0}\n",
              ".list-inline>li {display: inline-block}\n",
              ".list-inline>li:not(:last-child)::after {content: \"\\00b7\"; padding: 0 .5ex}\n",
              "</style>\n",
              "<ol class=list-inline><li>5</li><li>10</li><li>11.6666666666667</li><li>20</li></ol>\n"
            ],
            "text/markdown": "1. 5\n2. 10\n3. 11.6666666666667\n4. 20\n\n\n",
            "text/latex": "\\begin{enumerate*}\n\\item 5\n\\item 10\n\\item 11.6666666666667\n\\item 20\n\\end{enumerate*}\n",
            "text/plain": [
              "[1]  5.00000 10.00000 11.66667 20.00000"
            ]
          },
          "metadata": {}
        }
      ]
    },
    {
      "cell_type": "code",
      "source": [
        "na.omit(cbind(df, c(F,T,NA)))"
      ],
      "metadata": {
        "colab": {
          "base_uri": "https://localhost:8080/",
          "height": 156
        },
        "id": "VJT8hZtNKBcM",
        "outputId": "aac2b316-c489-4e79-dbf1-24a843a6cb69"
      },
      "execution_count": 143,
      "outputs": [
        {
          "output_type": "display_data",
          "data": {
            "text/html": [
              "<table class=\"dataframe\">\n",
              "<caption>A data.frame: 2 × 5</caption>\n",
              "<thead>\n",
              "\t<tr><th></th><th scope=col>col1</th><th scope=col>col5</th><th scope=col>col8</th><th scope=col>col10</th><th scope=col>c(F, T, NA)</th></tr>\n",
              "\t<tr><th></th><th scope=col>&lt;int&gt;</th><th scope=col>&lt;chr&gt;</th><th scope=col>&lt;lgl&gt;</th><th scope=col>&lt;dbl&gt;</th><th scope=col>&lt;lgl&gt;</th></tr>\n",
              "</thead>\n",
              "<tbody>\n",
              "\t<tr><th scope=row>1</th><td>1</td><td>This</td><td> TRUE</td><td> 2.4</td><td>FALSE</td></tr>\n",
              "\t<tr><th scope=row>2</th><td>2</td><td>is  </td><td>FALSE</td><td>42.0</td><td> TRUE</td></tr>\n",
              "</tbody>\n",
              "</table>\n"
            ],
            "text/markdown": "\nA data.frame: 2 × 5\n\n| <!--/--> | col1 &lt;int&gt; | col5 &lt;chr&gt; | col8 &lt;lgl&gt; | col10 &lt;dbl&gt; | c(F, T, NA) &lt;lgl&gt; |\n|---|---|---|---|---|---|\n| 1 | 1 | This |  TRUE |  2.4 | FALSE |\n| 2 | 2 | is   | FALSE | 42.0 |  TRUE |\n\n",
            "text/latex": "A data.frame: 2 × 5\n\\begin{tabular}{r|lllll}\n  & col1 & col5 & col8 & col10 & c(F, T, NA)\\\\\n  & <int> & <chr> & <lgl> & <dbl> & <lgl>\\\\\n\\hline\n\t1 & 1 & This &  TRUE &  2.4 & FALSE\\\\\n\t2 & 2 & is   & FALSE & 42.0 &  TRUE\\\\\n\\end{tabular}\n",
            "text/plain": [
              "  col1 col5 col8  col10 c(F, T, NA)\n",
              "1 1    This  TRUE  2.4  FALSE      \n",
              "2 2    is   FALSE 42.0   TRUE      "
            ]
          },
          "metadata": {}
        }
      ]
    },
    {
      "cell_type": "code",
      "source": [],
      "metadata": {
        "id": "3atIV06uKK1R"
      },
      "execution_count": null,
      "outputs": []
    }
  ],
  "metadata": {
    "colab": {
      "provenance": []
    },
    "kernelspec": {
      "display_name": "R",
      "name": "ir"
    },
    "language_info": {
      "name": "R"
    }
  },
  "nbformat": 4,
  "nbformat_minor": 0
}