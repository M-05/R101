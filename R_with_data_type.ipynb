{
  "cells": [
    {
      "cell_type": "markdown",
      "source": [
        "# [R 이용한 데이터 wrangling논쟁](https://hyunyulhenry.github.io/data_wrangling/numbers.html)\n",
        "\n",
        "## 데이터 타입별 다루기\n",
        "\n",
        "> [library(stringr)](https://stringr.tidyverse.org/)\n",
        "\n",
        "> [library(lubridate)](https://lubridate.tidyverse.org/)\n",
        "\n",
        "> [library(forcats)](https://forcats.tidyverse.org/)"
      ],
      "metadata": {
        "id": "qaoQ7bvKLEF6"
      }
    },
    {
      "cell_type": "markdown",
      "source": [
        "# Numbers\n",
        "- integer\n",
        "- double"
      ],
      "metadata": {
        "id": "CjSg4VKOLTpf"
      }
    },
    {
      "cell_type": "code",
      "source": [
        "# double, integer Vector 만들기\n",
        "double_data =c(1, 2.5, 4.5)\n",
        "int_data = c(1L, 6L, 10L)"
      ],
      "metadata": {
        "id": "ReTcHF7VLWRS"
      },
      "execution_count": 1,
      "outputs": []
    },
    {
      "cell_type": "code",
      "source": [
        "double_data"
      ],
      "metadata": {
        "colab": {
          "base_uri": "https://localhost:8080/",
          "height": 32
        },
        "id": "7K8RkLGxLhwF",
        "outputId": "37466a0d-06fd-4d0c-e950-5409c1cfbde9"
      },
      "execution_count": 13,
      "outputs": [
        {
          "output_type": "display_data",
          "data": {
            "text/html": [
              "<style>\n",
              ".list-inline {list-style: none; margin:0; padding: 0}\n",
              ".list-inline>li {display: inline-block}\n",
              ".list-inline>li:not(:last-child)::after {content: \"\\00b7\"; padding: 0 .5ex}\n",
              "</style>\n",
              "<ol class=list-inline><li>1</li><li>2.5</li><li>4.5</li></ol>\n"
            ],
            "text/markdown": "1. 1\n2. 2.5\n3. 4.5\n\n\n",
            "text/latex": "\\begin{enumerate*}\n\\item 1\n\\item 2.5\n\\item 4.5\n\\end{enumerate*}\n",
            "text/plain": [
              "[1] 1.0 2.5 4.5"
            ]
          },
          "metadata": {}
        }
      ]
    },
    {
      "cell_type": "code",
      "source": [
        "paste(typeof(double_data), class(double_data))"
      ],
      "metadata": {
        "colab": {
          "base_uri": "https://localhost:8080/",
          "height": 32
        },
        "id": "97DgXyPMLvQH",
        "outputId": "57b57670-527d-4155-be7c-b4f786b68dd1"
      },
      "execution_count": 9,
      "outputs": [
        {
          "output_type": "display_data",
          "data": {
            "text/html": [
              "'double numeric'"
            ],
            "text/markdown": "'double numeric'",
            "text/latex": "'double numeric'",
            "text/plain": [
              "[1] \"double numeric\""
            ]
          },
          "metadata": {}
        }
      ]
    },
    {
      "cell_type": "code",
      "source": [
        "typeof(as.integer(double_data))"
      ],
      "metadata": {
        "colab": {
          "base_uri": "https://localhost:8080/",
          "height": 32
        },
        "id": "0VQ4NUyfMidO",
        "outputId": "ae8bd37a-d1ab-4148-9ab9-03fa842a0fa9"
      },
      "execution_count": 19,
      "outputs": [
        {
          "output_type": "display_data",
          "data": {
            "text/html": [
              "'integer'"
            ],
            "text/markdown": "'integer'",
            "text/latex": "'integer'",
            "text/plain": [
              "[1] \"integer\""
            ]
          },
          "metadata": {}
        }
      ]
    },
    {
      "cell_type": "code",
      "source": [
        "int_data"
      ],
      "metadata": {
        "colab": {
          "base_uri": "https://localhost:8080/",
          "height": 32
        },
        "id": "uc8YSEw7L37e",
        "outputId": "b4ecb50e-da10-422f-d6b3-5fbd76ac9acc"
      },
      "execution_count": 10,
      "outputs": [
        {
          "output_type": "display_data",
          "data": {
            "text/html": [
              "<style>\n",
              ".list-inline {list-style: none; margin:0; padding: 0}\n",
              ".list-inline>li {display: inline-block}\n",
              ".list-inline>li:not(:last-child)::after {content: \"\\00b7\"; padding: 0 .5ex}\n",
              "</style>\n",
              "<ol class=list-inline><li>1</li><li>6</li><li>10</li></ol>\n"
            ],
            "text/markdown": "1. 1\n2. 6\n3. 10\n\n\n",
            "text/latex": "\\begin{enumerate*}\n\\item 1\n\\item 6\n\\item 10\n\\end{enumerate*}\n",
            "text/plain": [
              "[1]  1  6 10"
            ]
          },
          "metadata": {}
        }
      ]
    },
    {
      "cell_type": "code",
      "source": [
        "paste(typeof(int_data), class(int_data))"
      ],
      "metadata": {
        "colab": {
          "base_uri": "https://localhost:8080/",
          "height": 32
        },
        "id": "Op-tnqJRLx7E",
        "outputId": "9c7f27c6-2092-4af0-dee4-cc3b94ac42ad"
      },
      "execution_count": 11,
      "outputs": [
        {
          "output_type": "display_data",
          "data": {
            "text/html": [
              "'integer integer'"
            ],
            "text/markdown": "'integer integer'",
            "text/latex": "'integer integer'",
            "text/plain": [
              "[1] \"integer integer\""
            ]
          },
          "metadata": {}
        }
      ]
    },
    {
      "cell_type": "code",
      "source": [
        "typeof(as.double(int_data))"
      ],
      "metadata": {
        "colab": {
          "base_uri": "https://localhost:8080/",
          "height": 32
        },
        "id": "7yhvU3qLMdDf",
        "outputId": "68b2a668-a0fc-4c58-9210-34b3ad4dca5f"
      },
      "execution_count": 18,
      "outputs": [
        {
          "output_type": "display_data",
          "data": {
            "text/html": [
              "'double'"
            ],
            "text/markdown": "'double'",
            "text/latex": "'double'",
            "text/plain": [
              "[1] \"double\""
            ]
          },
          "metadata": {}
        }
      ]
    },
    {
      "cell_type": "code",
      "source": [
        "cat(typeof(5), typeof(5L))"
      ],
      "metadata": {
        "colab": {
          "base_uri": "https://localhost:8080/"
        },
        "id": "_Y-7uUkxMc9v",
        "outputId": "1e5269c5-ba5e-4107-a732-c3cfe3056083"
      },
      "execution_count": 23,
      "outputs": [
        {
          "output_type": "stream",
          "name": "stdout",
          "text": [
            "double integer"
          ]
        }
      ]
    },
    {
      "cell_type": "code",
      "source": [
        "data = 5:10\n",
        "cat(typeof(data), data)"
      ],
      "metadata": {
        "colab": {
          "base_uri": "https://localhost:8080/"
        },
        "id": "M3iuYGhwM-Ge",
        "outputId": "45386de7-54e6-4150-c9db-2b881a93dd1d"
      },
      "execution_count": 29,
      "outputs": [
        {
          "output_type": "stream",
          "name": "stdout",
          "text": [
            "integer 5 6 7 8 9 10"
          ]
        }
      ]
    },
    {
      "cell_type": "code",
      "source": [
        "# combine\n",
        "data = c(5:10)\n",
        "cat(typeof(data), data)"
      ],
      "metadata": {
        "colab": {
          "base_uri": "https://localhost:8080/"
        },
        "id": "7CMuuerAM-Cx",
        "outputId": "2060a59b-a2d2-4dd8-ec86-5bf76e723cf6"
      },
      "execution_count": 26,
      "outputs": [
        {
          "output_type": "stream",
          "name": "stdout",
          "text": [
            "integer 5 6 7 8 9 10"
          ]
        }
      ]
    },
    {
      "cell_type": "code",
      "source": [
        "# sequences\n",
        "seq(from=3, to=9, by=3)\n",
        "seq(1, 21, 3)"
      ],
      "metadata": {
        "colab": {
          "base_uri": "https://localhost:8080/",
          "height": 49
        },
        "id": "c1fjN3imMcvf",
        "outputId": "d2cd6a4d-d77f-4fb5-c63a-8d2c95f1758f"
      },
      "execution_count": 32,
      "outputs": [
        {
          "output_type": "display_data",
          "data": {
            "text/html": [
              "<style>\n",
              ".list-inline {list-style: none; margin:0; padding: 0}\n",
              ".list-inline>li {display: inline-block}\n",
              ".list-inline>li:not(:last-child)::after {content: \"\\00b7\"; padding: 0 .5ex}\n",
              "</style>\n",
              "<ol class=list-inline><li>3</li><li>6</li><li>9</li></ol>\n"
            ],
            "text/markdown": "1. 3\n2. 6\n3. 9\n\n\n",
            "text/latex": "\\begin{enumerate*}\n\\item 3\n\\item 6\n\\item 9\n\\end{enumerate*}\n",
            "text/plain": [
              "[1] 3 6 9"
            ]
          },
          "metadata": {}
        },
        {
          "output_type": "display_data",
          "data": {
            "text/html": [
              "<style>\n",
              ".list-inline {list-style: none; margin:0; padding: 0}\n",
              ".list-inline>li {display: inline-block}\n",
              ".list-inline>li:not(:last-child)::after {content: \"\\00b7\"; padding: 0 .5ex}\n",
              "</style>\n",
              "<ol class=list-inline><li>1</li><li>4</li><li>7</li><li>10</li><li>13</li><li>16</li><li>19</li></ol>\n"
            ],
            "text/markdown": "1. 1\n2. 4\n3. 7\n4. 10\n5. 13\n6. 16\n7. 19\n\n\n",
            "text/latex": "\\begin{enumerate*}\n\\item 1\n\\item 4\n\\item 7\n\\item 10\n\\item 13\n\\item 16\n\\item 19\n\\end{enumerate*}\n",
            "text/plain": [
              "[1]  1  4  7 10 13 16 19"
            ]
          },
          "metadata": {}
        }
      ]
    },
    {
      "cell_type": "code",
      "source": [
        "seq(0, 15, length.out=5)"
      ],
      "metadata": {
        "colab": {
          "base_uri": "https://localhost:8080/",
          "height": 32
        },
        "id": "yJuxvQN5N-SD",
        "outputId": "1bd04a15-1df7-46e6-d8b6-1ac720e27eee"
      },
      "execution_count": 37,
      "outputs": [
        {
          "output_type": "display_data",
          "data": {
            "text/html": [
              "<style>\n",
              ".list-inline {list-style: none; margin:0; padding: 0}\n",
              ".list-inline>li {display: inline-block}\n",
              ".list-inline>li:not(:last-child)::after {content: \"\\00b7\"; padding: 0 .5ex}\n",
              "</style>\n",
              "<ol class=list-inline><li>0</li><li>3.75</li><li>7.5</li><li>11.25</li><li>15</li></ol>\n"
            ],
            "text/markdown": "1. 0\n2. 3.75\n3. 7.5\n4. 11.25\n5. 15\n\n\n",
            "text/latex": "\\begin{enumerate*}\n\\item 0\n\\item 3.75\n\\item 7.5\n\\item 11.25\n\\item 15\n\\end{enumerate*}\n",
            "text/plain": [
              "[1]  0.00  3.75  7.50 11.25 15.00"
            ]
          },
          "metadata": {}
        }
      ]
    },
    {
      "cell_type": "code",
      "source": [
        "# repliate 복제하다. 되풀이하다.\n",
        "rep(1:5)\n",
        "rep(1:5, times=3)"
      ],
      "metadata": {
        "colab": {
          "base_uri": "https://localhost:8080/",
          "height": 49
        },
        "id": "T63C_x8cN-M2",
        "outputId": "0d07d06a-1c7a-43fd-ece8-67693def23bf"
      },
      "execution_count": 39,
      "outputs": [
        {
          "output_type": "display_data",
          "data": {
            "text/html": [
              "<style>\n",
              ".list-inline {list-style: none; margin:0; padding: 0}\n",
              ".list-inline>li {display: inline-block}\n",
              ".list-inline>li:not(:last-child)::after {content: \"\\00b7\"; padding: 0 .5ex}\n",
              "</style>\n",
              "<ol class=list-inline><li>1</li><li>2</li><li>3</li><li>4</li><li>5</li></ol>\n"
            ],
            "text/markdown": "1. 1\n2. 2\n3. 3\n4. 4\n5. 5\n\n\n",
            "text/latex": "\\begin{enumerate*}\n\\item 1\n\\item 2\n\\item 3\n\\item 4\n\\item 5\n\\end{enumerate*}\n",
            "text/plain": [
              "[1] 1 2 3 4 5"
            ]
          },
          "metadata": {}
        },
        {
          "output_type": "display_data",
          "data": {
            "text/html": [
              "<style>\n",
              ".list-inline {list-style: none; margin:0; padding: 0}\n",
              ".list-inline>li {display: inline-block}\n",
              ".list-inline>li:not(:last-child)::after {content: \"\\00b7\"; padding: 0 .5ex}\n",
              "</style>\n",
              "<ol class=list-inline><li>1</li><li>2</li><li>3</li><li>4</li><li>5</li><li>1</li><li>2</li><li>3</li><li>4</li><li>5</li><li>1</li><li>2</li><li>3</li><li>4</li><li>5</li></ol>\n"
            ],
            "text/markdown": "1. 1\n2. 2\n3. 3\n4. 4\n5. 5\n6. 1\n7. 2\n8. 3\n9. 4\n10. 5\n11. 1\n12. 2\n13. 3\n14. 4\n15. 5\n\n\n",
            "text/latex": "\\begin{enumerate*}\n\\item 1\n\\item 2\n\\item 3\n\\item 4\n\\item 5\n\\item 1\n\\item 2\n\\item 3\n\\item 4\n\\item 5\n\\item 1\n\\item 2\n\\item 3\n\\item 4\n\\item 5\n\\end{enumerate*}\n",
            "text/plain": [
              " [1] 1 2 3 4 5 1 2 3 4 5 1 2 3 4 5"
            ]
          },
          "metadata": {}
        }
      ]
    },
    {
      "cell_type": "code",
      "source": [
        "data= seq(from=20,to=0,by=-5)\n",
        "rep(data, times=2)"
      ],
      "metadata": {
        "colab": {
          "base_uri": "https://localhost:8080/",
          "height": 32
        },
        "id": "Paa8FihIOwQZ",
        "outputId": "c109af13-4c43-425b-d74c-87928f27d93b"
      },
      "execution_count": 48,
      "outputs": [
        {
          "output_type": "display_data",
          "data": {
            "text/html": [
              "<style>\n",
              ".list-inline {list-style: none; margin:0; padding: 0}\n",
              ".list-inline>li {display: inline-block}\n",
              ".list-inline>li:not(:last-child)::after {content: \"\\00b7\"; padding: 0 .5ex}\n",
              "</style>\n",
              "<ol class=list-inline><li>20</li><li>15</li><li>10</li><li>5</li><li>0</li><li>20</li><li>15</li><li>10</li><li>5</li><li>0</li></ol>\n"
            ],
            "text/markdown": "1. 20\n2. 15\n3. 10\n4. 5\n5. 0\n6. 20\n7. 15\n8. 10\n9. 5\n10. 0\n\n\n",
            "text/latex": "\\begin{enumerate*}\n\\item 20\n\\item 15\n\\item 10\n\\item 5\n\\item 0\n\\item 20\n\\item 15\n\\item 10\n\\item 5\n\\item 0\n\\end{enumerate*}\n",
            "text/plain": [
              " [1] 20 15 10  5  0 20 15 10  5  0"
            ]
          },
          "metadata": {}
        }
      ]
    },
    {
      "cell_type": "code",
      "source": [
        "rep(data, each=2)"
      ],
      "metadata": {
        "colab": {
          "base_uri": "https://localhost:8080/",
          "height": 32
        },
        "id": "hSFRgs92PMVY",
        "outputId": "7e99b17e-b9e7-4970-902d-d15312047439"
      },
      "execution_count": 49,
      "outputs": [
        {
          "output_type": "display_data",
          "data": {
            "text/html": [
              "<style>\n",
              ".list-inline {list-style: none; margin:0; padding: 0}\n",
              ".list-inline>li {display: inline-block}\n",
              ".list-inline>li:not(:last-child)::after {content: \"\\00b7\"; padding: 0 .5ex}\n",
              "</style>\n",
              "<ol class=list-inline><li>20</li><li>20</li><li>15</li><li>15</li><li>10</li><li>10</li><li>5</li><li>5</li><li>0</li><li>0</li></ol>\n"
            ],
            "text/markdown": "1. 20\n2. 20\n3. 15\n4. 15\n5. 10\n6. 10\n7. 5\n8. 5\n9. 0\n10. 0\n\n\n",
            "text/latex": "\\begin{enumerate*}\n\\item 20\n\\item 20\n\\item 15\n\\item 15\n\\item 10\n\\item 10\n\\item 5\n\\item 5\n\\item 0\n\\item 0\n\\end{enumerate*}\n",
            "text/plain": [
              " [1] 20 20 15 15 10 10  5  5  0  0"
            ]
          },
          "metadata": {}
        }
      ]
    },
    {
      "cell_type": "code",
      "source": [
        "data * 5"
      ],
      "metadata": {
        "colab": {
          "base_uri": "https://localhost:8080/",
          "height": 32
        },
        "id": "PeeyJK30PMSS",
        "outputId": "8a35bd4e-a82e-4576-f32e-72d6bc2fb189"
      },
      "execution_count": 50,
      "outputs": [
        {
          "output_type": "display_data",
          "data": {
            "text/html": [
              "<style>\n",
              ".list-inline {list-style: none; margin:0; padding: 0}\n",
              ".list-inline>li {display: inline-block}\n",
              ".list-inline>li:not(:last-child)::after {content: \"\\00b7\"; padding: 0 .5ex}\n",
              "</style>\n",
              "<ol class=list-inline><li>100</li><li>75</li><li>50</li><li>25</li><li>0</li></ol>\n"
            ],
            "text/markdown": "1. 100\n2. 75\n3. 50\n4. 25\n5. 0\n\n\n",
            "text/latex": "\\begin{enumerate*}\n\\item 100\n\\item 75\n\\item 50\n\\item 25\n\\item 0\n\\end{enumerate*}\n",
            "text/plain": [
              "[1] 100  75  50  25   0"
            ]
          },
          "metadata": {}
        }
      ]
    },
    {
      "cell_type": "code",
      "source": [
        "# random uniform distribution\n",
        "# 0 ~ 1 사이의 임의 숫자 생성\n",
        "runif(5)\n",
        "\n",
        "runif(5, min=0, max=75)"
      ],
      "metadata": {
        "colab": {
          "base_uri": "https://localhost:8080/",
          "height": 49
        },
        "id": "U4CLbNm7PVaX",
        "outputId": "f4bb24b2-2589-4ce6-dcfc-e7cd3153383b"
      },
      "execution_count": 52,
      "outputs": [
        {
          "output_type": "display_data",
          "data": {
            "text/html": [
              "<style>\n",
              ".list-inline {list-style: none; margin:0; padding: 0}\n",
              ".list-inline>li {display: inline-block}\n",
              ".list-inline>li:not(:last-child)::after {content: \"\\00b7\"; padding: 0 .5ex}\n",
              "</style>\n",
              "<ol class=list-inline><li>0.985350229544565</li><li>0.605278231436387</li><li>0.0531727012712508</li><li>0.693197447340935</li><li>0.984372480772436</li></ol>\n"
            ],
            "text/markdown": "1. 0.985350229544565\n2. 0.605278231436387\n3. 0.0531727012712508\n4. 0.693197447340935\n5. 0.984372480772436\n\n\n",
            "text/latex": "\\begin{enumerate*}\n\\item 0.985350229544565\n\\item 0.605278231436387\n\\item 0.0531727012712508\n\\item 0.693197447340935\n\\item 0.984372480772436\n\\end{enumerate*}\n",
            "text/plain": [
              "[1] 0.9853502 0.6052782 0.0531727 0.6931974 0.9843725"
            ]
          },
          "metadata": {}
        },
        {
          "output_type": "display_data",
          "data": {
            "text/html": [
              "<style>\n",
              ".list-inline {list-style: none; margin:0; padding: 0}\n",
              ".list-inline>li {display: inline-block}\n",
              ".list-inline>li:not(:last-child)::after {content: \"\\00b7\"; padding: 0 .5ex}\n",
              "</style>\n",
              "<ol class=list-inline><li>57.6294604979921</li><li>61.7091710970271</li><li>13.5083545697853</li><li>11.3127561751753</li><li>15.7885499938857</li></ol>\n"
            ],
            "text/markdown": "1. 57.6294604979921\n2. 61.7091710970271\n3. 13.5083545697853\n4. 11.3127561751753\n5. 15.7885499938857\n\n\n",
            "text/latex": "\\begin{enumerate*}\n\\item 57.6294604979921\n\\item 61.7091710970271\n\\item 13.5083545697853\n\\item 11.3127561751753\n\\item 15.7885499938857\n\\end{enumerate*}\n",
            "text/plain": [
              "[1] 57.62946 61.70917 13.50835 11.31276 15.78855"
            ]
          },
          "metadata": {}
        }
      ]
    },
    {
      "cell_type": "code",
      "source": [
        "?sample"
      ],
      "metadata": {
        "id": "Q1RXveQ8Pyax"
      },
      "execution_count": 57,
      "outputs": []
    },
    {
      "cell_type": "code",
      "source": [
        "# sample(x=vector, size=n, replace=FALSE)\n",
        "sample(0:10, 5, replace=TRUE)\n",
        "# 중복값 추출도 가능"
      ],
      "metadata": {
        "colab": {
          "base_uri": "https://localhost:8080/",
          "height": 32
        },
        "id": "X6fzmu6IPVXW",
        "outputId": "1a99c6b0-33f4-4cb4-9655-30be2a4a0463"
      },
      "execution_count": 55,
      "outputs": [
        {
          "output_type": "display_data",
          "data": {
            "text/html": [
              "<style>\n",
              ".list-inline {list-style: none; margin:0; padding: 0}\n",
              ".list-inline>li {display: inline-block}\n",
              ".list-inline>li:not(:last-child)::after {content: \"\\00b7\"; padding: 0 .5ex}\n",
              "</style>\n",
              "<ol class=list-inline><li>0</li><li>8</li><li>7</li><li>0</li><li>10</li></ol>\n"
            ],
            "text/markdown": "1. 0\n2. 8\n3. 7\n4. 0\n5. 10\n\n\n",
            "text/latex": "\\begin{enumerate*}\n\\item 0\n\\item 8\n\\item 7\n\\item 0\n\\item 10\n\\end{enumerate*}\n",
            "text/plain": [
              "[1]  0  8  7  0 10"
            ]
          },
          "metadata": {}
        }
      ]
    },
    {
      "cell_type": "code",
      "source": [
        "sample(0:10, 5, replace=FALSE)"
      ],
      "metadata": {
        "colab": {
          "base_uri": "https://localhost:8080/",
          "height": 32
        },
        "id": "yhqF4yZtPH4C",
        "outputId": "4278c0a2-b42d-4de1-f184-6903fbbf5e41"
      },
      "execution_count": 56,
      "outputs": [
        {
          "output_type": "display_data",
          "data": {
            "text/html": [
              "<style>\n",
              ".list-inline {list-style: none; margin:0; padding: 0}\n",
              ".list-inline>li {display: inline-block}\n",
              ".list-inline>li:not(:last-child)::after {content: \"\\00b7\"; padding: 0 .5ex}\n",
              "</style>\n",
              "<ol class=list-inline><li>1</li><li>5</li><li>6</li><li>9</li><li>0</li></ol>\n"
            ],
            "text/markdown": "1. 1\n2. 5\n3. 6\n4. 9\n5. 0\n\n\n",
            "text/latex": "\\begin{enumerate*}\n\\item 1\n\\item 5\n\\item 6\n\\item 9\n\\item 0\n\\end{enumerate*}\n",
            "text/plain": [
              "[1] 1 5 6 9 0"
            ]
          },
          "metadata": {}
        }
      ]
    },
    {
      "cell_type": "code",
      "source": [
        "# Normal Distribution\n",
        "data = rnorm(10, mean=0, sd=1)\n",
        "data"
      ],
      "metadata": {
        "colab": {
          "base_uri": "https://localhost:8080/",
          "height": 49
        },
        "id": "zbg9c1piQP1k",
        "outputId": "e248db71-823b-4e58-a3e3-290d06e08639"
      },
      "execution_count": 67,
      "outputs": [
        {
          "output_type": "display_data",
          "data": {
            "text/html": [
              "<style>\n",
              ".list-inline {list-style: none; margin:0; padding: 0}\n",
              ".list-inline>li {display: inline-block}\n",
              ".list-inline>li:not(:last-child)::after {content: \"\\00b7\"; padding: 0 .5ex}\n",
              "</style>\n",
              "<ol class=list-inline><li>-0.221729570284144</li><li>0.532691603731751</li><li>-0.694344802199996</li><li>-1.39130743121477</li><li>0.775884680044429</li><li>-0.250266236367827</li><li>-0.960305435286229</li><li>-0.809039908950567</li><li>-0.436021043367505</li><li>0.366972966171851</li></ol>\n"
            ],
            "text/markdown": "1. -0.221729570284144\n2. 0.532691603731751\n3. -0.694344802199996\n4. -1.39130743121477\n5. 0.775884680044429\n6. -0.250266236367827\n7. -0.960305435286229\n8. -0.809039908950567\n9. -0.436021043367505\n10. 0.366972966171851\n\n\n",
            "text/latex": "\\begin{enumerate*}\n\\item -0.221729570284144\n\\item 0.532691603731751\n\\item -0.694344802199996\n\\item -1.39130743121477\n\\item 0.775884680044429\n\\item -0.250266236367827\n\\item -0.960305435286229\n\\item -0.809039908950567\n\\item -0.436021043367505\n\\item 0.366972966171851\n\\end{enumerate*}\n",
            "text/plain": [
              " [1] -0.2217296  0.5326916 -0.6943448 -1.3913074  0.7758847 -0.2502662\n",
              " [7] -0.9603054 -0.8090399 -0.4360210  0.3669730"
            ]
          },
          "metadata": {}
        }
      ]
    },
    {
      "cell_type": "code",
      "source": [
        "# 난수 10개 생성. 평균 0 표준편차 1\n",
        "r_norm = rnorm(10, mean=0, sd=1)\n",
        "hist(r_norm)\n",
        "r_norm"
      ],
      "metadata": {
        "colab": {
          "base_uri": "https://localhost:8080/",
          "height": 469
        },
        "id": "QLhmu1zpPHwm",
        "outputId": "f91f82b8-805c-4f32-b89a-041db4781521"
      },
      "execution_count": 82,
      "outputs": [
        {
          "output_type": "display_data",
          "data": {
            "text/html": [
              "<style>\n",
              ".list-inline {list-style: none; margin:0; padding: 0}\n",
              ".list-inline>li {display: inline-block}\n",
              ".list-inline>li:not(:last-child)::after {content: \"\\00b7\"; padding: 0 .5ex}\n",
              "</style>\n",
              "<ol class=list-inline><li>1.24927040214005</li><li>0.106472717372174</li><li>-0.808541193159844</li><li>1.24395400892197</li><li>-0.141220906737082</li><li>-0.275986047883893</li><li>-0.543098744858581</li><li>-0.477453233513912</li><li>1.5987036556543</li><li>0.90541815237757</li></ol>\n"
            ],
            "text/markdown": "1. 1.24927040214005\n2. 0.106472717372174\n3. -0.808541193159844\n4. 1.24395400892197\n5. -0.141220906737082\n6. -0.275986047883893\n7. -0.543098744858581\n8. -0.477453233513912\n9. 1.5987036556543\n10. 0.90541815237757\n\n\n",
            "text/latex": "\\begin{enumerate*}\n\\item 1.24927040214005\n\\item 0.106472717372174\n\\item -0.808541193159844\n\\item 1.24395400892197\n\\item -0.141220906737082\n\\item -0.275986047883893\n\\item -0.543098744858581\n\\item -0.477453233513912\n\\item 1.5987036556543\n\\item 0.90541815237757\n\\end{enumerate*}\n",
            "text/plain": [
              " [1]  1.2492704  0.1064727 -0.8085412  1.2439540 -0.1412209 -0.2759860\n",
              " [7] -0.5430987 -0.4774532  1.5987037  0.9054182"
            ]
          },
          "metadata": {}
        },
        {
          "output_type": "display_data",
          "data": {
            "text/plain": [
              "Plot with title “Histogram of r_norm”"
            ],
            "image/png": "[encoded data removed]"
          },
          "metadata": {
            "image/png": {
              "width": 420,
              "height": 420
            }
          }
        }
      ]
    },
    {
      "cell_type": "code",
      "source": [
        "density = dnorm(0, mean=0, sd=1)\n",
        "hist(density)\n",
        "density"
      ],
      "metadata": {
        "colab": {
          "base_uri": "https://localhost:8080/",
          "height": 452
        },
        "id": "z0Sh-ZJESz7M",
        "outputId": "78a147f5-167f-4c15-f6db-d2d128d5f44b"
      },
      "execution_count": 83,
      "outputs": [
        {
          "output_type": "display_data",
          "data": {
            "text/html": [
              "0.398942280401433"
            ],
            "text/markdown": "0.398942280401433",
            "text/latex": "0.398942280401433",
            "text/plain": [
              "[1] 0.3989423"
            ]
          },
          "metadata": {}
        },
        {
          "output_type": "display_data",
          "data": {
            "text/plain": [
              "Plot with title “Histogram of density”"
            ],
            "image/png": "[encoded data removed]"
          },
          "metadata": {
            "image/png": {
              "width": 420,
              "height": 420
            }
          }
        }
      ]
    },
    {
      "cell_type": "code",
      "source": [
        "q= qnorm(0.5, mean = 0, sd = 1)\n",
        "hist(q)\n",
        "q"
      ],
      "metadata": {
        "colab": {
          "base_uri": "https://localhost:8080/",
          "height": 452
        },
        "id": "ly-5rvGWLBoD",
        "outputId": "3fdade21-fb0f-4a66-cb76-0efda770a310"
      },
      "execution_count": 84,
      "outputs": [
        {
          "output_type": "display_data",
          "data": {
            "text/html": [
              "0"
            ],
            "text/markdown": "0",
            "text/latex": "0",
            "text/plain": [
              "[1] 0"
            ]
          },
          "metadata": {}
        },
        {
          "output_type": "display_data",
          "data": {
            "text/plain": [
              "Plot with title “Histogram of q”"
            ],
            "image/png": "[encoded data removed]"
          },
          "metadata": {
            "image/png": {
              "width": 420,
              "height": 420
            }
          }
        }
      ]
    },
    {
      "cell_type": "code",
      "source": [
        "p = pnorm(0, mean = 0, sd = 1)\n",
        "hist(p)\n",
        "p"
      ],
      "metadata": {
        "colab": {
          "base_uri": "https://localhost:8080/",
          "height": 452
        },
        "id": "lztbOscILBlf",
        "outputId": "127f5a6d-6866-4a2e-dbb4-147789283d40"
      },
      "execution_count": 85,
      "outputs": [
        {
          "output_type": "display_data",
          "data": {
            "text/html": [
              "0.5"
            ],
            "text/markdown": "0.5",
            "text/latex": "0.5",
            "text/plain": [
              "[1] 0.5"
            ]
          },
          "metadata": {}
        },
        {
          "output_type": "display_data",
          "data": {
            "text/plain": [
              "Plot with title “Histogram of p”"
            ],
            "image/png": "[encoded data removed]"
          },
          "metadata": {
            "image/png": {
              "width": 420,
              "height": 420
            }
          }
        }
      ]
    },
    {
      "cell_type": "code",
      "source": [
        "# round ceiling floor\n",
        "\n",
        "x = c(1, 1.35, 1.7, 2.05, 2.4, 9.499999999999999999999999)\n",
        "round(x, digits=0)"
      ],
      "metadata": {
        "colab": {
          "base_uri": "https://localhost:8080/",
          "height": 32
        },
        "id": "7xXBkrNdLBi0",
        "outputId": "7ba53884-2db9-49d0-8603-e1ad0bd6ac09"
      },
      "execution_count": 95,
      "outputs": [
        {
          "output_type": "display_data",
          "data": {
            "text/html": [
              "<style>\n",
              ".list-inline {list-style: none; margin:0; padding: 0}\n",
              ".list-inline>li {display: inline-block}\n",
              ".list-inline>li:not(:last-child)::after {content: \"\\00b7\"; padding: 0 .5ex}\n",
              "</style>\n",
              "<ol class=list-inline><li>1</li><li>1</li><li>2</li><li>2</li><li>2</li><li>10</li></ol>\n"
            ],
            "text/markdown": "1. 1\n2. 1\n3. 2\n4. 2\n5. 2\n6. 10\n\n\n",
            "text/latex": "\\begin{enumerate*}\n\\item 1\n\\item 1\n\\item 2\n\\item 2\n\\item 2\n\\item 10\n\\end{enumerate*}\n",
            "text/plain": [
              "[1]  1  1  2  2  2 10"
            ]
          },
          "metadata": {}
        }
      ]
    },
    {
      "cell_type": "code",
      "source": [
        "ceiling(x)\n",
        "floor(-x)"
      ],
      "metadata": {
        "colab": {
          "base_uri": "https://localhost:8080/",
          "height": 49
        },
        "id": "RXMCrAFVLBcZ",
        "outputId": "3b66428e-1624-4c14-a7ab-26671d48e39c"
      },
      "execution_count": 98,
      "outputs": [
        {
          "output_type": "display_data",
          "data": {
            "text/html": [
              "<style>\n",
              ".list-inline {list-style: none; margin:0; padding: 0}\n",
              ".list-inline>li {display: inline-block}\n",
              ".list-inline>li:not(:last-child)::after {content: \"\\00b7\"; padding: 0 .5ex}\n",
              "</style>\n",
              "<ol class=list-inline><li>1</li><li>2</li><li>2</li><li>3</li><li>3</li><li>10</li></ol>\n"
            ],
            "text/markdown": "1. 1\n2. 2\n3. 2\n4. 3\n5. 3\n6. 10\n\n\n",
            "text/latex": "\\begin{enumerate*}\n\\item 1\n\\item 2\n\\item 2\n\\item 3\n\\item 3\n\\item 10\n\\end{enumerate*}\n",
            "text/plain": [
              "[1]  1  2  2  3  3 10"
            ]
          },
          "metadata": {}
        },
        {
          "output_type": "display_data",
          "data": {
            "text/html": [
              "<style>\n",
              ".list-inline {list-style: none; margin:0; padding: 0}\n",
              ".list-inline>li {display: inline-block}\n",
              ".list-inline>li:not(:last-child)::after {content: \"\\00b7\"; padding: 0 .5ex}\n",
              "</style>\n",
              "<ol class=list-inline><li>-1</li><li>-2</li><li>-2</li><li>-3</li><li>-3</li><li>-10</li></ol>\n"
            ],
            "text/markdown": "1. -1\n2. -2\n3. -2\n4. -3\n5. -3\n6. -10\n\n\n",
            "text/latex": "\\begin{enumerate*}\n\\item -1\n\\item -2\n\\item -2\n\\item -3\n\\item -3\n\\item -10\n\\end{enumerate*}\n",
            "text/plain": [
              "[1]  -1  -2  -2  -3  -3 -10"
            ]
          },
          "metadata": {}
        }
      ]
    },
    {
      "cell_type": "markdown",
      "source": [
        "# Character Strings"
      ],
      "metadata": {
        "id": "8nxicqNxLBZG"
      }
    },
    {
      "cell_type": "code",
      "source": [
        "install.packages('stringr')\n",
        "library('stringr')"
      ],
      "metadata": {
        "colab": {
          "base_uri": "https://localhost:8080/"
        },
        "id": "bsxAV59XLBWI",
        "outputId": "26f6cd38-972c-4f6f-89ca-ee8eeb78be09"
      },
      "execution_count": 99,
      "outputs": [
        {
          "output_type": "stream",
          "name": "stderr",
          "text": [
            "Installing package into ‘/usr/local/lib/R/site-library’\n",
            "(as ‘lib’ is unspecified)\n",
            "\n"
          ]
        }
      ]
    },
    {
      "cell_type": "code",
      "source": [
        "a = 'learning to create'\n",
        "b = 'character strings'\n",
        "paste(a, b)"
      ],
      "metadata": {
        "colab": {
          "base_uri": "https://localhost:8080/",
          "height": 32
        },
        "id": "lzAvT33gLBTF",
        "outputId": "e2ceb121-d8c2-455a-e768-7f51eac7876d"
      },
      "execution_count": 100,
      "outputs": [
        {
          "output_type": "display_data",
          "data": {
            "text/html": [
              "'learning to create character strings'"
            ],
            "text/markdown": "'learning to create character strings'",
            "text/latex": "'learning to create character strings'",
            "text/plain": [
              "[1] \"learning to create character strings\""
            ]
          },
          "metadata": {}
        }
      ]
    },
    {
      "cell_type": "code",
      "source": [
        "paste('pi is', pi, sep='')"
      ],
      "metadata": {
        "colab": {
          "base_uri": "https://localhost:8080/",
          "height": 32
        },
        "id": "6bQ9WvDYLBPR",
        "outputId": "5297de8d-500a-4fa0-b918-52c444021fcc"
      },
      "execution_count": 104,
      "outputs": [
        {
          "output_type": "display_data",
          "data": {
            "text/html": [
              "'pi is3.14159265358979'"
            ],
            "text/markdown": "'pi is3.14159265358979'",
            "text/latex": "'pi is3.14159265358979'",
            "text/plain": [
              "[1] \"pi is3.14159265358979\""
            ]
          },
          "metadata": {}
        }
      ]
    },
    {
      "cell_type": "code",
      "source": [
        "paste0('I', 'love', 'R')"
      ],
      "metadata": {
        "colab": {
          "base_uri": "https://localhost:8080/",
          "height": 32
        },
        "id": "x_47NTlQLBML",
        "outputId": "70f92ef0-c5ae-4672-df47-8c965541fcb2"
      },
      "execution_count": 105,
      "outputs": [
        {
          "output_type": "display_data",
          "data": {
            "text/html": [
              "'IloveR'"
            ],
            "text/markdown": "'IloveR'",
            "text/latex": "'IloveR'",
            "text/plain": [
              "[1] \"IloveR\""
            ]
          },
          "metadata": {}
        }
      ]
    },
    {
      "cell_type": "code",
      "source": [
        "x = 'learning to print strings'\n",
        "print(x) # 기본적 출력\n",
        "noquote(x) # quote 생략\n",
        "cat(x) # 문자열 결합 및 쿼트 생략"
      ],
      "metadata": {
        "colab": {
          "base_uri": "https://localhost:8080/",
          "height": 65
        },
        "id": "KIDof2A4U94Q",
        "outputId": "c820a5cc-498e-431c-ae0d-1a3f909669cd"
      },
      "execution_count": 106,
      "outputs": [
        {
          "output_type": "stream",
          "name": "stdout",
          "text": [
            "[1] \"learning to print strings\"\n"
          ]
        },
        {
          "output_type": "display_data",
          "data": {
            "text/plain": [
              "[1] learning to print strings"
            ]
          },
          "metadata": {}
        },
        {
          "output_type": "stream",
          "name": "stdout",
          "text": [
            "learning to print strings"
          ]
        }
      ]
    },
    {
      "cell_type": "code",
      "source": [
        "x = 'How many elements are in this string?'\n",
        "length(x) # element 갯수\n",
        "nchar(x) # 문자의 갯수\n",
        "# character vector"
      ],
      "metadata": {
        "colab": {
          "base_uri": "https://localhost:8080/",
          "height": 49
        },
        "id": "gK5fhxfpU-Dx",
        "outputId": "32c36b40-c60e-4449-f33d-4c00d6bb58cf"
      },
      "execution_count": 107,
      "outputs": [
        {
          "output_type": "display_data",
          "data": {
            "text/html": [
              "1"
            ],
            "text/markdown": "1",
            "text/latex": "1",
            "text/plain": [
              "[1] 1"
            ]
          },
          "metadata": {}
        },
        {
          "output_type": "display_data",
          "data": {
            "text/html": [
              "37"
            ],
            "text/markdown": "37",
            "text/latex": "37",
            "text/plain": [
              "[1] 37"
            ]
          },
          "metadata": {}
        }
      ]
    },
    {
      "cell_type": "code",
      "source": [
        "?length"
      ],
      "metadata": {
        "id": "1SgyIHq9Vidr"
      },
      "execution_count": 112,
      "outputs": []
    },
    {
      "cell_type": "code",
      "source": [
        "data\n",
        "nchar(data)"
      ],
      "metadata": {
        "colab": {
          "base_uri": "https://localhost:8080/",
          "height": 65
        },
        "id": "TuHUiUXCU-Fu",
        "outputId": "bd2be5c7-fdfa-4420-c2b7-f7c8d9bdf9d1"
      },
      "execution_count": 110,
      "outputs": [
        {
          "output_type": "display_data",
          "data": {
            "text/html": [
              "<style>\n",
              ".list-inline {list-style: none; margin:0; padding: 0}\n",
              ".list-inline>li {display: inline-block}\n",
              ".list-inline>li:not(:last-child)::after {content: \"\\00b7\"; padding: 0 .5ex}\n",
              "</style>\n",
              "<ol class=list-inline><li>-0.221729570284144</li><li>0.532691603731751</li><li>-0.694344802199996</li><li>-1.39130743121477</li><li>0.775884680044429</li><li>-0.250266236367827</li><li>-0.960305435286229</li><li>-0.809039908950567</li><li>-0.436021043367505</li><li>0.366972966171851</li></ol>\n"
            ],
            "text/markdown": "1. -0.221729570284144\n2. 0.532691603731751\n3. -0.694344802199996\n4. -1.39130743121477\n5. 0.775884680044429\n6. -0.250266236367827\n7. -0.960305435286229\n8. -0.809039908950567\n9. -0.436021043367505\n10. 0.366972966171851\n\n\n",
            "text/latex": "\\begin{enumerate*}\n\\item -0.221729570284144\n\\item 0.532691603731751\n\\item -0.694344802199996\n\\item -1.39130743121477\n\\item 0.775884680044429\n\\item -0.250266236367827\n\\item -0.960305435286229\n\\item -0.809039908950567\n\\item -0.436021043367505\n\\item 0.366972966171851\n\\end{enumerate*}\n",
            "text/plain": [
              " [1] -0.2217296  0.5326916 -0.6943448 -1.3913074  0.7758847 -0.2502662\n",
              " [7] -0.9603054 -0.8090399 -0.4360210  0.3669730"
            ]
          },
          "metadata": {}
        },
        {
          "output_type": "display_data",
          "data": {
            "text/html": [
              "<style>\n",
              ".list-inline {list-style: none; margin:0; padding: 0}\n",
              ".list-inline>li {display: inline-block}\n",
              ".list-inline>li:not(:last-child)::after {content: \"\\00b7\"; padding: 0 .5ex}\n",
              "</style>\n",
              "<ol class=list-inline><li>18</li><li>17</li><li>18</li><li>17</li><li>17</li><li>18</li><li>18</li><li>18</li><li>18</li><li>17</li></ol>\n"
            ],
            "text/markdown": "1. 18\n2. 17\n3. 18\n4. 17\n5. 17\n6. 18\n7. 18\n8. 18\n9. 18\n10. 17\n\n\n",
            "text/latex": "\\begin{enumerate*}\n\\item 18\n\\item 17\n\\item 18\n\\item 17\n\\item 17\n\\item 18\n\\item 18\n\\item 18\n\\item 18\n\\item 17\n\\end{enumerate*}\n",
            "text/plain": [
              " [1] 18 17 18 17 17 18 18 18 18 17"
            ]
          },
          "metadata": {}
        }
      ]
    },
    {
      "cell_type": "code",
      "source": [
        "library(stringr)\n",
        "# structure? combine\n",
        "str_c('Learning', 'to', 'use', 'the', 'stringr', 'package')\n",
        "str_c('Learning', 'to', 'use', 'the', 'stringr', 'package', sep = ' ')"
      ],
      "metadata": {
        "colab": {
          "base_uri": "https://localhost:8080/",
          "height": 49
        },
        "id": "puosfkhaU-IL",
        "outputId": "43a0acd3-cc23-406d-8561-7503e11ef3d4"
      },
      "execution_count": 115,
      "outputs": [
        {
          "output_type": "display_data",
          "data": {
            "text/html": [
              "'Learningtousethestringrpackage'"
            ],
            "text/markdown": "'Learningtousethestringrpackage'",
            "text/latex": "'Learningtousethestringrpackage'",
            "text/plain": [
              "[1] \"Learningtousethestringrpackage\""
            ]
          },
          "metadata": {}
        },
        {
          "output_type": "display_data",
          "data": {
            "text/html": [
              "'Learning to use the stringr package'"
            ],
            "text/markdown": "'Learning to use the stringr package'",
            "text/latex": "'Learning to use the stringr package'",
            "text/plain": [
              "[1] \"Learning to use the stringr package\""
            ]
          },
          "metadata": {}
        }
      ]
    },
    {
      "cell_type": "code",
      "source": [
        "str_c(c(1:5))\n",
        "str_c(c(1:5), sep='-')"
      ],
      "metadata": {
        "colab": {
          "base_uri": "https://localhost:8080/",
          "height": 49
        },
        "id": "ZfdV9lUTU-Ko",
        "outputId": "c3e3ca2e-af70-44c8-d758-9c166b71ad73"
      },
      "execution_count": 122,
      "outputs": [
        {
          "output_type": "display_data",
          "data": {
            "text/html": [
              "<style>\n",
              ".list-inline {list-style: none; margin:0; padding: 0}\n",
              ".list-inline>li {display: inline-block}\n",
              ".list-inline>li:not(:last-child)::after {content: \"\\00b7\"; padding: 0 .5ex}\n",
              "</style>\n",
              "<ol class=list-inline><li>'1'</li><li>'2'</li><li>'3'</li><li>'4'</li><li>'5'</li></ol>\n"
            ],
            "text/markdown": "1. '1'\n2. '2'\n3. '3'\n4. '4'\n5. '5'\n\n\n",
            "text/latex": "\\begin{enumerate*}\n\\item '1'\n\\item '2'\n\\item '3'\n\\item '4'\n\\item '5'\n\\end{enumerate*}\n",
            "text/plain": [
              "[1] \"1\" \"2\" \"3\" \"4\" \"5\""
            ]
          },
          "metadata": {}
        },
        {
          "output_type": "display_data",
          "data": {
            "text/html": [
              "<style>\n",
              ".list-inline {list-style: none; margin:0; padding: 0}\n",
              ".list-inline>li {display: inline-block}\n",
              ".list-inline>li:not(:last-child)::after {content: \"\\00b7\"; padding: 0 .5ex}\n",
              "</style>\n",
              "<ol class=list-inline><li>'1'</li><li>'2'</li><li>'3'</li><li>'4'</li><li>'5'</li></ol>\n"
            ],
            "text/markdown": "1. '1'\n2. '2'\n3. '3'\n4. '4'\n5. '5'\n\n\n",
            "text/latex": "\\begin{enumerate*}\n\\item '1'\n\\item '2'\n\\item '3'\n\\item '4'\n\\item '5'\n\\end{enumerate*}\n",
            "text/plain": [
              "[1] \"1\" \"2\" \"3\" \"4\" \"5\""
            ]
          },
          "metadata": {}
        }
      ]
    },
    {
      "cell_type": "code",
      "source": [
        "text = c('Learning', 'to', NA, 'use', 'the', NA, 'stringr', 'package')\n",
        "\n",
        "str_length(text)\n",
        "nchar(text)"
      ],
      "metadata": {
        "colab": {
          "base_uri": "https://localhost:8080/",
          "height": 49
        },
        "id": "pF2WHSc7U-M2",
        "outputId": "7a36597c-4ee2-4601-9e6f-8707c169a7cf"
      },
      "execution_count": 124,
      "outputs": [
        {
          "output_type": "display_data",
          "data": {
            "text/html": [
              "<style>\n",
              ".list-inline {list-style: none; margin:0; padding: 0}\n",
              ".list-inline>li {display: inline-block}\n",
              ".list-inline>li:not(:last-child)::after {content: \"\\00b7\"; padding: 0 .5ex}\n",
              "</style>\n",
              "<ol class=list-inline><li>8</li><li>2</li><li>&lt;NA&gt;</li><li>3</li><li>3</li><li>&lt;NA&gt;</li><li>7</li><li>7</li></ol>\n"
            ],
            "text/markdown": "1. 8\n2. 2\n3. &lt;NA&gt;\n4. 3\n5. 3\n6. &lt;NA&gt;\n7. 7\n8. 7\n\n\n",
            "text/latex": "\\begin{enumerate*}\n\\item 8\n\\item 2\n\\item <NA>\n\\item 3\n\\item 3\n\\item <NA>\n\\item 7\n\\item 7\n\\end{enumerate*}\n",
            "text/plain": [
              "[1]  8  2 NA  3  3 NA  7  7"
            ]
          },
          "metadata": {}
        },
        {
          "output_type": "display_data",
          "data": {
            "text/html": [
              "<style>\n",
              ".list-inline {list-style: none; margin:0; padding: 0}\n",
              ".list-inline>li {display: inline-block}\n",
              ".list-inline>li:not(:last-child)::after {content: \"\\00b7\"; padding: 0 .5ex}\n",
              "</style>\n",
              "<ol class=list-inline><li>8</li><li>2</li><li>&lt;NA&gt;</li><li>3</li><li>3</li><li>&lt;NA&gt;</li><li>7</li><li>7</li></ol>\n"
            ],
            "text/markdown": "1. 8\n2. 2\n3. &lt;NA&gt;\n4. 3\n5. 3\n6. &lt;NA&gt;\n7. 7\n8. 7\n\n\n",
            "text/latex": "\\begin{enumerate*}\n\\item 8\n\\item 2\n\\item <NA>\n\\item 3\n\\item 3\n\\item <NA>\n\\item 7\n\\item 7\n\\end{enumerate*}\n",
            "text/plain": [
              "[1]  8  2 NA  3  3 NA  7  7"
            ]
          },
          "metadata": {}
        }
      ]
    },
    {
      "cell_type": "code",
      "source": [
        "x = 'Learning to use the stringr package'\n",
        "\n",
        "str_sub(x, start = 1, end = 15)\n",
        "str_sub(x,0,8)\n",
        "str_sub(x, start = -7, end = -1)"
      ],
      "metadata": {
        "colab": {
          "base_uri": "https://localhost:8080/",
          "height": 65
        },
        "id": "U5c0IoHoU-O9",
        "outputId": "e5e2edb3-dd0f-4eb1-e558-0a9b688c0b0d"
      },
      "execution_count": 129,
      "outputs": [
        {
          "output_type": "display_data",
          "data": {
            "text/html": [
              "'Learning to use'"
            ],
            "text/markdown": "'Learning to use'",
            "text/latex": "'Learning to use'",
            "text/plain": [
              "[1] \"Learning to use\""
            ]
          },
          "metadata": {}
        },
        {
          "output_type": "display_data",
          "data": {
            "text/html": [
              "'Learning'"
            ],
            "text/markdown": "'Learning'",
            "text/latex": "'Learning'",
            "text/plain": [
              "[1] \"Learning\""
            ]
          },
          "metadata": {}
        },
        {
          "output_type": "display_data",
          "data": {
            "text/html": [
              "'package'"
            ],
            "text/markdown": "'package'",
            "text/latex": "'package'",
            "text/plain": [
              "[1] \"package\""
            ]
          },
          "metadata": {}
        }
      ]
    },
    {
      "cell_type": "code",
      "source": [
        "str_dup('beer', times = 3)\n",
        "str_dup(seq(5,15,5), times = 3)"
      ],
      "metadata": {
        "colab": {
          "base_uri": "https://localhost:8080/",
          "height": 49
        },
        "id": "3YiDibALYT-D",
        "outputId": "5797e26a-0e57-4a1b-9b4a-f9455783d045"
      },
      "execution_count": 130,
      "outputs": [
        {
          "output_type": "display_data",
          "data": {
            "text/html": [
              "'beerbeerbeer'"
            ],
            "text/markdown": "'beerbeerbeer'",
            "text/latex": "'beerbeerbeer'",
            "text/plain": [
              "[1] \"beerbeerbeer\""
            ]
          },
          "metadata": {}
        },
        {
          "output_type": "display_data",
          "data": {
            "text/html": [
              "<style>\n",
              ".list-inline {list-style: none; margin:0; padding: 0}\n",
              ".list-inline>li {display: inline-block}\n",
              ".list-inline>li:not(:last-child)::after {content: \"\\00b7\"; padding: 0 .5ex}\n",
              "</style>\n",
              "<ol class=list-inline><li>'555'</li><li>'101010'</li><li>'151515'</li></ol>\n"
            ],
            "text/markdown": "1. '555'\n2. '101010'\n3. '151515'\n\n\n",
            "text/latex": "\\begin{enumerate*}\n\\item '555'\n\\item '101010'\n\\item '151515'\n\\end{enumerate*}\n",
            "text/plain": [
              "[1] \"555\"    \"101010\" \"151515\""
            ]
          },
          "metadata": {}
        }
      ]
    },
    {
      "cell_type": "code",
      "source": [
        "str_dup(x, times = 3)"
      ],
      "metadata": {
        "colab": {
          "base_uri": "https://localhost:8080/",
          "height": 32
        },
        "id": "KIZBy6sjYnIu",
        "outputId": "9f84bd31-8253-4707-f7cb-00b0fbfd31af"
      },
      "execution_count": 131,
      "outputs": [
        {
          "output_type": "display_data",
          "data": {
            "text/html": [
              "'Learning to use the stringr packageLearning to use the stringr packageLearning to use the stringr package'"
            ],
            "text/markdown": "'Learning to use the stringr packageLearning to use the stringr packageLearning to use the stringr package'",
            "text/latex": "'Learning to use the stringr packageLearning to use the stringr packageLearning to use the stringr package'",
            "text/plain": [
              "[1] \"Learning to use the stringr packageLearning to use the stringr packageLearning to use the stringr package\""
            ]
          },
          "metadata": {}
        }
      ]
    },
    {
      "cell_type": "code",
      "source": [
        "text = c('Text ', ' with', ' whitespace ', ' on', 'both ', 'sides ')\n",
        "\n",
        "print(text)\n",
        "str_trim(text, side='both') # default\n",
        "str_trim(text, side='left')\n",
        "str_trim(text, side='right')"
      ],
      "metadata": {
        "colab": {
          "base_uri": "https://localhost:8080/",
          "height": 98
        },
        "id": "mPwZdst-YrJl",
        "outputId": "a8610c85-91c2-4a75-9928-6b1110ffc84c"
      },
      "execution_count": 133,
      "outputs": [
        {
          "output_type": "stream",
          "name": "stdout",
          "text": [
            "[1] \"Text \"        \" with\"        \" whitespace \" \" on\"          \"both \"       \n",
            "[6] \"sides \"      \n"
          ]
        },
        {
          "output_type": "display_data",
          "data": {
            "text/html": [
              "<style>\n",
              ".list-inline {list-style: none; margin:0; padding: 0}\n",
              ".list-inline>li {display: inline-block}\n",
              ".list-inline>li:not(:last-child)::after {content: \"\\00b7\"; padding: 0 .5ex}\n",
              "</style>\n",
              "<ol class=list-inline><li>'Text'</li><li>'with'</li><li>'whitespace'</li><li>'on'</li><li>'both'</li><li>'sides'</li></ol>\n"
            ],
            "text/markdown": "1. 'Text'\n2. 'with'\n3. 'whitespace'\n4. 'on'\n5. 'both'\n6. 'sides'\n\n\n",
            "text/latex": "\\begin{enumerate*}\n\\item 'Text'\n\\item 'with'\n\\item 'whitespace'\n\\item 'on'\n\\item 'both'\n\\item 'sides'\n\\end{enumerate*}\n",
            "text/plain": [
              "[1] \"Text\"       \"with\"       \"whitespace\" \"on\"         \"both\"      \n",
              "[6] \"sides\"     "
            ]
          },
          "metadata": {}
        },
        {
          "output_type": "display_data",
          "data": {
            "text/html": [
              "<style>\n",
              ".list-inline {list-style: none; margin:0; padding: 0}\n",
              ".list-inline>li {display: inline-block}\n",
              ".list-inline>li:not(:last-child)::after {content: \"\\00b7\"; padding: 0 .5ex}\n",
              "</style>\n",
              "<ol class=list-inline><li>'Text '</li><li>'with'</li><li>'whitespace '</li><li>'on'</li><li>'both '</li><li>'sides '</li></ol>\n"
            ],
            "text/markdown": "1. 'Text '\n2. 'with'\n3. 'whitespace '\n4. 'on'\n5. 'both '\n6. 'sides '\n\n\n",
            "text/latex": "\\begin{enumerate*}\n\\item 'Text '\n\\item 'with'\n\\item 'whitespace '\n\\item 'on'\n\\item 'both '\n\\item 'sides '\n\\end{enumerate*}\n",
            "text/plain": [
              "[1] \"Text \"       \"with\"        \"whitespace \" \"on\"          \"both \"      \n",
              "[6] \"sides \"     "
            ]
          },
          "metadata": {}
        },
        {
          "output_type": "display_data",
          "data": {
            "text/html": [
              "<style>\n",
              ".list-inline {list-style: none; margin:0; padding: 0}\n",
              ".list-inline>li {display: inline-block}\n",
              ".list-inline>li:not(:last-child)::after {content: \"\\00b7\"; padding: 0 .5ex}\n",
              "</style>\n",
              "<ol class=list-inline><li>'Text'</li><li>' with'</li><li>' whitespace'</li><li>' on'</li><li>'both'</li><li>'sides'</li></ol>\n"
            ],
            "text/markdown": "1. 'Text'\n2. ' with'\n3. ' whitespace'\n4. ' on'\n5. 'both'\n6. 'sides'\n\n\n",
            "text/latex": "\\begin{enumerate*}\n\\item 'Text'\n\\item ' with'\n\\item ' whitespace'\n\\item ' on'\n\\item 'both'\n\\item 'sides'\n\\end{enumerate*}\n",
            "text/plain": [
              "[1] \"Text\"        \" with\"       \" whitespace\" \" on\"         \"both\"       \n",
              "[6] \"sides\"      "
            ]
          },
          "metadata": {}
        }
      ]
    },
    {
      "cell_type": "code",
      "source": [
        "# 삼성전자. 005930\n",
        "str_pad('5930', width = 6, side = 'left', pad = '0')\n",
        "str_pad(5930, width = 6, side = 'left', pad = 0)"
      ],
      "metadata": {
        "colab": {
          "base_uri": "https://localhost:8080/",
          "height": 49
        },
        "id": "OUdrJ8X3ZCck",
        "outputId": "460919a9-3b55-436d-ecd2-f1139df55f26"
      },
      "execution_count": 138,
      "outputs": [
        {
          "output_type": "display_data",
          "data": {
            "text/html": [
              "'005930'"
            ],
            "text/markdown": "'005930'",
            "text/latex": "'005930'",
            "text/plain": [
              "[1] \"005930\""
            ]
          },
          "metadata": {}
        },
        {
          "output_type": "display_data",
          "data": {
            "text/html": [
              "'005930'"
            ],
            "text/markdown": "'005930'",
            "text/latex": "'005930'",
            "text/plain": [
              "[1] \"005930\""
            ]
          },
          "metadata": {}
        }
      ]
    },
    {
      "cell_type": "markdown",
      "source": [
        "# Factors\n",
        "- categorical 데이터"
      ],
      "metadata": {
        "id": "TesIFT2gZOrG"
      }
    },
    {
      "cell_type": "code",
      "source": [
        "gender = factor(c('male', 'female', 'female', 'male', 'female'))\n",
        "gender # alphabet 순서"
      ],
      "metadata": {
        "colab": {
          "base_uri": "https://localhost:8080/",
          "height": 65
        },
        "id": "nAz9UwAJZu-t",
        "outputId": "f501e2f3-517d-4981-b5ec-434a7936b559"
      },
      "execution_count": 139,
      "outputs": [
        {
          "output_type": "display_data",
          "data": {
            "text/html": [
              "<style>\n",
              ".list-inline {list-style: none; margin:0; padding: 0}\n",
              ".list-inline>li {display: inline-block}\n",
              ".list-inline>li:not(:last-child)::after {content: \"\\00b7\"; padding: 0 .5ex}\n",
              "</style>\n",
              "<ol class=list-inline><li>male</li><li>female</li><li>female</li><li>male</li><li>female</li></ol>\n",
              "\n",
              "<details>\n",
              "\t<summary style=display:list-item;cursor:pointer>\n",
              "\t\t<strong>Levels</strong>:\n",
              "\t</summary>\n",
              "\t<style>\n",
              "\t.list-inline {list-style: none; margin:0; padding: 0}\n",
              "\t.list-inline>li {display: inline-block}\n",
              "\t.list-inline>li:not(:last-child)::after {content: \"\\00b7\"; padding: 0 .5ex}\n",
              "\t</style>\n",
              "\t<ol class=list-inline><li>'female'</li><li>'male'</li></ol>\n",
              "</details>"
            ],
            "text/markdown": "1. male\n2. female\n3. female\n4. male\n5. female\n\n\n\n**Levels**: 1. 'female'\n2. 'male'\n\n\n",
            "text/latex": "\\begin{enumerate*}\n\\item male\n\\item female\n\\item female\n\\item male\n\\item female\n\\end{enumerate*}\n\n\\emph{Levels}: \\begin{enumerate*}\n\\item 'female'\n\\item 'male'\n\\end{enumerate*}\n",
            "text/plain": [
              "[1] male   female female male   female\n",
              "Levels: female male"
            ]
          },
          "metadata": {}
        }
      ]
    },
    {
      "cell_type": "code",
      "source": [
        "unclass(gender) # 대표값 출력\n",
        "levels(gender) # 레벨 출력\n",
        "summary(gender) #  각 레벨의 빈도"
      ],
      "metadata": {
        "colab": {
          "base_uri": "https://localhost:8080/",
          "height": 65
        },
        "id": "Q0nftLa1bD8x",
        "outputId": "ed3757a2-8585-4767-f50e-c2b732abc50c"
      },
      "execution_count": 146,
      "outputs": [
        {
          "output_type": "display_data",
          "data": {
            "text/html": [
              "<style>\n",
              ".list-inline {list-style: none; margin:0; padding: 0}\n",
              ".list-inline>li {display: inline-block}\n",
              ".list-inline>li:not(:last-child)::after {content: \"\\00b7\"; padding: 0 .5ex}\n",
              "</style>\n",
              "<ol class=list-inline><li>2</li><li>1</li><li>1</li><li>2</li><li>1</li></ol>\n"
            ],
            "text/markdown": "1. 2\n2. 1\n3. 1\n4. 2\n5. 1\n\n\n",
            "text/latex": "\\begin{enumerate*}\n\\item 2\n\\item 1\n\\item 1\n\\item 2\n\\item 1\n\\end{enumerate*}\n",
            "text/plain": [
              "[1] 2 1 1 2 1\n",
              "attr(,\"levels\")\n",
              "[1] \"female\" \"male\"  "
            ]
          },
          "metadata": {}
        },
        {
          "output_type": "display_data",
          "data": {
            "text/html": [
              "<style>\n",
              ".list-inline {list-style: none; margin:0; padding: 0}\n",
              ".list-inline>li {display: inline-block}\n",
              ".list-inline>li:not(:last-child)::after {content: \"\\00b7\"; padding: 0 .5ex}\n",
              "</style>\n",
              "<ol class=list-inline><li>'female'</li><li>'male'</li></ol>\n"
            ],
            "text/markdown": "1. 'female'\n2. 'male'\n\n\n",
            "text/latex": "\\begin{enumerate*}\n\\item 'female'\n\\item 'male'\n\\end{enumerate*}\n",
            "text/plain": [
              "[1] \"female\" \"male\"  "
            ]
          },
          "metadata": {}
        },
        {
          "output_type": "display_data",
          "data": {
            "text/html": [
              "<style>\n",
              ".dl-inline {width: auto; margin:0; padding: 0}\n",
              ".dl-inline>dt, .dl-inline>dd {float: none; width: auto; display: inline-block}\n",
              ".dl-inline>dt::after {content: \":\\0020\"; padding-right: .5ex}\n",
              ".dl-inline>dt:not(:first-of-type) {padding-left: .5ex}\n",
              "</style><dl class=dl-inline><dt>female</dt><dd>3</dd><dt>male</dt><dd>2</dd></dl>\n"
            ],
            "text/markdown": "female\n:   3male\n:   2\n\n",
            "text/latex": "\\begin{description*}\n\\item[female] 3\n\\item[male] 2\n\\end{description*}\n",
            "text/plain": [
              "female   male \n",
              "     3      2 "
            ]
          },
          "metadata": {}
        }
      ]
    },
    {
      "cell_type": "code",
      "source": [
        "data= seq(1, 10, 3)\n",
        "temp = factor(rep(data, times=2))\n",
        "temp\n",
        "summary(temp)"
      ],
      "metadata": {
        "colab": {
          "base_uri": "https://localhost:8080/",
          "height": 82
        },
        "id": "VpDwCYWnZ6Xx",
        "outputId": "d0f21978-849b-4e40-9ad1-9c06009cb572"
      },
      "execution_count": 147,
      "outputs": [
        {
          "output_type": "display_data",
          "data": {
            "text/html": [
              "<style>\n",
              ".list-inline {list-style: none; margin:0; padding: 0}\n",
              ".list-inline>li {display: inline-block}\n",
              ".list-inline>li:not(:last-child)::after {content: \"\\00b7\"; padding: 0 .5ex}\n",
              "</style>\n",
              "<ol class=list-inline><li>1</li><li>4</li><li>7</li><li>10</li><li>1</li><li>4</li><li>7</li><li>10</li></ol>\n",
              "\n",
              "<details>\n",
              "\t<summary style=display:list-item;cursor:pointer>\n",
              "\t\t<strong>Levels</strong>:\n",
              "\t</summary>\n",
              "\t<style>\n",
              "\t.list-inline {list-style: none; margin:0; padding: 0}\n",
              "\t.list-inline>li {display: inline-block}\n",
              "\t.list-inline>li:not(:last-child)::after {content: \"\\00b7\"; padding: 0 .5ex}\n",
              "\t</style>\n",
              "\t<ol class=list-inline><li>'1'</li><li>'4'</li><li>'7'</li><li>'10'</li></ol>\n",
              "</details>"
            ],
            "text/markdown": "1. 1\n2. 4\n3. 7\n4. 10\n5. 1\n6. 4\n7. 7\n8. 10\n\n\n\n**Levels**: 1. '1'\n2. '4'\n3. '7'\n4. '10'\n\n\n",
            "text/latex": "\\begin{enumerate*}\n\\item 1\n\\item 4\n\\item 7\n\\item 10\n\\item 1\n\\item 4\n\\item 7\n\\item 10\n\\end{enumerate*}\n\n\\emph{Levels}: \\begin{enumerate*}\n\\item '1'\n\\item '4'\n\\item '7'\n\\item '10'\n\\end{enumerate*}\n",
            "text/plain": [
              "[1] 1  4  7  10 1  4  7  10\n",
              "Levels: 1 4 7 10"
            ]
          },
          "metadata": {}
        },
        {
          "output_type": "display_data",
          "data": {
            "text/html": [
              "<style>\n",
              ".dl-inline {width: auto; margin:0; padding: 0}\n",
              ".dl-inline>dt, .dl-inline>dd {float: none; width: auto; display: inline-block}\n",
              ".dl-inline>dt::after {content: \":\\0020\"; padding-right: .5ex}\n",
              ".dl-inline>dt:not(:first-of-type) {padding-left: .5ex}\n",
              "</style><dl class=dl-inline><dt>1</dt><dd>2</dd><dt>4</dt><dd>2</dd><dt>7</dt><dd>2</dd><dt>10</dt><dd>2</dd></dl>\n"
            ],
            "text/markdown": "1\n:   24\n:   27\n:   210\n:   2\n\n",
            "text/latex": "\\begin{description*}\n\\item[1] 2\n\\item[4] 2\n\\item[7] 2\n\\item[10] 2\n\\end{description*}\n",
            "text/plain": [
              " 1  4  7 10 \n",
              " 2  2  2  2 "
            ]
          },
          "metadata": {}
        }
      ]
    },
    {
      "cell_type": "code",
      "source": [
        "gender = factor(c('male', 'female', 'female', 'male', 'female'),\n",
        "                levels = c('male', 'female'))\n",
        "gender"
      ],
      "metadata": {
        "colab": {
          "base_uri": "https://localhost:8080/",
          "height": 65
        },
        "id": "rC88Lv17agA5",
        "outputId": "db73533c-d3b6-4182-a4aa-afeab247d91e"
      },
      "execution_count": 148,
      "outputs": [
        {
          "output_type": "display_data",
          "data": {
            "text/html": [
              "<style>\n",
              ".list-inline {list-style: none; margin:0; padding: 0}\n",
              ".list-inline>li {display: inline-block}\n",
              ".list-inline>li:not(:last-child)::after {content: \"\\00b7\"; padding: 0 .5ex}\n",
              "</style>\n",
              "<ol class=list-inline><li>male</li><li>female</li><li>female</li><li>male</li><li>female</li></ol>\n",
              "\n",
              "<details>\n",
              "\t<summary style=display:list-item;cursor:pointer>\n",
              "\t\t<strong>Levels</strong>:\n",
              "\t</summary>\n",
              "\t<style>\n",
              "\t.list-inline {list-style: none; margin:0; padding: 0}\n",
              "\t.list-inline>li {display: inline-block}\n",
              "\t.list-inline>li:not(:last-child)::after {content: \"\\00b7\"; padding: 0 .5ex}\n",
              "\t</style>\n",
              "\t<ol class=list-inline><li>'male'</li><li>'female'</li></ol>\n",
              "</details>"
            ],
            "text/markdown": "1. male\n2. female\n3. female\n4. male\n5. female\n\n\n\n**Levels**: 1. 'male'\n2. 'female'\n\n\n",
            "text/latex": "\\begin{enumerate*}\n\\item male\n\\item female\n\\item female\n\\item male\n\\item female\n\\end{enumerate*}\n\n\\emph{Levels}: \\begin{enumerate*}\n\\item 'male'\n\\item 'female'\n\\end{enumerate*}\n",
            "text/plain": [
              "[1] male   female female male   female\n",
              "Levels: male female"
            ]
          },
          "metadata": {}
        }
      ]
    },
    {
      "cell_type": "code",
      "source": [
        "data = c('male', 'female', 'female', 'male', 'female')\n",
        "gender = factor(data, levels = c(data[1], data[2]))\n",
        "gender"
      ],
      "metadata": {
        "colab": {
          "base_uri": "https://localhost:8080/",
          "height": 65
        },
        "id": "MPp6MShkbZGt",
        "outputId": "d1aa3759-fcde-4abd-dc95-d67066f5b5d3"
      },
      "execution_count": 155,
      "outputs": [
        {
          "output_type": "display_data",
          "data": {
            "text/html": [
              "<style>\n",
              ".list-inline {list-style: none; margin:0; padding: 0}\n",
              ".list-inline>li {display: inline-block}\n",
              ".list-inline>li:not(:last-child)::after {content: \"\\00b7\"; padding: 0 .5ex}\n",
              "</style>\n",
              "<ol class=list-inline><li>male</li><li>female</li><li>female</li><li>male</li><li>female</li></ol>\n",
              "\n",
              "<details>\n",
              "\t<summary style=display:list-item;cursor:pointer>\n",
              "\t\t<strong>Levels</strong>:\n",
              "\t</summary>\n",
              "\t<style>\n",
              "\t.list-inline {list-style: none; margin:0; padding: 0}\n",
              "\t.list-inline>li {display: inline-block}\n",
              "\t.list-inline>li:not(:last-child)::after {content: \"\\00b7\"; padding: 0 .5ex}\n",
              "\t</style>\n",
              "\t<ol class=list-inline><li>'male'</li><li>'female'</li></ol>\n",
              "</details>"
            ],
            "text/markdown": "1. male\n2. female\n3. female\n4. male\n5. female\n\n\n\n**Levels**: 1. 'male'\n2. 'female'\n\n\n",
            "text/latex": "\\begin{enumerate*}\n\\item male\n\\item female\n\\item female\n\\item male\n\\item female\n\\end{enumerate*}\n\n\\emph{Levels}: \\begin{enumerate*}\n\\item 'male'\n\\item 'female'\n\\end{enumerate*}\n",
            "text/plain": [
              "[1] male   female female male   female\n",
              "Levels: male female"
            ]
          },
          "metadata": {}
        }
      ]
    },
    {
      "cell_type": "code",
      "source": [
        "data = c('male', 'female', 'female', 'male', 'female')\n",
        "gender = factor(data, levels = data[1:2])\n",
        "gender"
      ],
      "metadata": {
        "colab": {
          "base_uri": "https://localhost:8080/",
          "height": 65
        },
        "id": "srCCBoAJb6kE",
        "outputId": "7c97a6b5-78c0-48e7-ba40-73da64d85368"
      },
      "execution_count": 158,
      "outputs": [
        {
          "output_type": "display_data",
          "data": {
            "text/html": [
              "<style>\n",
              ".list-inline {list-style: none; margin:0; padding: 0}\n",
              ".list-inline>li {display: inline-block}\n",
              ".list-inline>li:not(:last-child)::after {content: \"\\00b7\"; padding: 0 .5ex}\n",
              "</style>\n",
              "<ol class=list-inline><li>male</li><li>female</li><li>female</li><li>male</li><li>female</li></ol>\n",
              "\n",
              "<details>\n",
              "\t<summary style=display:list-item;cursor:pointer>\n",
              "\t\t<strong>Levels</strong>:\n",
              "\t</summary>\n",
              "\t<style>\n",
              "\t.list-inline {list-style: none; margin:0; padding: 0}\n",
              "\t.list-inline>li {display: inline-block}\n",
              "\t.list-inline>li:not(:last-child)::after {content: \"\\00b7\"; padding: 0 .5ex}\n",
              "\t</style>\n",
              "\t<ol class=list-inline><li>'male'</li><li>'female'</li></ol>\n",
              "</details>"
            ],
            "text/markdown": "1. male\n2. female\n3. female\n4. male\n5. female\n\n\n\n**Levels**: 1. 'male'\n2. 'female'\n\n\n",
            "text/latex": "\\begin{enumerate*}\n\\item male\n\\item female\n\\item female\n\\item male\n\\item female\n\\end{enumerate*}\n\n\\emph{Levels}: \\begin{enumerate*}\n\\item 'male'\n\\item 'female'\n\\end{enumerate*}\n",
            "text/plain": [
              "[1] male   female female male   female\n",
              "Levels: male female"
            ]
          },
          "metadata": {}
        }
      ]
    },
    {
      "cell_type": "code",
      "source": [
        "temp = c('low', 'middle', 'high', 'low', 'low', 'low', 'middle', 'low', 'middle',\n",
        "        'middle', 'middle', 'middle', 'middle', 'high', 'high', 'low', 'middle',\n",
        "        'middle', 'low', 'high')\n",
        "# 반면 levels 인자를 입력하면, 레벨의 순서가 정의됩니다.\n",
        "ses = factor(temp, levels = temp[1:3], ordered = TRUE)\n",
        "ses\n",
        "# 또한 ordered 인자를 TRUE로 지정할 시, levels의 크기도 정의됩니다."
      ],
      "metadata": {
        "colab": {
          "base_uri": "https://localhost:8080/",
          "height": 82
        },
        "id": "ScuSq6iEcTRk",
        "outputId": "7003654e-1c19-4db8-af3b-22de8bd4a38f"
      },
      "execution_count": 161,
      "outputs": [
        {
          "output_type": "display_data",
          "data": {
            "text/html": [
              "<style>\n",
              ".list-inline {list-style: none; margin:0; padding: 0}\n",
              ".list-inline>li {display: inline-block}\n",
              ".list-inline>li:not(:last-child)::after {content: \"\\00b7\"; padding: 0 .5ex}\n",
              "</style>\n",
              "<ol class=list-inline><li>low</li><li>middle</li><li>high</li><li>low</li><li>low</li><li>low</li><li>middle</li><li>low</li><li>middle</li><li>middle</li><li>middle</li><li>middle</li><li>middle</li><li>high</li><li>high</li><li>low</li><li>middle</li><li>middle</li><li>low</li><li>high</li></ol>\n",
              "\n",
              "<details>\n",
              "\t<summary style=display:list-item;cursor:pointer>\n",
              "\t\t<strong>Levels</strong>:\n",
              "\t</summary>\n",
              "\t<style>\n",
              "\t.list-inline {list-style: none; margin:0; padding: 0}\n",
              "\t.list-inline>li {display: inline-block}\n",
              "\t.list-inline>li:not(:last-child)::after {content: \"\\00b7\"; padding: 0 .5ex}\n",
              "\t</style>\n",
              "\t<ol class=list-inline><li>'low'</li><li>'middle'</li><li>'high'</li></ol>\n",
              "</details>"
            ],
            "text/markdown": "1. low\n2. middle\n3. high\n4. low\n5. low\n6. low\n7. middle\n8. low\n9. middle\n10. middle\n11. middle\n12. middle\n13. middle\n14. high\n15. high\n16. low\n17. middle\n18. middle\n19. low\n20. high\n\n\n\n**Levels**: 1. 'low'\n2. 'middle'\n3. 'high'\n\n\n",
            "text/latex": "\\begin{enumerate*}\n\\item low\n\\item middle\n\\item high\n\\item low\n\\item low\n\\item low\n\\item middle\n\\item low\n\\item middle\n\\item middle\n\\item middle\n\\item middle\n\\item middle\n\\item high\n\\item high\n\\item low\n\\item middle\n\\item middle\n\\item low\n\\item high\n\\end{enumerate*}\n\n\\emph{Levels}: \\begin{enumerate*}\n\\item 'low'\n\\item 'middle'\n\\item 'high'\n\\end{enumerate*}\n",
            "text/plain": [
              " [1] low    middle high   low    low    low    middle low    middle middle\n",
              "[11] middle middle middle high   high   low    middle middle low    high  \n",
              "Levels: low < middle < high"
            ]
          },
          "metadata": {}
        }
      ]
    },
    {
      "cell_type": "code",
      "source": [
        "# 팩터의 레벨을 재입력\n",
        "library(forcats)\n",
        "\n",
        "fct_recode(temp, small = 'low', medium = 'middle', large = 'high')"
      ],
      "metadata": {
        "colab": {
          "base_uri": "https://localhost:8080/",
          "height": 82
        },
        "id": "MnQ2pW0ycxc0",
        "outputId": "6a0cd549-ad7c-4848-d172-09128580eb45"
      },
      "execution_count": 163,
      "outputs": [
        {
          "output_type": "display_data",
          "data": {
            "text/html": [
              "<style>\n",
              ".list-inline {list-style: none; margin:0; padding: 0}\n",
              ".list-inline>li {display: inline-block}\n",
              ".list-inline>li:not(:last-child)::after {content: \"\\00b7\"; padding: 0 .5ex}\n",
              "</style>\n",
              "<ol class=list-inline><li>small</li><li>medium</li><li>large</li><li>small</li><li>small</li><li>small</li><li>medium</li><li>small</li><li>medium</li><li>medium</li><li>medium</li><li>medium</li><li>medium</li><li>large</li><li>large</li><li>small</li><li>medium</li><li>medium</li><li>small</li><li>large</li></ol>\n",
              "\n",
              "<details>\n",
              "\t<summary style=display:list-item;cursor:pointer>\n",
              "\t\t<strong>Levels</strong>:\n",
              "\t</summary>\n",
              "\t<style>\n",
              "\t.list-inline {list-style: none; margin:0; padding: 0}\n",
              "\t.list-inline>li {display: inline-block}\n",
              "\t.list-inline>li:not(:last-child)::after {content: \"\\00b7\"; padding: 0 .5ex}\n",
              "\t</style>\n",
              "\t<ol class=list-inline><li>'large'</li><li>'small'</li><li>'medium'</li></ol>\n",
              "</details>"
            ],
            "text/markdown": "1. small\n2. medium\n3. large\n4. small\n5. small\n6. small\n7. medium\n8. small\n9. medium\n10. medium\n11. medium\n12. medium\n13. medium\n14. large\n15. large\n16. small\n17. medium\n18. medium\n19. small\n20. large\n\n\n\n**Levels**: 1. 'large'\n2. 'small'\n3. 'medium'\n\n\n",
            "text/latex": "\\begin{enumerate*}\n\\item small\n\\item medium\n\\item large\n\\item small\n\\item small\n\\item small\n\\item medium\n\\item small\n\\item medium\n\\item medium\n\\item medium\n\\item medium\n\\item medium\n\\item large\n\\item large\n\\item small\n\\item medium\n\\item medium\n\\item small\n\\item large\n\\end{enumerate*}\n\n\\emph{Levels}: \\begin{enumerate*}\n\\item 'large'\n\\item 'small'\n\\item 'medium'\n\\end{enumerate*}\n",
            "text/plain": [
              " [1] small  medium large  small  small  small  medium small  medium medium\n",
              "[11] medium medium medium large  large  small  medium medium small  large \n",
              "Levels: large small medium"
            ]
          },
          "metadata": {}
        }
      ]
    },
    {
      "cell_type": "code",
      "source": [
        "nchar(temp)\n",
        "length(temp)"
      ],
      "metadata": {
        "colab": {
          "base_uri": "https://localhost:8080/",
          "height": 49
        },
        "id": "fNGwL60ldu3p",
        "outputId": "21425062-09a1-4480-a149-4d84f14b2862"
      },
      "execution_count": 172,
      "outputs": [
        {
          "output_type": "display_data",
          "data": {
            "text/html": [
              "<style>\n",
              ".list-inline {list-style: none; margin:0; padding: 0}\n",
              ".list-inline>li {display: inline-block}\n",
              ".list-inline>li:not(:last-child)::after {content: \"\\00b7\"; padding: 0 .5ex}\n",
              "</style>\n",
              "<ol class=list-inline><li>3</li><li>6</li><li>4</li><li>3</li><li>3</li><li>3</li><li>6</li><li>3</li><li>6</li><li>6</li><li>6</li><li>6</li><li>6</li><li>4</li><li>4</li><li>3</li><li>6</li><li>6</li><li>3</li><li>4</li></ol>\n"
            ],
            "text/markdown": "1. 3\n2. 6\n3. 4\n4. 3\n5. 3\n6. 3\n7. 6\n8. 3\n9. 6\n10. 6\n11. 6\n12. 6\n13. 6\n14. 4\n15. 4\n16. 3\n17. 6\n18. 6\n19. 3\n20. 4\n\n\n",
            "text/latex": "\\begin{enumerate*}\n\\item 3\n\\item 6\n\\item 4\n\\item 3\n\\item 3\n\\item 3\n\\item 6\n\\item 3\n\\item 6\n\\item 6\n\\item 6\n\\item 6\n\\item 6\n\\item 4\n\\item 4\n\\item 3\n\\item 6\n\\item 6\n\\item 3\n\\item 4\n\\end{enumerate*}\n",
            "text/plain": [
              " [1] 3 6 4 3 3 3 6 3 6 6 6 6 6 4 4 3 6 6 3 4"
            ]
          },
          "metadata": {}
        },
        {
          "output_type": "display_data",
          "data": {
            "text/html": [
              "20"
            ],
            "text/markdown": "20",
            "text/latex": "20",
            "text/plain": [
              "[1] 20"
            ]
          },
          "metadata": {}
        }
      ]
    },
    {
      "cell_type": "code",
      "source": [
        "temp[1:length(temp)]"
      ],
      "metadata": {
        "colab": {
          "base_uri": "https://localhost:8080/",
          "height": 49
        },
        "id": "KTptXRGodgAe",
        "outputId": "5f991532-16f6-40aa-a5bf-202fb115550d"
      },
      "execution_count": 171,
      "outputs": [
        {
          "output_type": "display_data",
          "data": {
            "text/html": [
              "<style>\n",
              ".list-inline {list-style: none; margin:0; padding: 0}\n",
              ".list-inline>li {display: inline-block}\n",
              ".list-inline>li:not(:last-child)::after {content: \"\\00b7\"; padding: 0 .5ex}\n",
              "</style>\n",
              "<ol class=list-inline><li>'low'</li><li>'middle'</li><li>'high'</li><li>'low'</li><li>'low'</li><li>'low'</li><li>'middle'</li><li>'low'</li><li>'middle'</li><li>'middle'</li><li>'middle'</li><li>'middle'</li><li>'middle'</li><li>'high'</li><li>'high'</li><li>'low'</li><li>'middle'</li><li>'middle'</li><li>'low'</li><li>'high'</li></ol>\n"
            ],
            "text/markdown": "1. 'low'\n2. 'middle'\n3. 'high'\n4. 'low'\n5. 'low'\n6. 'low'\n7. 'middle'\n8. 'low'\n9. 'middle'\n10. 'middle'\n11. 'middle'\n12. 'middle'\n13. 'middle'\n14. 'high'\n15. 'high'\n16. 'low'\n17. 'middle'\n18. 'middle'\n19. 'low'\n20. 'high'\n\n\n",
            "text/latex": "\\begin{enumerate*}\n\\item 'low'\n\\item 'middle'\n\\item 'high'\n\\item 'low'\n\\item 'low'\n\\item 'low'\n\\item 'middle'\n\\item 'low'\n\\item 'middle'\n\\item 'middle'\n\\item 'middle'\n\\item 'middle'\n\\item 'middle'\n\\item 'high'\n\\item 'high'\n\\item 'low'\n\\item 'middle'\n\\item 'middle'\n\\item 'low'\n\\item 'high'\n\\end{enumerate*}\n",
            "text/plain": [
              " [1] \"low\"    \"middle\" \"high\"   \"low\"    \"low\"    \"low\"    \"middle\" \"low\"   \n",
              " [9] \"middle\" \"middle\" \"middle\" \"middle\" \"middle\" \"high\"   \"high\"   \"low\"   \n",
              "[17] \"middle\" \"middle\" \"low\"    \"high\"  "
            ]
          },
          "metadata": {}
        }
      ]
    },
    {
      "cell_type": "markdown",
      "source": [
        "# Date\n",
        "\n",
        "- lubridate"
      ],
      "metadata": {
        "id": "GJk3iHordFoq"
      }
    },
    {
      "cell_type": "code",
      "source": [
        "Sys.timezone() # cloud 환경\n",
        "Sys.Date()\n",
        "Sys.time()"
      ],
      "metadata": {
        "colab": {
          "base_uri": "https://localhost:8080/",
          "height": 65
        },
        "id": "dBlS5oBAdbKu",
        "outputId": "db9e631d-d103-48d2-9bbe-095767d3e85f"
      },
      "execution_count": 164,
      "outputs": [
        {
          "output_type": "display_data",
          "data": {
            "text/html": [
              "'Etc/UTC'"
            ],
            "text/markdown": "'Etc/UTC'",
            "text/latex": "'Etc/UTC'",
            "text/plain": [
              "[1] \"Etc/UTC\""
            ]
          },
          "metadata": {}
        },
        {
          "output_type": "display_data",
          "data": {
            "text/html": [
              "<time datetime=\"2023-12-15\">2023-12-15</time>"
            ],
            "text/markdown": "2023-12-15",
            "text/latex": "2023-12-15",
            "text/plain": [
              "[1] \"2023-12-15\""
            ]
          },
          "metadata": {}
        },
        {
          "output_type": "display_data",
          "data": {
            "text/plain": [
              "[1] \"2023-12-15 12:31:32 UTC\""
            ]
          },
          "metadata": {}
        }
      ]
    },
    {
      "cell_type": "code",
      "source": [
        "x = c('2015-07-01', '2015/08/01', '2015-9-1')\n",
        "x_date = as.Date(x)\n",
        "x_date\n",
        "str(x_date) # structure"
      ],
      "metadata": {
        "colab": {
          "base_uri": "https://localhost:8080/",
          "height": 49
        },
        "id": "DEFQL9gydeYH",
        "outputId": "f6ec29bc-19e4-42dc-9381-5cf9af94fa40"
      },
      "execution_count": 176,
      "outputs": [
        {
          "output_type": "display_data",
          "data": {
            "text/html": [
              "<style>\n",
              ".list-inline {list-style: none; margin:0; padding: 0}\n",
              ".list-inline>li {display: inline-block}\n",
              ".list-inline>li:not(:last-child)::after {content: \"\\00b7\"; padding: 0 .5ex}\n",
              "</style>\n",
              "<ol class=list-inline><li><time datetime=\"2015-07-01\">2015-07-01</time></li><li><time datetime=\"&lt;NA&gt;\">&lt;NA&gt;</time></li><li><time datetime=\"2015-09-01\">2015-09-01</time></li></ol>\n"
            ],
            "text/markdown": "1. 2015-07-01\n2. &lt;NA&gt;\n3. 2015-09-01\n\n\n",
            "text/latex": "\\begin{enumerate*}\n\\item 2015-07-01\n\\item <NA>\n\\item 2015-09-01\n\\end{enumerate*}\n",
            "text/plain": [
              "[1] \"2015-07-01\" NA           \"2015-09-01\""
            ]
          },
          "metadata": {}
        },
        {
          "output_type": "stream",
          "name": "stdout",
          "text": [
            " Date[1:3], format: \"2015-07-01\" NA \"2015-09-01\"\n"
          ]
        }
      ]
    },
    {
      "cell_type": "code",
      "source": [
        "y = c('07/01/2015', '08-01-2015', '9/1/2015')\n",
        "as.Date(y, format = '%m/%d/%Y') # Year 만 대문자.\n",
        "as.Date(y, format = '%m-%d-%Y')"
      ],
      "metadata": {
        "colab": {
          "base_uri": "https://localhost:8080/",
          "height": 49
        },
        "id": "CzP6pnLsePic",
        "outputId": "95ac4ad9-2599-4ef4-d47e-ea0cc45ff4d9"
      },
      "execution_count": 180,
      "outputs": [
        {
          "output_type": "display_data",
          "data": {
            "text/html": [
              "<style>\n",
              ".list-inline {list-style: none; margin:0; padding: 0}\n",
              ".list-inline>li {display: inline-block}\n",
              ".list-inline>li:not(:last-child)::after {content: \"\\00b7\"; padding: 0 .5ex}\n",
              "</style>\n",
              "<ol class=list-inline><li><time datetime=\"2015-07-01\">2015-07-01</time></li><li><time datetime=\"&lt;NA&gt;\">&lt;NA&gt;</time></li><li><time datetime=\"2015-09-01\">2015-09-01</time></li></ol>\n"
            ],
            "text/markdown": "1. 2015-07-01\n2. &lt;NA&gt;\n3. 2015-09-01\n\n\n",
            "text/latex": "\\begin{enumerate*}\n\\item 2015-07-01\n\\item <NA>\n\\item 2015-09-01\n\\end{enumerate*}\n",
            "text/plain": [
              "[1] \"2015-07-01\" NA           \"2015-09-01\""
            ]
          },
          "metadata": {}
        },
        {
          "output_type": "display_data",
          "data": {
            "text/html": [
              "<style>\n",
              ".list-inline {list-style: none; margin:0; padding: 0}\n",
              ".list-inline>li {display: inline-block}\n",
              ".list-inline>li:not(:last-child)::after {content: \"\\00b7\"; padding: 0 .5ex}\n",
              "</style>\n",
              "<ol class=list-inline><li><time datetime=\"&lt;NA&gt;\">&lt;NA&gt;</time></li><li><time datetime=\"2015-08-01\">2015-08-01</time></li><li><time datetime=\"&lt;NA&gt;\">&lt;NA&gt;</time></li></ol>\n"
            ],
            "text/markdown": "1. &lt;NA&gt;\n2. 2015-08-01\n3. &lt;NA&gt;\n\n\n",
            "text/latex": "\\begin{enumerate*}\n\\item <NA>\n\\item 2015-08-01\n\\item <NA>\n\\end{enumerate*}\n",
            "text/plain": [
              "[1] NA           \"2015-08-01\" NA          "
            ]
          },
          "metadata": {}
        }
      ]
    },
    {
      "cell_type": "code",
      "source": [
        "library(lubridate)\n",
        "\n",
        "ymd(x)"
      ],
      "metadata": {
        "colab": {
          "base_uri": "https://localhost:8080/",
          "height": 181
        },
        "id": "ZPIPlRN-ennU",
        "outputId": "e29c65e3-1997-401e-a132-a5b4faca18b2"
      },
      "execution_count": 181,
      "outputs": [
        {
          "output_type": "stream",
          "name": "stderr",
          "text": [
            "\n",
            "Attaching package: ‘lubridate’\n",
            "\n",
            "\n",
            "The following objects are masked from ‘package:base’:\n",
            "\n",
            "    date, intersect, setdiff, union\n",
            "\n",
            "\n"
          ]
        },
        {
          "output_type": "display_data",
          "data": {
            "text/html": [
              "<style>\n",
              ".list-inline {list-style: none; margin:0; padding: 0}\n",
              ".list-inline>li {display: inline-block}\n",
              ".list-inline>li:not(:last-child)::after {content: \"\\00b7\"; padding: 0 .5ex}\n",
              "</style>\n",
              "<ol class=list-inline><li><time datetime=\"2015-07-01\">2015-07-01</time></li><li><time datetime=\"2015-08-01\">2015-08-01</time></li><li><time datetime=\"2015-09-01\">2015-09-01</time></li></ol>\n"
            ],
            "text/markdown": "1. 2015-07-01\n2. 2015-08-01\n3. 2015-09-01\n\n\n",
            "text/latex": "\\begin{enumerate*}\n\\item 2015-07-01\n\\item 2015-08-01\n\\item 2015-09-01\n\\end{enumerate*}\n",
            "text/plain": [
              "[1] \"2015-07-01\" \"2015-08-01\" \"2015-09-01\""
            ]
          },
          "metadata": {}
        }
      ]
    },
    {
      "cell_type": "code",
      "source": [
        "mdy(y)\n",
        "ymd(x)"
      ],
      "metadata": {
        "colab": {
          "base_uri": "https://localhost:8080/",
          "height": 49
        },
        "id": "PPV0JvOSeymX",
        "outputId": "ab7d7a5f-cb6a-4362-994d-c77006c37a2e"
      },
      "execution_count": 184,
      "outputs": [
        {
          "output_type": "display_data",
          "data": {
            "text/html": [
              "<style>\n",
              ".list-inline {list-style: none; margin:0; padding: 0}\n",
              ".list-inline>li {display: inline-block}\n",
              ".list-inline>li:not(:last-child)::after {content: \"\\00b7\"; padding: 0 .5ex}\n",
              "</style>\n",
              "<ol class=list-inline><li><time datetime=\"2015-07-01\">2015-07-01</time></li><li><time datetime=\"2015-08-01\">2015-08-01</time></li><li><time datetime=\"2015-09-01\">2015-09-01</time></li></ol>\n"
            ],
            "text/markdown": "1. 2015-07-01\n2. 2015-08-01\n3. 2015-09-01\n\n\n",
            "text/latex": "\\begin{enumerate*}\n\\item 2015-07-01\n\\item 2015-08-01\n\\item 2015-09-01\n\\end{enumerate*}\n",
            "text/plain": [
              "[1] \"2015-07-01\" \"2015-08-01\" \"2015-09-01\""
            ]
          },
          "metadata": {}
        },
        {
          "output_type": "display_data",
          "data": {
            "text/html": [
              "<style>\n",
              ".list-inline {list-style: none; margin:0; padding: 0}\n",
              ".list-inline>li {display: inline-block}\n",
              ".list-inline>li:not(:last-child)::after {content: \"\\00b7\"; padding: 0 .5ex}\n",
              "</style>\n",
              "<ol class=list-inline><li><time datetime=\"2015-07-01\">2015-07-01</time></li><li><time datetime=\"2015-08-01\">2015-08-01</time></li><li><time datetime=\"2015-09-01\">2015-09-01</time></li></ol>\n"
            ],
            "text/markdown": "1. 2015-07-01\n2. 2015-08-01\n3. 2015-09-01\n\n\n",
            "text/latex": "\\begin{enumerate*}\n\\item 2015-07-01\n\\item 2015-08-01\n\\item 2015-09-01\n\\end{enumerate*}\n",
            "text/plain": [
              "[1] \"2015-07-01\" \"2015-08-01\" \"2015-09-01\""
            ]
          },
          "metadata": {}
        }
      ]
    },
    {
      "cell_type": "code",
      "source": [
        "x = c('2015-07-01', '2015-08-01', '2015-09-01')\n",
        "\n",
        "year(x)\n",
        "month(x)\n",
        "week(x)"
      ],
      "metadata": {
        "colab": {
          "base_uri": "https://localhost:8080/",
          "height": 65
        },
        "id": "xo1ny4Z4fNYh",
        "outputId": "c02f1082-8488-467d-e20f-26384d3866f6"
      },
      "execution_count": 186,
      "outputs": [
        {
          "output_type": "display_data",
          "data": {
            "text/html": [
              "<style>\n",
              ".list-inline {list-style: none; margin:0; padding: 0}\n",
              ".list-inline>li {display: inline-block}\n",
              ".list-inline>li:not(:last-child)::after {content: \"\\00b7\"; padding: 0 .5ex}\n",
              "</style>\n",
              "<ol class=list-inline><li>2015</li><li>2015</li><li>2015</li></ol>\n"
            ],
            "text/markdown": "1. 2015\n2. 2015\n3. 2015\n\n\n",
            "text/latex": "\\begin{enumerate*}\n\\item 2015\n\\item 2015\n\\item 2015\n\\end{enumerate*}\n",
            "text/plain": [
              "[1] 2015 2015 2015"
            ]
          },
          "metadata": {}
        },
        {
          "output_type": "display_data",
          "data": {
            "text/html": [
              "<style>\n",
              ".list-inline {list-style: none; margin:0; padding: 0}\n",
              ".list-inline>li {display: inline-block}\n",
              ".list-inline>li:not(:last-child)::after {content: \"\\00b7\"; padding: 0 .5ex}\n",
              "</style>\n",
              "<ol class=list-inline><li>7</li><li>8</li><li>9</li></ol>\n"
            ],
            "text/markdown": "1. 7\n2. 8\n3. 9\n\n\n",
            "text/latex": "\\begin{enumerate*}\n\\item 7\n\\item 8\n\\item 9\n\\end{enumerate*}\n",
            "text/plain": [
              "[1] 7 8 9"
            ]
          },
          "metadata": {}
        },
        {
          "output_type": "display_data",
          "data": {
            "text/html": [
              "<style>\n",
              ".list-inline {list-style: none; margin:0; padding: 0}\n",
              ".list-inline>li {display: inline-block}\n",
              ".list-inline>li:not(:last-child)::after {content: \"\\00b7\"; padding: 0 .5ex}\n",
              "</style>\n",
              "<ol class=list-inline><li>26</li><li>31</li><li>35</li></ol>\n"
            ],
            "text/markdown": "1. 26\n2. 31\n3. 35\n\n\n",
            "text/latex": "\\begin{enumerate*}\n\\item 26\n\\item 31\n\\item 35\n\\end{enumerate*}\n",
            "text/plain": [
              "[1] 26 31 35"
            ]
          },
          "metadata": {}
        }
      ]
    },
    {
      "cell_type": "code",
      "source": [
        "z = '2015-09-15'\n",
        "yday(z) # day of year\n",
        "mday(z) # day of month\n",
        "wday(z) # day of week"
      ],
      "metadata": {
        "colab": {
          "base_uri": "https://localhost:8080/",
          "height": 65
        },
        "id": "ZwzIVJsffSz2",
        "outputId": "dda74744-84c4-4af9-f2b5-ba1514feeb0b"
      },
      "execution_count": 188,
      "outputs": [
        {
          "output_type": "display_data",
          "data": {
            "text/html": [
              "258"
            ],
            "text/markdown": "258",
            "text/latex": "258",
            "text/plain": [
              "[1] 258"
            ]
          },
          "metadata": {}
        },
        {
          "output_type": "display_data",
          "data": {
            "text/html": [
              "15"
            ],
            "text/markdown": "15",
            "text/latex": "15",
            "text/plain": [
              "[1] 15"
            ]
          },
          "metadata": {}
        },
        {
          "output_type": "display_data",
          "data": {
            "text/html": [
              "3"
            ],
            "text/markdown": "3",
            "text/latex": "3",
            "text/plain": [
              "[1] 3"
            ]
          },
          "metadata": {}
        }
      ]
    },
    {
      "cell_type": "code",
      "source": [
        "years(1)\n",
        "days(c(2, 9, 21))\n",
        "\n",
        "x = ymd('2015-07-01', '2015-08-01', '2015-09-01')\n",
        "\n",
        "x + years(1) - days(c(2, 9, 21))"
      ],
      "metadata": {
        "colab": {
          "base_uri": "https://localhost:8080/",
          "height": 65
        },
        "id": "NtOPOjP6fnpe",
        "outputId": "fd29ca39-0789-4561-c3bd-0002e6f41ca6"
      },
      "execution_count": 190,
      "outputs": [
        {
          "output_type": "display_data",
          "data": {
            "text/html": [
              "1y 0m 0d 0H 0M 0S"
            ],
            "text/markdown": "1y 0m 0d 0H 0M 0S",
            "text/latex": "1y 0m 0d 0H 0M 0S",
            "text/plain": [
              "[1] \"1y 0m 0d 0H 0M 0S\""
            ]
          },
          "metadata": {}
        },
        {
          "output_type": "display_data",
          "data": {
            "text/html": [
              "<style>\n",
              ".list-inline {list-style: none; margin:0; padding: 0}\n",
              ".list-inline>li {display: inline-block}\n",
              ".list-inline>li:not(:last-child)::after {content: \"\\00b7\"; padding: 0 .5ex}\n",
              "</style>\n",
              "<ol class=list-inline><li>2d 0H 0M 0S</li><li>9d 0H 0M 0S</li><li>21d 0H 0M 0S</li></ol>\n"
            ],
            "text/markdown": "1. 2d 0H 0M 0S\n2. 9d 0H 0M 0S\n3. 21d 0H 0M 0S\n\n\n",
            "text/latex": "\\begin{enumerate*}\n\\item 2d 0H 0M 0S\n\\item 9d 0H 0M 0S\n\\item 21d 0H 0M 0S\n\\end{enumerate*}\n",
            "text/plain": [
              "[1] \"2d 0H 0M 0S\"  \"9d 0H 0M 0S\"  \"21d 0H 0M 0S\""
            ]
          },
          "metadata": {}
        },
        {
          "output_type": "display_data",
          "data": {
            "text/html": [
              "<style>\n",
              ".list-inline {list-style: none; margin:0; padding: 0}\n",
              ".list-inline>li {display: inline-block}\n",
              ".list-inline>li:not(:last-child)::after {content: \"\\00b7\"; padding: 0 .5ex}\n",
              "</style>\n",
              "<ol class=list-inline><li><time datetime=\"2016-06-29\">2016-06-29</time></li><li><time datetime=\"2016-07-23\">2016-07-23</time></li><li><time datetime=\"2016-08-11\">2016-08-11</time></li></ol>\n"
            ],
            "text/markdown": "1. 2016-06-29\n2. 2016-07-23\n3. 2016-08-11\n\n\n",
            "text/latex": "\\begin{enumerate*}\n\\item 2016-06-29\n\\item 2016-07-23\n\\item 2016-08-11\n\\end{enumerate*}\n",
            "text/plain": [
              "[1] \"2016-06-29\" \"2016-07-23\" \"2016-08-11\""
            ]
          },
          "metadata": {}
        }
      ]
    },
    {
      "cell_type": "code",
      "source": [
        "seq(ymd('2010-01-01'), ymd('2015-01-01'), by ='years')\n",
        "\n",
        "seq(ymd('2010-09-01'), ymd('2010-09-30'), by ='5 days')"
      ],
      "metadata": {
        "colab": {
          "base_uri": "https://localhost:8080/",
          "height": 49
        },
        "id": "3LyYx_iJfuVo",
        "outputId": "7a8580a0-9e52-44f9-b5c6-d7ef4d665a70"
      },
      "execution_count": 193,
      "outputs": [
        {
          "output_type": "display_data",
          "data": {
            "text/html": [
              "<style>\n",
              ".list-inline {list-style: none; margin:0; padding: 0}\n",
              ".list-inline>li {display: inline-block}\n",
              ".list-inline>li:not(:last-child)::after {content: \"\\00b7\"; padding: 0 .5ex}\n",
              "</style>\n",
              "<ol class=list-inline><li><time datetime=\"2010-01-01\">2010-01-01</time></li><li><time datetime=\"2011-01-01\">2011-01-01</time></li><li><time datetime=\"2012-01-01\">2012-01-01</time></li><li><time datetime=\"2013-01-01\">2013-01-01</time></li><li><time datetime=\"2014-01-01\">2014-01-01</time></li><li><time datetime=\"2015-01-01\">2015-01-01</time></li></ol>\n"
            ],
            "text/markdown": "1. 2010-01-01\n2. 2011-01-01\n3. 2012-01-01\n4. 2013-01-01\n5. 2014-01-01\n6. 2015-01-01\n\n\n",
            "text/latex": "\\begin{enumerate*}\n\\item 2010-01-01\n\\item 2011-01-01\n\\item 2012-01-01\n\\item 2013-01-01\n\\item 2014-01-01\n\\item 2015-01-01\n\\end{enumerate*}\n",
            "text/plain": [
              "[1] \"2010-01-01\" \"2011-01-01\" \"2012-01-01\" \"2013-01-01\" \"2014-01-01\"\n",
              "[6] \"2015-01-01\""
            ]
          },
          "metadata": {}
        },
        {
          "output_type": "display_data",
          "data": {
            "text/html": [
              "<style>\n",
              ".list-inline {list-style: none; margin:0; padding: 0}\n",
              ".list-inline>li {display: inline-block}\n",
              ".list-inline>li:not(:last-child)::after {content: \"\\00b7\"; padding: 0 .5ex}\n",
              "</style>\n",
              "<ol class=list-inline><li><time datetime=\"2010-09-01\">2010-09-01</time></li><li><time datetime=\"2010-09-06\">2010-09-06</time></li><li><time datetime=\"2010-09-11\">2010-09-11</time></li><li><time datetime=\"2010-09-16\">2010-09-16</time></li><li><time datetime=\"2010-09-21\">2010-09-21</time></li><li><time datetime=\"2010-09-26\">2010-09-26</time></li></ol>\n"
            ],
            "text/markdown": "1. 2010-09-01\n2. 2010-09-06\n3. 2010-09-11\n4. 2010-09-16\n5. 2010-09-21\n6. 2010-09-26\n\n\n",
            "text/latex": "\\begin{enumerate*}\n\\item 2010-09-01\n\\item 2010-09-06\n\\item 2010-09-11\n\\item 2010-09-16\n\\item 2010-09-21\n\\item 2010-09-26\n\\end{enumerate*}\n",
            "text/plain": [
              "[1] \"2010-09-01\" \"2010-09-06\" \"2010-09-11\" \"2010-09-16\" \"2010-09-21\"\n",
              "[6] \"2010-09-26\""
            ]
          },
          "metadata": {}
        }
      ]
    },
    {
      "cell_type": "markdown",
      "source": [
        "### install.packages('lubridate')\n",
        "# library(lubridate)\n",
        "\n",
        "|정보| 함수|\n",
        "|--|--|\n",
        "|Year|year()|\n",
        "|Month|month()|\n",
        "|Week|week()|\n",
        "|Day of year|yday()|\n",
        "|Day of month|mday()|\n",
        "|Day of week|wday()|\n",
        "|Hour|hour()|\n",
        "|Minute|minute()|\n",
        "|Second|second()|\n",
        "|Time zone|tz()|\n",
        "|||\n",
        "|year, month, day\t|ymd()|\n",
        "|year, day, month\t|ydm()|\n",
        "|month, day, year\t|mdy()|\n",
        "|day, month, year\t|dmy()|\n",
        "|hour, minute\t|hm()|\n",
        "|hour, minute, second\t|hms()|\n",
        "|year, month, day, hour, minute, secod\t|ymd_hms()|\n"
      ],
      "metadata": {
        "id": "-h2zU1CkgCMm"
      }
    },
    {
      "cell_type": "code",
      "source": [],
      "metadata": {
        "id": "tX8UZ9r7hs4m"
      },
      "execution_count": null,
      "outputs": []
    }
  ],
  "metadata": {
    "colab": {
      "provenance": []
    },
    "kernelspec": {
      "display_name": "R",
      "name": "ir"
    },
    "language_info": {
      "name": "R"
    }
  },
  "nbformat": 4,
  "nbformat_minor": 0
}