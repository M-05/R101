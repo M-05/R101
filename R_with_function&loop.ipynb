{
  "cells": [
    {
      "cell_type": "markdown",
      "source": [
        "# [R 이용한 데이터 wrangling논쟁](https://hyunyulhenry.github.io/data_wrangling/numbers.html)\n",
        "\n",
        "## 가독성 높이기"
      ],
      "metadata": {
        "id": "qaoQ7bvKLEF6"
      }
    },
    {
      "cell_type": "code",
      "source": [
        "50 / 3 # 나누기\n",
        "50 %/% 3 # 몫\n",
        "50 %% 3 # 나머지\n",
        "50 ** 2 # 제곱\n",
        "50 ^2 # 제곱"
      ],
      "metadata": {
        "colab": {
          "base_uri": "https://localhost:8080/",
          "height": 98
        },
        "id": "I-AhXPWlipkV",
        "outputId": "a6a2f1a9-cf94-436b-d630-5180c2b4cc6a"
      },
      "execution_count": 18,
      "outputs": [
        {
          "output_type": "display_data",
          "data": {
            "text/html": [
              "16.6666666666667"
            ],
            "text/markdown": "16.6666666666667",
            "text/latex": "16.6666666666667",
            "text/plain": [
              "[1] 16.66667"
            ]
          },
          "metadata": {}
        },
        {
          "output_type": "display_data",
          "data": {
            "text/html": [
              "16"
            ],
            "text/markdown": "16",
            "text/latex": "16",
            "text/plain": [
              "[1] 16"
            ]
          },
          "metadata": {}
        },
        {
          "output_type": "display_data",
          "data": {
            "text/html": [
              "2"
            ],
            "text/markdown": "2",
            "text/latex": "2",
            "text/plain": [
              "[1] 2"
            ]
          },
          "metadata": {}
        },
        {
          "output_type": "display_data",
          "data": {
            "text/html": [
              "2500"
            ],
            "text/markdown": "2500",
            "text/latex": "2500",
            "text/plain": [
              "[1] 2500"
            ]
          },
          "metadata": {}
        },
        {
          "output_type": "display_data",
          "data": {
            "text/html": [
              "2500"
            ],
            "text/markdown": "2500",
            "text/latex": "2500",
            "text/plain": [
              "[1] 2500"
            ]
          },
          "metadata": {}
        }
      ]
    },
    {
      "cell_type": "markdown",
      "source": [
        "# 함수\n",
        "\n",
        "- body() : 함수 내부의 코드\n",
        "- formals() : 인자 내역\n",
        "- environment() : 함수의 변수에 대한 위치"
      ],
      "metadata": {
        "id": "CjSg4VKOLTpf"
      }
    },
    {
      "cell_type": "code",
      "source": [
        "now_value = function(future, rating, long) {\n",
        "    present = future / (1 +rating)^long\n",
        "    round(present, 2)\n",
        "}\n",
        "now_value"
      ],
      "metadata": {
        "colab": {
          "base_uri": "https://localhost:8080/",
          "height": 98
        },
        "id": "s34RE2ivgtOo",
        "outputId": "04b5b3e5-2348-43e2-8e16-560170540a2d"
      },
      "execution_count": 3,
      "outputs": [
        {
          "output_type": "display_data",
          "data": {
            "text/html": [
              "<pre class=language-r><code>function (future, rating, long) \n",
              "{\n",
              "<span style=white-space:pre-wrap>    present = future/(1 + rating)^long</span>\n",
              "<span style=white-space:pre-wrap>    round(present, 2)</span>\n",
              "}</code></pre>"
            ],
            "text/markdown": "```r\nfunction (future, rating, long) \n{\n    present = future/(1 + rating)^long\n    round(present, 2)\n}\n```",
            "text/latex": "\\begin{minted}{r}\nfunction (future, rating, long) \n\\{\n    present = future/(1 + rating)\\textasciicircum{}long\n    round(present, 2)\n\\}\n\\end{minted}",
            "text/plain": [
              "function(future, rating, long) {\n",
              "    present = future / (1 +rating)^long\n",
              "    round(present, 2)\n",
              "}"
            ]
          },
          "metadata": {}
        }
      ]
    },
    {
      "cell_type": "code",
      "source": [
        "body(now_value)\n",
        "formals(now_value)\n",
        "environment(now_value)"
      ],
      "metadata": {
        "colab": {
          "base_uri": "https://localhost:8080/",
          "height": 230
        },
        "id": "4a7L6PaFgtVF",
        "outputId": "5b3130b3-69f8-4d9c-9ca2-b4f869991b73"
      },
      "execution_count": 6,
      "outputs": [
        {
          "output_type": "display_data",
          "data": {
            "text/plain": [
              "{\n",
              "    present = future/(1 + rating)^long\n",
              "    round(present, 2)\n",
              "}"
            ]
          },
          "metadata": {}
        },
        {
          "output_type": "display_data",
          "data": {
            "text/plain": [
              "$future\n",
              "\n",
              "\n",
              "$rating\n",
              "\n",
              "\n",
              "$long\n",
              "\n"
            ]
          },
          "metadata": {}
        },
        {
          "output_type": "display_data",
          "data": {
            "text/plain": [
              "<environment: R_GlobalEnv>"
            ]
          },
          "metadata": {}
        }
      ]
    },
    {
      "cell_type": "code",
      "source": [
        "now_value(1000, 0.08, 5)\n",
        "now_value(future=1000, rating=0.08, long=5)"
      ],
      "metadata": {
        "colab": {
          "base_uri": "https://localhost:8080/",
          "height": 49
        },
        "id": "mBHQln95gtZA",
        "outputId": "a1d13517-8926-4606-a68d-fd3569021177"
      },
      "execution_count": 8,
      "outputs": [
        {
          "output_type": "display_data",
          "data": {
            "text/html": [
              "680.58"
            ],
            "text/markdown": "680.58",
            "text/latex": "680.58",
            "text/plain": [
              "[1] 680.58"
            ]
          },
          "metadata": {}
        },
        {
          "output_type": "display_data",
          "data": {
            "text/html": [
              "680.58"
            ],
            "text/markdown": "680.58",
            "text/latex": "680.58",
            "text/plain": [
              "[1] 680.58"
            ]
          },
          "metadata": {}
        }
      ]
    },
    {
      "cell_type": "code",
      "source": [
        "now_value = function(future=1000, rating=0.05, long=4) {\n",
        "    present = future / (1 +rating)^long\n",
        "    round(present, 2)\n",
        "}\n",
        "now_value(500, 0.1)"
      ],
      "metadata": {
        "colab": {
          "base_uri": "https://localhost:8080/",
          "height": 32
        },
        "id": "0XT1Xs4Ggtbf",
        "outputId": "38f3eca2-b6ec-4b97-d6db-b8592423a6fa"
      },
      "execution_count": 9,
      "outputs": [
        {
          "output_type": "display_data",
          "data": {
            "text/html": [
              "341.51"
            ],
            "text/markdown": "341.51",
            "text/latex": "341.51",
            "text/plain": [
              "[1] 341.51"
            ]
          },
          "metadata": {}
        }
      ]
    },
    {
      "cell_type": "code",
      "source": [
        "bad = function(x, y) {\n",
        "    2 *x +y\n",
        "    x +2 +y\n",
        "    2 *x +2 *y\n",
        "    x /y\n",
        "}\n",
        "\n",
        "good = function(x, y) {\n",
        "    out1= 2 *x +y\n",
        "    out2= x +2 +y\n",
        "    out3= 2 *x +2 *y\n",
        "    out4= x /y\n",
        "    c(out1, out2, out3, out4)\n",
        "}\n",
        "\n",
        "bad(5, 5)\n",
        "good(5, 5)"
      ],
      "metadata": {
        "colab": {
          "base_uri": "https://localhost:8080/",
          "height": 49
        },
        "id": "FAymgNHxgtde",
        "outputId": "b109cd87-ee46-49dd-99d1-f951272d35d9"
      },
      "execution_count": 10,
      "outputs": [
        {
          "output_type": "display_data",
          "data": {
            "text/html": [
              "1"
            ],
            "text/markdown": "1",
            "text/latex": "1",
            "text/plain": [
              "[1] 1"
            ]
          },
          "metadata": {}
        },
        {
          "output_type": "display_data",
          "data": {
            "text/html": [
              "<style>\n",
              ".list-inline {list-style: none; margin:0; padding: 0}\n",
              ".list-inline>li {display: inline-block}\n",
              ".list-inline>li:not(:last-child)::after {content: \"\\00b7\"; padding: 0 .5ex}\n",
              "</style>\n",
              "<ol class=list-inline><li>15</li><li>12</li><li>20</li><li>1</li></ol>\n"
            ],
            "text/markdown": "1. 15\n2. 12\n3. 20\n4. 1\n\n\n",
            "text/latex": "\\begin{enumerate*}\n\\item 15\n\\item 12\n\\item 20\n\\item 1\n\\end{enumerate*}\n",
            "text/plain": [
              "[1] 15 12 20  1"
            ]
          },
          "metadata": {}
        }
      ]
    },
    {
      "cell_type": "markdown",
      "source": [
        "# Loop statement\n",
        "\n",
        "- if\n",
        "- for\n",
        "- while"
      ],
      "metadata": {
        "id": "LgvPRqiUiVzO"
      }
    },
    {
      "cell_type": "code",
      "source": [
        "x = c(8, 3, -2, 5)\n",
        "\n",
        "if (any(x < 0)) {\n",
        "    print('x contains negative number')\n",
        "} else {\n",
        "    'x contains all positive number'\n",
        "}"
      ],
      "metadata": {
        "colab": {
          "base_uri": "https://localhost:8080/"
        },
        "id": "sqe5QyDii0zJ",
        "outputId": "704bcbe2-4f52-47e3-800a-a716df938991"
      },
      "execution_count": 2,
      "outputs": [
        {
          "output_type": "stream",
          "name": "stdout",
          "text": [
            "[1] \"x contains negative number\"\n"
          ]
        }
      ]
    },
    {
      "cell_type": "code",
      "source": [
        "x = c(8, 3, 0, 5)\n",
        "\n",
        "ifelse(any(x < 0), \"negative\", \"all positive\")"
      ],
      "metadata": {
        "colab": {
          "base_uri": "https://localhost:8080/",
          "height": 32
        },
        "id": "ChyKoSW3Aw4R",
        "outputId": "85a74d22-9c48-487b-ac85-7d6dc82147b0"
      },
      "execution_count": 4,
      "outputs": [
        {
          "output_type": "display_data",
          "data": {
            "text/html": [
              "'all positive'"
            ],
            "text/markdown": "'all positive'",
            "text/latex": "'all positive'",
            "text/plain": [
              "[1] \"all positive\""
            ]
          },
          "metadata": {}
        }
      ]
    },
    {
      "cell_type": "code",
      "source": [
        "x = 5\n",
        "\n",
        "if (x >10){\n",
        "    print(\"over 10\")\n",
        "} else if (x <10 & 0<= x) {\n",
        "    print(\"x is within acceptable tolerance levels\")\n",
        "} else {\n",
        "    print('less 0')\n",
        "}"
      ],
      "metadata": {
        "colab": {
          "base_uri": "https://localhost:8080/"
        },
        "id": "7eXxHW7dBNI9",
        "outputId": "f6bb1765-d2ed-4d01-fa9d-37da7d55cd68"
      },
      "execution_count": 5,
      "outputs": [
        {
          "output_type": "stream",
          "name": "stdout",
          "text": [
            "[1] \"x is within acceptable tolerance levels\"\n"
          ]
        }
      ]
    },
    {
      "cell_type": "code",
      "source": [
        "year = c(2020:2025)\n",
        "\n",
        "for (y in year) {\n",
        "    output = paste(\"The year is\", y)\n",
        "    print(output)\n",
        "}"
      ],
      "metadata": {
        "colab": {
          "base_uri": "https://localhost:8080/"
        },
        "id": "PLvgUbE5BrVZ",
        "outputId": "a4a45c58-59e0-4349-e39f-84514d0efc6a"
      },
      "execution_count": 6,
      "outputs": [
        {
          "output_type": "stream",
          "name": "stdout",
          "text": [
            "[1] \"The year is 2020\"\n",
            "[1] \"The year is 2021\"\n",
            "[1] \"The year is 2022\"\n",
            "[1] \"The year is 2023\"\n",
            "[1] \"The year is 2024\"\n",
            "[1] \"The year is 2025\"\n"
          ]
        }
      ]
    },
    {
      "cell_type": "code",
      "source": [
        "cnt = 1\n",
        "\n",
        "while (cnt <= 10) {\n",
        "    ifelse (cnt ==5, break, print(paste(\"cnt :\", cnt)))\n",
        "    # print(paste(\"cnt :\", cnt))\n",
        "    # output = paste(\"cnt :\", cnt)\n",
        "    # print(output)\n",
        "    cnt = cnt +1\n",
        "}"
      ],
      "metadata": {
        "colab": {
          "base_uri": "https://localhost:8080/"
        },
        "id": "PWXfo6kZB7xl",
        "outputId": "063459b8-e7e9-4beb-dc46-ba770de33421"
      },
      "execution_count": 12,
      "outputs": [
        {
          "output_type": "stream",
          "name": "stdout",
          "text": [
            "[1] \"cnt : 1\"\n",
            "[1] \"cnt : 2\"\n",
            "[1] \"cnt : 3\"\n",
            "[1] \"cnt : 4\"\n"
          ]
        }
      ]
    },
    {
      "cell_type": "code",
      "source": [
        "for (i in c(1:10)) {\n",
        "    if (i == 5) {\n",
        "        next\n",
        "    }\n",
        "    print(i)\n",
        "}"
      ],
      "metadata": {
        "colab": {
          "base_uri": "https://localhost:8080/"
        },
        "id": "7KDmkuidCNZw",
        "outputId": "12864ba0-ee29-44a4-fb92-d2cbc495a58c"
      },
      "execution_count": 13,
      "outputs": [
        {
          "output_type": "stream",
          "name": "stdout",
          "text": [
            "[1] 1\n",
            "[1] 2\n",
            "[1] 3\n",
            "[1] 4\n",
            "[1] 6\n",
            "[1] 7\n",
            "[1] 8\n",
            "[1] 9\n",
            "[1] 10\n"
          ]
        }
      ]
    },
    {
      "cell_type": "markdown",
      "source": [
        "# apply(x, MARGIN, FUN)\n",
        "> matrix, data.frame\n",
        "\n",
        "- MARGIN = 1 -> row, 2 -> column\n",
        "- FUN = function -> sum, mean, quantile"
      ],
      "metadata": {
        "id": "mLZ0ivgIEhdn"
      }
    },
    {
      "cell_type": "code",
      "source": [
        "head(mtcars)\n",
        "\n",
        "apply(mtcars, 2, mean)\n",
        "# 2 -> 열방향 으로 평균"
      ],
      "metadata": {
        "colab": {
          "base_uri": "https://localhost:8080/",
          "height": 294
        },
        "id": "Ie-oMSxIC4cF",
        "outputId": "fadeb854-ed70-4b9e-becc-4ecb7af40cc0"
      },
      "execution_count": 23,
      "outputs": [
        {
          "output_type": "display_data",
          "data": {
            "text/html": [
              "<table class=\"dataframe\">\n",
              "<caption>A data.frame: 6 × 11</caption>\n",
              "<thead>\n",
              "\t<tr><th></th><th scope=col>mpg</th><th scope=col>cyl</th><th scope=col>disp</th><th scope=col>hp</th><th scope=col>drat</th><th scope=col>wt</th><th scope=col>qsec</th><th scope=col>vs</th><th scope=col>am</th><th scope=col>gear</th><th scope=col>carb</th></tr>\n",
              "\t<tr><th></th><th scope=col>&lt;dbl&gt;</th><th scope=col>&lt;dbl&gt;</th><th scope=col>&lt;dbl&gt;</th><th scope=col>&lt;dbl&gt;</th><th scope=col>&lt;dbl&gt;</th><th scope=col>&lt;dbl&gt;</th><th scope=col>&lt;dbl&gt;</th><th scope=col>&lt;dbl&gt;</th><th scope=col>&lt;dbl&gt;</th><th scope=col>&lt;dbl&gt;</th><th scope=col>&lt;dbl&gt;</th></tr>\n",
              "</thead>\n",
              "<tbody>\n",
              "\t<tr><th scope=row>Mazda RX4</th><td>21.0</td><td>6</td><td>160</td><td>110</td><td>3.90</td><td>2.620</td><td>16.46</td><td>0</td><td>1</td><td>4</td><td>4</td></tr>\n",
              "\t<tr><th scope=row>Mazda RX4 Wag</th><td>21.0</td><td>6</td><td>160</td><td>110</td><td>3.90</td><td>2.875</td><td>17.02</td><td>0</td><td>1</td><td>4</td><td>4</td></tr>\n",
              "\t<tr><th scope=row>Datsun 710</th><td>22.8</td><td>4</td><td>108</td><td> 93</td><td>3.85</td><td>2.320</td><td>18.61</td><td>1</td><td>1</td><td>4</td><td>1</td></tr>\n",
              "\t<tr><th scope=row>Hornet 4 Drive</th><td>21.4</td><td>6</td><td>258</td><td>110</td><td>3.08</td><td>3.215</td><td>19.44</td><td>1</td><td>0</td><td>3</td><td>1</td></tr>\n",
              "\t<tr><th scope=row>Hornet Sportabout</th><td>18.7</td><td>8</td><td>360</td><td>175</td><td>3.15</td><td>3.440</td><td>17.02</td><td>0</td><td>0</td><td>3</td><td>2</td></tr>\n",
              "\t<tr><th scope=row>Valiant</th><td>18.1</td><td>6</td><td>225</td><td>105</td><td>2.76</td><td>3.460</td><td>20.22</td><td>1</td><td>0</td><td>3</td><td>1</td></tr>\n",
              "</tbody>\n",
              "</table>\n"
            ],
            "text/markdown": "\nA data.frame: 6 × 11\n\n| <!--/--> | mpg &lt;dbl&gt; | cyl &lt;dbl&gt; | disp &lt;dbl&gt; | hp &lt;dbl&gt; | drat &lt;dbl&gt; | wt &lt;dbl&gt; | qsec &lt;dbl&gt; | vs &lt;dbl&gt; | am &lt;dbl&gt; | gear &lt;dbl&gt; | carb &lt;dbl&gt; |\n|---|---|---|---|---|---|---|---|---|---|---|---|\n| Mazda RX4 | 21.0 | 6 | 160 | 110 | 3.90 | 2.620 | 16.46 | 0 | 1 | 4 | 4 |\n| Mazda RX4 Wag | 21.0 | 6 | 160 | 110 | 3.90 | 2.875 | 17.02 | 0 | 1 | 4 | 4 |\n| Datsun 710 | 22.8 | 4 | 108 |  93 | 3.85 | 2.320 | 18.61 | 1 | 1 | 4 | 1 |\n| Hornet 4 Drive | 21.4 | 6 | 258 | 110 | 3.08 | 3.215 | 19.44 | 1 | 0 | 3 | 1 |\n| Hornet Sportabout | 18.7 | 8 | 360 | 175 | 3.15 | 3.440 | 17.02 | 0 | 0 | 3 | 2 |\n| Valiant | 18.1 | 6 | 225 | 105 | 2.76 | 3.460 | 20.22 | 1 | 0 | 3 | 1 |\n\n",
            "text/latex": "A data.frame: 6 × 11\n\\begin{tabular}{r|lllllllllll}\n  & mpg & cyl & disp & hp & drat & wt & qsec & vs & am & gear & carb\\\\\n  & <dbl> & <dbl> & <dbl> & <dbl> & <dbl> & <dbl> & <dbl> & <dbl> & <dbl> & <dbl> & <dbl>\\\\\n\\hline\n\tMazda RX4 & 21.0 & 6 & 160 & 110 & 3.90 & 2.620 & 16.46 & 0 & 1 & 4 & 4\\\\\n\tMazda RX4 Wag & 21.0 & 6 & 160 & 110 & 3.90 & 2.875 & 17.02 & 0 & 1 & 4 & 4\\\\\n\tDatsun 710 & 22.8 & 4 & 108 &  93 & 3.85 & 2.320 & 18.61 & 1 & 1 & 4 & 1\\\\\n\tHornet 4 Drive & 21.4 & 6 & 258 & 110 & 3.08 & 3.215 & 19.44 & 1 & 0 & 3 & 1\\\\\n\tHornet Sportabout & 18.7 & 8 & 360 & 175 & 3.15 & 3.440 & 17.02 & 0 & 0 & 3 & 2\\\\\n\tValiant & 18.1 & 6 & 225 & 105 & 2.76 & 3.460 & 20.22 & 1 & 0 & 3 & 1\\\\\n\\end{tabular}\n",
            "text/plain": [
              "                  mpg  cyl disp hp  drat wt    qsec  vs am gear carb\n",
              "Mazda RX4         21.0 6   160  110 3.90 2.620 16.46 0  1  4    4   \n",
              "Mazda RX4 Wag     21.0 6   160  110 3.90 2.875 17.02 0  1  4    4   \n",
              "Datsun 710        22.8 4   108   93 3.85 2.320 18.61 1  1  4    1   \n",
              "Hornet 4 Drive    21.4 6   258  110 3.08 3.215 19.44 1  0  3    1   \n",
              "Hornet Sportabout 18.7 8   360  175 3.15 3.440 17.02 0  0  3    2   \n",
              "Valiant           18.1 6   225  105 2.76 3.460 20.22 1  0  3    1   "
            ]
          },
          "metadata": {}
        },
        {
          "output_type": "display_data",
          "data": {
            "text/html": [
              "<style>\n",
              ".dl-inline {width: auto; margin:0; padding: 0}\n",
              ".dl-inline>dt, .dl-inline>dd {float: none; width: auto; display: inline-block}\n",
              ".dl-inline>dt::after {content: \":\\0020\"; padding-right: .5ex}\n",
              ".dl-inline>dt:not(:first-of-type) {padding-left: .5ex}\n",
              "</style><dl class=dl-inline><dt>mpg</dt><dd>20.090625</dd><dt>cyl</dt><dd>6.1875</dd><dt>disp</dt><dd>230.721875</dd><dt>hp</dt><dd>146.6875</dd><dt>drat</dt><dd>3.5965625</dd><dt>wt</dt><dd>3.21725</dd><dt>qsec</dt><dd>17.84875</dd><dt>vs</dt><dd>0.4375</dd><dt>am</dt><dd>0.40625</dd><dt>gear</dt><dd>3.6875</dd><dt>carb</dt><dd>2.8125</dd></dl>\n"
            ],
            "text/markdown": "mpg\n:   20.090625cyl\n:   6.1875disp\n:   230.721875hp\n:   146.6875drat\n:   3.5965625wt\n:   3.21725qsec\n:   17.84875vs\n:   0.4375am\n:   0.40625gear\n:   3.6875carb\n:   2.8125\n\n",
            "text/latex": "\\begin{description*}\n\\item[mpg] 20.090625\n\\item[cyl] 6.1875\n\\item[disp] 230.721875\n\\item[hp] 146.6875\n\\item[drat] 3.5965625\n\\item[wt] 3.21725\n\\item[qsec] 17.84875\n\\item[vs] 0.4375\n\\item[am] 0.40625\n\\item[gear] 3.6875\n\\item[carb] 2.8125\n\\end{description*}\n",
            "text/plain": [
              "       mpg        cyl       disp         hp       drat         wt       qsec \n",
              " 20.090625   6.187500 230.721875 146.687500   3.596563   3.217250  17.848750 \n",
              "        vs         am       gear       carb \n",
              "  0.437500   0.406250   3.687500   2.812500 "
            ]
          },
          "metadata": {}
        }
      ]
    },
    {
      "cell_type": "code",
      "source": [
        "apply(mtcars, 1, sum)"
      ],
      "metadata": {
        "colab": {
          "base_uri": "https://localhost:8080/",
          "height": 82
        },
        "id": "yDQBZ6zaDyKp",
        "outputId": "a3a14f24-aa53-431b-df9c-95d2d872e628"
      },
      "execution_count": 26,
      "outputs": [
        {
          "output_type": "display_data",
          "data": {
            "text/html": [
              "<style>\n",
              ".dl-inline {width: auto; margin:0; padding: 0}\n",
              ".dl-inline>dt, .dl-inline>dd {float: none; width: auto; display: inline-block}\n",
              ".dl-inline>dt::after {content: \":\\0020\"; padding-right: .5ex}\n",
              ".dl-inline>dt:not(:first-of-type) {padding-left: .5ex}\n",
              "</style><dl class=dl-inline><dt>Mazda RX4</dt><dd>328.98</dd><dt>Mazda RX4 Wag</dt><dd>329.795</dd><dt>Datsun 710</dt><dd>259.58</dd><dt>Hornet 4 Drive</dt><dd>426.135</dd><dt>Hornet Sportabout</dt><dd>590.31</dd><dt>Valiant</dt><dd>385.54</dd><dt>Duster 360</dt><dd>656.92</dd><dt>Merc 240D</dt><dd>270.98</dd><dt>Merc 230</dt><dd>299.57</dd><dt>Merc 280</dt><dd>350.46</dd><dt>Merc 280C</dt><dd>349.66</dd><dt>Merc 450SE</dt><dd>510.74</dd><dt>Merc 450SL</dt><dd>511.5</dd><dt>Merc 450SLC</dt><dd>509.85</dd><dt>Cadillac Fleetwood</dt><dd>728.56</dd><dt>Lincoln Continental</dt><dd>726.644</dd><dt>Chrysler Imperial</dt><dd>725.695</dd><dt>Fiat 128</dt><dd>213.85</dd><dt>Honda Civic</dt><dd>195.165</dd><dt>Toyota Corolla</dt><dd>206.955</dd><dt>Toyota Corona</dt><dd>273.775</dd><dt>Dodge Challenger</dt><dd>519.65</dd><dt>AMC Javelin</dt><dd>506.085</dd><dt>Camaro Z28</dt><dd>646.28</dd><dt>Pontiac Firebird</dt><dd>631.175</dd><dt>Fiat X1-9</dt><dd>208.215</dd><dt>Porsche 914-2</dt><dd>272.57</dd><dt>Lotus Europa</dt><dd>273.683</dd><dt>Ford Pantera L</dt><dd>670.69</dd><dt>Ferrari Dino</dt><dd>379.59</dd><dt>Maserati Bora</dt><dd>694.71</dd><dt>Volvo 142E</dt><dd>288.89</dd></dl>\n"
            ],
            "text/markdown": "Mazda RX4\n:   328.98Mazda RX4 Wag\n:   329.795Datsun 710\n:   259.58Hornet 4 Drive\n:   426.135Hornet Sportabout\n:   590.31Valiant\n:   385.54Duster 360\n:   656.92Merc 240D\n:   270.98Merc 230\n:   299.57Merc 280\n:   350.46Merc 280C\n:   349.66Merc 450SE\n:   510.74Merc 450SL\n:   511.5Merc 450SLC\n:   509.85Cadillac Fleetwood\n:   728.56Lincoln Continental\n:   726.644Chrysler Imperial\n:   725.695Fiat 128\n:   213.85Honda Civic\n:   195.165Toyota Corolla\n:   206.955Toyota Corona\n:   273.775Dodge Challenger\n:   519.65AMC Javelin\n:   506.085Camaro Z28\n:   646.28Pontiac Firebird\n:   631.175Fiat X1-9\n:   208.215Porsche 914-2\n:   272.57Lotus Europa\n:   273.683Ford Pantera L\n:   670.69Ferrari Dino\n:   379.59Maserati Bora\n:   694.71Volvo 142E\n:   288.89\n\n",
            "text/latex": "\\begin{description*}\n\\item[Mazda RX4] 328.98\n\\item[Mazda RX4 Wag] 329.795\n\\item[Datsun 710] 259.58\n\\item[Hornet 4 Drive] 426.135\n\\item[Hornet Sportabout] 590.31\n\\item[Valiant] 385.54\n\\item[Duster 360] 656.92\n\\item[Merc 240D] 270.98\n\\item[Merc 230] 299.57\n\\item[Merc 280] 350.46\n\\item[Merc 280C] 349.66\n\\item[Merc 450SE] 510.74\n\\item[Merc 450SL] 511.5\n\\item[Merc 450SLC] 509.85\n\\item[Cadillac Fleetwood] 728.56\n\\item[Lincoln Continental] 726.644\n\\item[Chrysler Imperial] 725.695\n\\item[Fiat 128] 213.85\n\\item[Honda Civic] 195.165\n\\item[Toyota Corolla] 206.955\n\\item[Toyota Corona] 273.775\n\\item[Dodge Challenger] 519.65\n\\item[AMC Javelin] 506.085\n\\item[Camaro Z28] 646.28\n\\item[Pontiac Firebird] 631.175\n\\item[Fiat X1-9] 208.215\n\\item[Porsche 914-2] 272.57\n\\item[Lotus Europa] 273.683\n\\item[Ford Pantera L] 670.69\n\\item[Ferrari Dino] 379.59\n\\item[Maserati Bora] 694.71\n\\item[Volvo 142E] 288.89\n\\end{description*}\n",
            "text/plain": [
              "          Mazda RX4       Mazda RX4 Wag          Datsun 710      Hornet 4 Drive \n",
              "            328.980             329.795             259.580             426.135 \n",
              "  Hornet Sportabout             Valiant          Duster 360           Merc 240D \n",
              "            590.310             385.540             656.920             270.980 \n",
              "           Merc 230            Merc 280           Merc 280C          Merc 450SE \n",
              "            299.570             350.460             349.660             510.740 \n",
              "         Merc 450SL         Merc 450SLC  Cadillac Fleetwood Lincoln Continental \n",
              "            511.500             509.850             728.560             726.644 \n",
              "  Chrysler Imperial            Fiat 128         Honda Civic      Toyota Corolla \n",
              "            725.695             213.850             195.165             206.955 \n",
              "      Toyota Corona    Dodge Challenger         AMC Javelin          Camaro Z28 \n",
              "            273.775             519.650             506.085             646.280 \n",
              "   Pontiac Firebird           Fiat X1-9       Porsche 914-2        Lotus Europa \n",
              "            631.175             208.215             272.570             273.683 \n",
              "     Ford Pantera L        Ferrari Dino       Maserati Bora          Volvo 142E \n",
              "            670.690             379.590             694.710             288.890 "
            ]
          },
          "metadata": {}
        }
      ]
    },
    {
      "cell_type": "code",
      "source": [
        "apply(mtcars, 2, quantile, probs=c(.1, .25, .05, .75, .9))"
      ],
      "metadata": {
        "colab": {
          "base_uri": "https://localhost:8080/",
          "height": 217
        },
        "id": "Q7mdXxbwEQ68",
        "outputId": "17a8de01-165e-4fe5-a04e-5c890c44d083"
      },
      "execution_count": 27,
      "outputs": [
        {
          "output_type": "display_data",
          "data": {
            "text/html": [
              "<table class=\"dataframe\">\n",
              "<caption>A matrix: 5 × 11 of type dbl</caption>\n",
              "<thead>\n",
              "\t<tr><th></th><th scope=col>mpg</th><th scope=col>cyl</th><th scope=col>disp</th><th scope=col>hp</th><th scope=col>drat</th><th scope=col>wt</th><th scope=col>qsec</th><th scope=col>vs</th><th scope=col>am</th><th scope=col>gear</th><th scope=col>carb</th></tr>\n",
              "</thead>\n",
              "<tbody>\n",
              "\t<tr><th scope=row>10%</th><td>14.340</td><td>4</td><td> 80.610</td><td> 66.00</td><td>3.0070</td><td>1.95550</td><td>15.5340</td><td>0</td><td>0</td><td>3</td><td>1</td></tr>\n",
              "\t<tr><th scope=row>25%</th><td>15.425</td><td>4</td><td>120.825</td><td> 96.50</td><td>3.0800</td><td>2.58125</td><td>16.8925</td><td>0</td><td>0</td><td>3</td><td>2</td></tr>\n",
              "\t<tr><th scope=row>5%</th><td>11.995</td><td>4</td><td> 77.350</td><td> 63.65</td><td>2.8535</td><td>1.73600</td><td>15.0455</td><td>0</td><td>0</td><td>3</td><td>1</td></tr>\n",
              "\t<tr><th scope=row>75%</th><td>22.800</td><td>8</td><td>326.000</td><td>180.00</td><td>3.9200</td><td>3.61000</td><td>18.9000</td><td>1</td><td>1</td><td>4</td><td>4</td></tr>\n",
              "\t<tr><th scope=row>90%</th><td>30.090</td><td>8</td><td>396.000</td><td>243.50</td><td>4.2090</td><td>4.04750</td><td>19.9900</td><td>1</td><td>1</td><td>5</td><td>4</td></tr>\n",
              "</tbody>\n",
              "</table>\n"
            ],
            "text/markdown": "\nA matrix: 5 × 11 of type dbl\n\n| <!--/--> | mpg | cyl | disp | hp | drat | wt | qsec | vs | am | gear | carb |\n|---|---|---|---|---|---|---|---|---|---|---|---|\n| 10% | 14.340 | 4 |  80.610 |  66.00 | 3.0070 | 1.95550 | 15.5340 | 0 | 0 | 3 | 1 |\n| 25% | 15.425 | 4 | 120.825 |  96.50 | 3.0800 | 2.58125 | 16.8925 | 0 | 0 | 3 | 2 |\n| 5% | 11.995 | 4 |  77.350 |  63.65 | 2.8535 | 1.73600 | 15.0455 | 0 | 0 | 3 | 1 |\n| 75% | 22.800 | 8 | 326.000 | 180.00 | 3.9200 | 3.61000 | 18.9000 | 1 | 1 | 4 | 4 |\n| 90% | 30.090 | 8 | 396.000 | 243.50 | 4.2090 | 4.04750 | 19.9900 | 1 | 1 | 5 | 4 |\n\n",
            "text/latex": "A matrix: 5 × 11 of type dbl\n\\begin{tabular}{r|lllllllllll}\n  & mpg & cyl & disp & hp & drat & wt & qsec & vs & am & gear & carb\\\\\n\\hline\n\t10\\% & 14.340 & 4 &  80.610 &  66.00 & 3.0070 & 1.95550 & 15.5340 & 0 & 0 & 3 & 1\\\\\n\t25\\% & 15.425 & 4 & 120.825 &  96.50 & 3.0800 & 2.58125 & 16.8925 & 0 & 0 & 3 & 2\\\\\n\t5\\% & 11.995 & 4 &  77.350 &  63.65 & 2.8535 & 1.73600 & 15.0455 & 0 & 0 & 3 & 1\\\\\n\t75\\% & 22.800 & 8 & 326.000 & 180.00 & 3.9200 & 3.61000 & 18.9000 & 1 & 1 & 4 & 4\\\\\n\t90\\% & 30.090 & 8 & 396.000 & 243.50 & 4.2090 & 4.04750 & 19.9900 & 1 & 1 & 5 & 4\\\\\n\\end{tabular}\n",
            "text/plain": [
              "    mpg    cyl disp    hp     drat   wt      qsec    vs am gear carb\n",
              "10% 14.340 4    80.610  66.00 3.0070 1.95550 15.5340 0  0  3    1   \n",
              "25% 15.425 4   120.825  96.50 3.0800 2.58125 16.8925 0  0  3    2   \n",
              "5%  11.995 4    77.350  63.65 2.8535 1.73600 15.0455 0  0  3    1   \n",
              "75% 22.800 8   326.000 180.00 3.9200 3.61000 18.9000 1  1  4    4   \n",
              "90% 30.090 8   396.000 243.50 4.2090 4.04750 19.9900 1  1  5    4   "
            ]
          },
          "metadata": {}
        }
      ]
    },
    {
      "cell_type": "code",
      "source": [
        "tail(mtcars)"
      ],
      "metadata": {
        "colab": {
          "base_uri": "https://localhost:8080/",
          "height": 277
        },
        "id": "xOBXOw2bC_9v",
        "outputId": "913ae289-1bf7-4083-e8a9-67b0ade49432"
      },
      "execution_count": 21,
      "outputs": [
        {
          "output_type": "display_data",
          "data": {
            "text/html": [
              "<table class=\"dataframe\">\n",
              "<caption>A data.frame: 6 × 11</caption>\n",
              "<thead>\n",
              "\t<tr><th></th><th scope=col>mpg</th><th scope=col>cyl</th><th scope=col>disp</th><th scope=col>hp</th><th scope=col>drat</th><th scope=col>wt</th><th scope=col>qsec</th><th scope=col>vs</th><th scope=col>am</th><th scope=col>gear</th><th scope=col>carb</th></tr>\n",
              "\t<tr><th></th><th scope=col>&lt;dbl&gt;</th><th scope=col>&lt;dbl&gt;</th><th scope=col>&lt;dbl&gt;</th><th scope=col>&lt;dbl&gt;</th><th scope=col>&lt;dbl&gt;</th><th scope=col>&lt;dbl&gt;</th><th scope=col>&lt;dbl&gt;</th><th scope=col>&lt;dbl&gt;</th><th scope=col>&lt;dbl&gt;</th><th scope=col>&lt;dbl&gt;</th><th scope=col>&lt;dbl&gt;</th></tr>\n",
              "</thead>\n",
              "<tbody>\n",
              "\t<tr><th scope=row>Porsche 914-2</th><td>26.0</td><td>4</td><td>120.3</td><td> 91</td><td>4.43</td><td>2.140</td><td>16.7</td><td>0</td><td>1</td><td>5</td><td>2</td></tr>\n",
              "\t<tr><th scope=row>Lotus Europa</th><td>30.4</td><td>4</td><td> 95.1</td><td>113</td><td>3.77</td><td>1.513</td><td>16.9</td><td>1</td><td>1</td><td>5</td><td>2</td></tr>\n",
              "\t<tr><th scope=row>Ford Pantera L</th><td>15.8</td><td>8</td><td>351.0</td><td>264</td><td>4.22</td><td>3.170</td><td>14.5</td><td>0</td><td>1</td><td>5</td><td>4</td></tr>\n",
              "\t<tr><th scope=row>Ferrari Dino</th><td>19.7</td><td>6</td><td>145.0</td><td>175</td><td>3.62</td><td>2.770</td><td>15.5</td><td>0</td><td>1</td><td>5</td><td>6</td></tr>\n",
              "\t<tr><th scope=row>Maserati Bora</th><td>15.0</td><td>8</td><td>301.0</td><td>335</td><td>3.54</td><td>3.570</td><td>14.6</td><td>0</td><td>1</td><td>5</td><td>8</td></tr>\n",
              "\t<tr><th scope=row>Volvo 142E</th><td>21.4</td><td>4</td><td>121.0</td><td>109</td><td>4.11</td><td>2.780</td><td>18.6</td><td>1</td><td>1</td><td>4</td><td>2</td></tr>\n",
              "</tbody>\n",
              "</table>\n"
            ],
            "text/markdown": "\nA data.frame: 6 × 11\n\n| <!--/--> | mpg &lt;dbl&gt; | cyl &lt;dbl&gt; | disp &lt;dbl&gt; | hp &lt;dbl&gt; | drat &lt;dbl&gt; | wt &lt;dbl&gt; | qsec &lt;dbl&gt; | vs &lt;dbl&gt; | am &lt;dbl&gt; | gear &lt;dbl&gt; | carb &lt;dbl&gt; |\n|---|---|---|---|---|---|---|---|---|---|---|---|\n| Porsche 914-2 | 26.0 | 4 | 120.3 |  91 | 4.43 | 2.140 | 16.7 | 0 | 1 | 5 | 2 |\n| Lotus Europa | 30.4 | 4 |  95.1 | 113 | 3.77 | 1.513 | 16.9 | 1 | 1 | 5 | 2 |\n| Ford Pantera L | 15.8 | 8 | 351.0 | 264 | 4.22 | 3.170 | 14.5 | 0 | 1 | 5 | 4 |\n| Ferrari Dino | 19.7 | 6 | 145.0 | 175 | 3.62 | 2.770 | 15.5 | 0 | 1 | 5 | 6 |\n| Maserati Bora | 15.0 | 8 | 301.0 | 335 | 3.54 | 3.570 | 14.6 | 0 | 1 | 5 | 8 |\n| Volvo 142E | 21.4 | 4 | 121.0 | 109 | 4.11 | 2.780 | 18.6 | 1 | 1 | 4 | 2 |\n\n",
            "text/latex": "A data.frame: 6 × 11\n\\begin{tabular}{r|lllllllllll}\n  & mpg & cyl & disp & hp & drat & wt & qsec & vs & am & gear & carb\\\\\n  & <dbl> & <dbl> & <dbl> & <dbl> & <dbl> & <dbl> & <dbl> & <dbl> & <dbl> & <dbl> & <dbl>\\\\\n\\hline\n\tPorsche 914-2 & 26.0 & 4 & 120.3 &  91 & 4.43 & 2.140 & 16.7 & 0 & 1 & 5 & 2\\\\\n\tLotus Europa & 30.4 & 4 &  95.1 & 113 & 3.77 & 1.513 & 16.9 & 1 & 1 & 5 & 2\\\\\n\tFord Pantera L & 15.8 & 8 & 351.0 & 264 & 4.22 & 3.170 & 14.5 & 0 & 1 & 5 & 4\\\\\n\tFerrari Dino & 19.7 & 6 & 145.0 & 175 & 3.62 & 2.770 & 15.5 & 0 & 1 & 5 & 6\\\\\n\tMaserati Bora & 15.0 & 8 & 301.0 & 335 & 3.54 & 3.570 & 14.6 & 0 & 1 & 5 & 8\\\\\n\tVolvo 142E & 21.4 & 4 & 121.0 & 109 & 4.11 & 2.780 & 18.6 & 1 & 1 & 4 & 2\\\\\n\\end{tabular}\n",
            "text/plain": [
              "               mpg  cyl disp  hp  drat wt    qsec vs am gear carb\n",
              "Porsche 914-2  26.0 4   120.3  91 4.43 2.140 16.7 0  1  5    2   \n",
              "Lotus Europa   30.4 4    95.1 113 3.77 1.513 16.9 1  1  5    2   \n",
              "Ford Pantera L 15.8 8   351.0 264 4.22 3.170 14.5 0  1  5    4   \n",
              "Ferrari Dino   19.7 6   145.0 175 3.62 2.770 15.5 0  1  5    6   \n",
              "Maserati Bora  15.0 8   301.0 335 3.54 3.570 14.6 0  1  5    8   \n",
              "Volvo 142E     21.4 4   121.0 109 4.11 2.780 18.6 1  1  4    2   "
            ]
          },
          "metadata": {}
        }
      ]
    },
    {
      "cell_type": "markdown",
      "source": [
        "# lapply(x, FUN)\n",
        "> 리스트 용\n",
        "\n",
        "- FUN = function"
      ],
      "metadata": {
        "id": "M4XB-c9bDIVQ"
      }
    },
    {
      "cell_type": "code",
      "source": [
        "# rnorm(n, mean = 0, sd = 1)\n",
        "\n",
        "data = list(item1=1:4,\n",
        "            item2=rnorm(10),\n",
        "            item3=rnorm(20, 1),\n",
        "            item4=rnorm(100, 5))\n",
        "data"
      ],
      "metadata": {
        "colab": {
          "base_uri": "https://localhost:8080/",
          "height": 341
        },
        "id": "tbpE3AIsE2US",
        "outputId": "df4b78ae-d1e1-41af-9092-337a181826ef"
      },
      "execution_count": 28,
      "outputs": [
        {
          "output_type": "display_data",
          "data": {
            "text/html": [
              "<dl>\n",
              "\t<dt>$item1</dt>\n",
              "\t\t<dd><style>\n",
              ".list-inline {list-style: none; margin:0; padding: 0}\n",
              ".list-inline>li {display: inline-block}\n",
              ".list-inline>li:not(:last-child)::after {content: \"\\00b7\"; padding: 0 .5ex}\n",
              "</style>\n",
              "<ol class=list-inline><li>1</li><li>2</li><li>3</li><li>4</li></ol>\n",
              "</dd>\n",
              "\t<dt>$item2</dt>\n",
              "\t\t<dd><style>\n",
              ".list-inline {list-style: none; margin:0; padding: 0}\n",
              ".list-inline>li {display: inline-block}\n",
              ".list-inline>li:not(:last-child)::after {content: \"\\00b7\"; padding: 0 .5ex}\n",
              "</style>\n",
              "<ol class=list-inline><li>-0.415401019486232</li><li>-0.148381795611545</li><li>-1.02515864761643</li><li>-0.684226528046741</li><li>1.10096757189037</li><li>-1.02676683632405</li><li>0.474262563199782</li><li>-1.03903671316205</li><li>1.17217997164498</li><li>0.468664528271316</li></ol>\n",
              "</dd>\n",
              "\t<dt>$item3</dt>\n",
              "\t\t<dd><style>\n",
              ".list-inline {list-style: none; margin:0; padding: 0}\n",
              ".list-inline>li {display: inline-block}\n",
              ".list-inline>li:not(:last-child)::after {content: \"\\00b7\"; padding: 0 .5ex}\n",
              "</style>\n",
              "<ol class=list-inline><li>1.4952572028701</li><li>0.867436421884457</li><li>0.492619280083103</li><li>2.08469674441159</li><li>1.54467861538567</li><li>2.26172459208907</li><li>1.56169731646325</li><li>0.901538464673123</li><li>0.76120260739559</li><li>0.669450125989064</li><li>-0.00333404871830645</li><li>1.98658137182542</li><li>0.4162639612109</li><li>2.96166066960371</li><li>3.01338392386014</li><li>1.21578059969416</li><li>1.64880199848098</li><li>1.58610531260644</li><li>1.71870509532948</li><li>2.3866922183118</li></ol>\n",
              "</dd>\n",
              "\t<dt>$item4</dt>\n",
              "\t\t<dd><style>\n",
              ".list-inline {list-style: none; margin:0; padding: 0}\n",
              ".list-inline>li {display: inline-block}\n",
              ".list-inline>li:not(:last-child)::after {content: \"\\00b7\"; padding: 0 .5ex}\n",
              "</style>\n",
              "<ol class=list-inline><li>5.10250667075079</li><li>4.29654406242702</li><li>4.12575136877165</li><li>5.1862017473899</li><li>5.02268821924033</li><li>5.94572356331307</li><li>3.37509928482673</li><li>5.50826520635311</li><li>6.36418636963138</li><li>6.33383994223407</li><li>4.07791148192472</li><li>5.81782867720522</li><li>3.60421398961132</li><li>6.93948439744629</li><li>3.53317937794968</li><li>4.81293881766035</li><li>2.66894158531009</li><li>4.87479108159788</li><li>5.67015664667361</li><li>5.34878754658322</li><li>5.29818453927591</li><li>5.96369513319422</li><li>5.3843633735752</li><li>5.25533005011821</li><li>5.67363776982445</li><li>6.40244637352121</li><li>4.96924526019484</li><li>5.46657958042759</li><li>6.23300808197217</li><li>5.32737291424533</li><li>4.1778247623851</li><li>6.17759533684295</li><li>5.14013779782457</li><li>6.19216092606748</li><li>3.1323222414776</li><li>3.73940866439054</li><li>4.76717099653126</li><li>5.18777079908608</li><li>2.88340181730641</li><li>4.21273827322048</li><li>5.05748196155859</li><li>2.83505813510368</li><li>4.9370913302228</li><li>6.00453530100697</li><li>5.10286155836648</li><li>3.94315480987993</li><li>4.61112813507282</li><li>4.77526660140059</li><li>5.89552546762002</li><li>5.63832730295727</li><li>4.42150402486798</li><li>5.37136129709292</li><li>5.5984263833908</li><li>3.82425065700801</li><li>4.6405133778627</li><li>3.8804797790112</li><li>5.1347342700607</li><li>4.3597376801134</li><li>4.07631200752084</li><li>6.48299751014012</li><li>6.34570942081525</li><li>3.17570764018131</li><li>4.40265064151645</li><li>5.6094733178551</li><li>4.37280977767768</li><li>5.3141312000566</li><li>3.16336104340809</li><li>5.7905709029466</li><li>6.8159767461336</li><li>3.36892962544043</li><li>3.03180749863291</li><li>4.49737703061768</li><li>3.89645660060743</li><li>4.28201839080231</li><li>4.53080127991334</li><li>5.96159276296555</li><li>4.79134535294181</li><li>5.69949480260756</li><li>4.31014403417676</li><li>4.28485207349119</li><li>6.03019919202084</li><li>4.8076863664594</li><li>5.87502263457037</li><li>5.16206728154973</li><li>5.63720325197501</li><li>5.33198768057842</li><li>6.17520496495122</li><li>3.17013751304852</li><li>4.88130374914437</li><li>2.64960729689182</li><li>4.88959322713532</li><li>3.72315826810647</li><li>6.95634827698697</li><li>4.86585609288532</li><li>4.84054679970899</li><li>3.81609140205284</li><li>4.82977027357397</li><li>4.84278995509461</li><li>6.8068628214035</li><li>1.46922773845984</li></ol>\n",
              "</dd>\n",
              "</dl>\n"
            ],
            "text/markdown": "$item1\n:   1. 1\n2. 2\n3. 3\n4. 4\n\n\n\n$item2\n:   1. -0.415401019486232\n2. -0.148381795611545\n3. -1.02515864761643\n4. -0.684226528046741\n5. 1.10096757189037\n6. -1.02676683632405\n7. 0.474262563199782\n8. -1.03903671316205\n9. 1.17217997164498\n10. 0.468664528271316\n\n\n\n$item3\n:   1. 1.4952572028701\n2. 0.867436421884457\n3. 0.492619280083103\n4. 2.08469674441159\n5. 1.54467861538567\n6. 2.26172459208907\n7. 1.56169731646325\n8. 0.901538464673123\n9. 0.76120260739559\n10. 0.669450125989064\n11. -0.00333404871830645\n12. 1.98658137182542\n13. 0.4162639612109\n14. 2.96166066960371\n15. 3.01338392386014\n16. 1.21578059969416\n17. 1.64880199848098\n18. 1.58610531260644\n19. 1.71870509532948\n20. 2.3866922183118\n\n\n\n$item4\n:   1. 5.10250667075079\n2. 4.29654406242702\n3. 4.12575136877165\n4. 5.1862017473899\n5. 5.02268821924033\n6. 5.94572356331307\n7. 3.37509928482673\n8. 5.50826520635311\n9. 6.36418636963138\n10. 6.33383994223407\n11. 4.07791148192472\n12. 5.81782867720522\n13. 3.60421398961132\n14. 6.93948439744629\n15. 3.53317937794968\n16. 4.81293881766035\n17. 2.66894158531009\n18. 4.87479108159788\n19. 5.67015664667361\n20. 5.34878754658322\n21. 5.29818453927591\n22. 5.96369513319422\n23. 5.3843633735752\n24. 5.25533005011821\n25. 5.67363776982445\n26. 6.40244637352121\n27. 4.96924526019484\n28. 5.46657958042759\n29. 6.23300808197217\n30. 5.32737291424533\n31. 4.1778247623851\n32. 6.17759533684295\n33. 5.14013779782457\n34. 6.19216092606748\n35. 3.1323222414776\n36. 3.73940866439054\n37. 4.76717099653126\n38. 5.18777079908608\n39. 2.88340181730641\n40. 4.21273827322048\n41. 5.05748196155859\n42. 2.83505813510368\n43. 4.9370913302228\n44. 6.00453530100697\n45. 5.10286155836648\n46. 3.94315480987993\n47. 4.61112813507282\n48. 4.77526660140059\n49. 5.89552546762002\n50. 5.63832730295727\n51. 4.42150402486798\n52. 5.37136129709292\n53. 5.5984263833908\n54. 3.82425065700801\n55. 4.6405133778627\n56. 3.8804797790112\n57. 5.1347342700607\n58. 4.3597376801134\n59. 4.07631200752084\n60. 6.48299751014012\n61. 6.34570942081525\n62. 3.17570764018131\n63. 4.40265064151645\n64. 5.6094733178551\n65. 4.37280977767768\n66. 5.3141312000566\n67. 3.16336104340809\n68. 5.7905709029466\n69. 6.8159767461336\n70. 3.36892962544043\n71. 3.03180749863291\n72. 4.49737703061768\n73. 3.89645660060743\n74. 4.28201839080231\n75. 4.53080127991334\n76. 5.96159276296555\n77. 4.79134535294181\n78. 5.69949480260756\n79. 4.31014403417676\n80. 4.28485207349119\n81. 6.03019919202084\n82. 4.8076863664594\n83. 5.87502263457037\n84. 5.16206728154973\n85. 5.63720325197501\n86. 5.33198768057842\n87. 6.17520496495122\n88. 3.17013751304852\n89. 4.88130374914437\n90. 2.64960729689182\n91. 4.88959322713532\n92. 3.72315826810647\n93. 6.95634827698697\n94. 4.86585609288532\n95. 4.84054679970899\n96. 3.81609140205284\n97. 4.82977027357397\n98. 4.84278995509461\n99. 6.8068628214035\n100. 1.46922773845984\n\n\n\n\n\n",
            "text/latex": "\\begin{description}\n\\item[\\$item1] \\begin{enumerate*}\n\\item 1\n\\item 2\n\\item 3\n\\item 4\n\\end{enumerate*}\n\n\\item[\\$item2] \\begin{enumerate*}\n\\item -0.415401019486232\n\\item -0.148381795611545\n\\item -1.02515864761643\n\\item -0.684226528046741\n\\item 1.10096757189037\n\\item -1.02676683632405\n\\item 0.474262563199782\n\\item -1.03903671316205\n\\item 1.17217997164498\n\\item 0.468664528271316\n\\end{enumerate*}\n\n\\item[\\$item3] \\begin{enumerate*}\n\\item 1.4952572028701\n\\item 0.867436421884457\n\\item 0.492619280083103\n\\item 2.08469674441159\n\\item 1.54467861538567\n\\item 2.26172459208907\n\\item 1.56169731646325\n\\item 0.901538464673123\n\\item 0.76120260739559\n\\item 0.669450125989064\n\\item -0.00333404871830645\n\\item 1.98658137182542\n\\item 0.4162639612109\n\\item 2.96166066960371\n\\item 3.01338392386014\n\\item 1.21578059969416\n\\item 1.64880199848098\n\\item 1.58610531260644\n\\item 1.71870509532948\n\\item 2.3866922183118\n\\end{enumerate*}\n\n\\item[\\$item4] \\begin{enumerate*}\n\\item 5.10250667075079\n\\item 4.29654406242702\n\\item 4.12575136877165\n\\item 5.1862017473899\n\\item 5.02268821924033\n\\item 5.94572356331307\n\\item 3.37509928482673\n\\item 5.50826520635311\n\\item 6.36418636963138\n\\item 6.33383994223407\n\\item 4.07791148192472\n\\item 5.81782867720522\n\\item 3.60421398961132\n\\item 6.93948439744629\n\\item 3.53317937794968\n\\item 4.81293881766035\n\\item 2.66894158531009\n\\item 4.87479108159788\n\\item 5.67015664667361\n\\item 5.34878754658322\n\\item 5.29818453927591\n\\item 5.96369513319422\n\\item 5.3843633735752\n\\item 5.25533005011821\n\\item 5.67363776982445\n\\item 6.40244637352121\n\\item 4.96924526019484\n\\item 5.46657958042759\n\\item 6.23300808197217\n\\item 5.32737291424533\n\\item 4.1778247623851\n\\item 6.17759533684295\n\\item 5.14013779782457\n\\item 6.19216092606748\n\\item 3.1323222414776\n\\item 3.73940866439054\n\\item 4.76717099653126\n\\item 5.18777079908608\n\\item 2.88340181730641\n\\item 4.21273827322048\n\\item 5.05748196155859\n\\item 2.83505813510368\n\\item 4.9370913302228\n\\item 6.00453530100697\n\\item 5.10286155836648\n\\item 3.94315480987993\n\\item 4.61112813507282\n\\item 4.77526660140059\n\\item 5.89552546762002\n\\item 5.63832730295727\n\\item 4.42150402486798\n\\item 5.37136129709292\n\\item 5.5984263833908\n\\item 3.82425065700801\n\\item 4.6405133778627\n\\item 3.8804797790112\n\\item 5.1347342700607\n\\item 4.3597376801134\n\\item 4.07631200752084\n\\item 6.48299751014012\n\\item 6.34570942081525\n\\item 3.17570764018131\n\\item 4.40265064151645\n\\item 5.6094733178551\n\\item 4.37280977767768\n\\item 5.3141312000566\n\\item 3.16336104340809\n\\item 5.7905709029466\n\\item 6.8159767461336\n\\item 3.36892962544043\n\\item 3.03180749863291\n\\item 4.49737703061768\n\\item 3.89645660060743\n\\item 4.28201839080231\n\\item 4.53080127991334\n\\item 5.96159276296555\n\\item 4.79134535294181\n\\item 5.69949480260756\n\\item 4.31014403417676\n\\item 4.28485207349119\n\\item 6.03019919202084\n\\item 4.8076863664594\n\\item 5.87502263457037\n\\item 5.16206728154973\n\\item 5.63720325197501\n\\item 5.33198768057842\n\\item 6.17520496495122\n\\item 3.17013751304852\n\\item 4.88130374914437\n\\item 2.64960729689182\n\\item 4.88959322713532\n\\item 3.72315826810647\n\\item 6.95634827698697\n\\item 4.86585609288532\n\\item 4.84054679970899\n\\item 3.81609140205284\n\\item 4.82977027357397\n\\item 4.84278995509461\n\\item 6.8068628214035\n\\item 1.46922773845984\n\\end{enumerate*}\n\n\\end{description}\n",
            "text/plain": [
              "$item1\n",
              "[1] 1 2 3 4\n",
              "\n",
              "$item2\n",
              " [1] -0.4154010 -0.1483818 -1.0251586 -0.6842265  1.1009676 -1.0267668\n",
              " [7]  0.4742626 -1.0390367  1.1721800  0.4686645\n",
              "\n",
              "$item3\n",
              " [1]  1.495257203  0.867436422  0.492619280  2.084696744  1.544678615\n",
              " [6]  2.261724592  1.561697316  0.901538465  0.761202607  0.669450126\n",
              "[11] -0.003334049  1.986581372  0.416263961  2.961660670  3.013383924\n",
              "[16]  1.215780600  1.648801998  1.586105313  1.718705095  2.386692218\n",
              "\n",
              "$item4\n",
              "  [1] 5.102507 4.296544 4.125751 5.186202 5.022688 5.945724 3.375099 5.508265\n",
              "  [9] 6.364186 6.333840 4.077911 5.817829 3.604214 6.939484 3.533179 4.812939\n",
              " [17] 2.668942 4.874791 5.670157 5.348788 5.298185 5.963695 5.384363 5.255330\n",
              " [25] 5.673638 6.402446 4.969245 5.466580 6.233008 5.327373 4.177825 6.177595\n",
              " [33] 5.140138 6.192161 3.132322 3.739409 4.767171 5.187771 2.883402 4.212738\n",
              " [41] 5.057482 2.835058 4.937091 6.004535 5.102862 3.943155 4.611128 4.775267\n",
              " [49] 5.895525 5.638327 4.421504 5.371361 5.598426 3.824251 4.640513 3.880480\n",
              " [57] 5.134734 4.359738 4.076312 6.482998 6.345709 3.175708 4.402651 5.609473\n",
              " [65] 4.372810 5.314131 3.163361 5.790571 6.815977 3.368930 3.031807 4.497377\n",
              " [73] 3.896457 4.282018 4.530801 5.961593 4.791345 5.699495 4.310144 4.284852\n",
              " [81] 6.030199 4.807686 5.875023 5.162067 5.637203 5.331988 6.175205 3.170138\n",
              " [89] 4.881304 2.649607 4.889593 3.723158 6.956348 4.865856 4.840547 3.816091\n",
              " [97] 4.829770 4.842790 6.806863 1.469228\n"
            ]
          },
          "metadata": {}
        }
      ]
    },
    {
      "cell_type": "code",
      "source": [
        "lapply(data, mean)"
      ],
      "metadata": {
        "colab": {
          "base_uri": "https://localhost:8080/",
          "height": 176
        },
        "id": "9H0SA7BJE-lf",
        "outputId": "7cac885e-4e57-4a1a-a759-862dfd89e0d8"
      },
      "execution_count": 31,
      "outputs": [
        {
          "output_type": "display_data",
          "data": {
            "text/html": [
              "<dl>\n",
              "\t<dt>$item1</dt>\n",
              "\t\t<dd>2.5</dd>\n",
              "\t<dt>$item2</dt>\n",
              "\t\t<dd>-0.11228969052406</dd>\n",
              "\t<dt>$item3</dt>\n",
              "\t\t<dd>1.47854712367249</dd>\n",
              "\t<dt>$item4</dt>\n",
              "\t\t<dd>4.87190057248025</dd>\n",
              "</dl>\n"
            ],
            "text/markdown": "$item1\n:   2.5\n$item2\n:   -0.11228969052406\n$item3\n:   1.47854712367249\n$item4\n:   4.87190057248025\n\n\n",
            "text/latex": "\\begin{description}\n\\item[\\$item1] 2.5\n\\item[\\$item2] -0.11228969052406\n\\item[\\$item3] 1.47854712367249\n\\item[\\$item4] 4.87190057248025\n\\end{description}\n",
            "text/plain": [
              "$item1\n",
              "[1] 2.5\n",
              "\n",
              "$item2\n",
              "[1] -0.1122897\n",
              "\n",
              "$item3\n",
              "[1] 1.478547\n",
              "\n",
              "$item4\n",
              "[1] 4.871901\n"
            ]
          },
          "metadata": {}
        }
      ]
    },
    {
      "cell_type": "code",
      "source": [
        "str(beaver1)\n",
        "str(list(beaver1))"
      ],
      "metadata": {
        "colab": {
          "base_uri": "https://localhost:8080/"
        },
        "id": "xo0_YBoFG3Pa",
        "outputId": "248b6a82-d892-47aa-ca5a-b670cb5c95d1"
      },
      "execution_count": 36,
      "outputs": [
        {
          "output_type": "stream",
          "name": "stdout",
          "text": [
            "'data.frame':\t114 obs. of  4 variables:\n",
            " $ day  : num  346 346 346 346 346 346 346 346 346 346 ...\n",
            " $ time : num  840 850 900 910 920 930 940 950 1000 1010 ...\n",
            " $ temp : num  36.3 36.3 36.4 36.4 36.5 ...\n",
            " $ activ: num  0 0 0 0 0 0 0 0 0 0 ...\n",
            "List of 1\n",
            " $ :'data.frame':\t114 obs. of  4 variables:\n",
            "  ..$ day  : num [1:114] 346 346 346 346 346 346 346 346 346 346 ...\n",
            "  ..$ time : num [1:114] 840 850 900 910 920 930 940 950 1000 1010 ...\n",
            "  ..$ temp : num [1:114] 36.3 36.3 36.4 36.4 36.5 ...\n",
            "  ..$ activ: num [1:114] 0 0 0 0 0 0 0 0 0 0 ...\n"
          ]
        }
      ]
    },
    {
      "cell_type": "code",
      "source": [
        "beaver_data = list(beaver1=beaver1, beaver2=beaver2)\n",
        "\n",
        "lapply(beaver_data, head)"
      ],
      "metadata": {
        "colab": {
          "base_uri": "https://localhost:8080/",
          "height": 600
        },
        "id": "yXsz_aiCFCLA",
        "outputId": "6330c17e-ccb8-446a-f745-d9b4fd20938f"
      },
      "execution_count": 33,
      "outputs": [
        {
          "output_type": "display_data",
          "data": {
            "text/html": [
              "<dl>\n",
              "\t<dt>$beaver1</dt>\n",
              "\t\t<dd><table class=\"dataframe\">\n",
              "<caption>A data.frame: 6 × 4</caption>\n",
              "<thead>\n",
              "\t<tr><th></th><th scope=col>day</th><th scope=col>time</th><th scope=col>temp</th><th scope=col>activ</th></tr>\n",
              "\t<tr><th></th><th scope=col>&lt;dbl&gt;</th><th scope=col>&lt;dbl&gt;</th><th scope=col>&lt;dbl&gt;</th><th scope=col>&lt;dbl&gt;</th></tr>\n",
              "</thead>\n",
              "<tbody>\n",
              "\t<tr><th scope=row>1</th><td>346</td><td>840</td><td>36.33</td><td>0</td></tr>\n",
              "\t<tr><th scope=row>2</th><td>346</td><td>850</td><td>36.34</td><td>0</td></tr>\n",
              "\t<tr><th scope=row>3</th><td>346</td><td>900</td><td>36.35</td><td>0</td></tr>\n",
              "\t<tr><th scope=row>4</th><td>346</td><td>910</td><td>36.42</td><td>0</td></tr>\n",
              "\t<tr><th scope=row>5</th><td>346</td><td>920</td><td>36.55</td><td>0</td></tr>\n",
              "\t<tr><th scope=row>6</th><td>346</td><td>930</td><td>36.69</td><td>0</td></tr>\n",
              "</tbody>\n",
              "</table>\n",
              "</dd>\n",
              "\t<dt>$beaver2</dt>\n",
              "\t\t<dd><table class=\"dataframe\">\n",
              "<caption>A data.frame: 6 × 4</caption>\n",
              "<thead>\n",
              "\t<tr><th></th><th scope=col>day</th><th scope=col>time</th><th scope=col>temp</th><th scope=col>activ</th></tr>\n",
              "\t<tr><th></th><th scope=col>&lt;dbl&gt;</th><th scope=col>&lt;dbl&gt;</th><th scope=col>&lt;dbl&gt;</th><th scope=col>&lt;dbl&gt;</th></tr>\n",
              "</thead>\n",
              "<tbody>\n",
              "\t<tr><th scope=row>1</th><td>307</td><td> 930</td><td>36.58</td><td>0</td></tr>\n",
              "\t<tr><th scope=row>2</th><td>307</td><td> 940</td><td>36.73</td><td>0</td></tr>\n",
              "\t<tr><th scope=row>3</th><td>307</td><td> 950</td><td>36.93</td><td>0</td></tr>\n",
              "\t<tr><th scope=row>4</th><td>307</td><td>1000</td><td>37.15</td><td>0</td></tr>\n",
              "\t<tr><th scope=row>5</th><td>307</td><td>1010</td><td>37.23</td><td>0</td></tr>\n",
              "\t<tr><th scope=row>6</th><td>307</td><td>1020</td><td>37.24</td><td>0</td></tr>\n",
              "</tbody>\n",
              "</table>\n",
              "</dd>\n",
              "</dl>\n"
            ],
            "text/markdown": "$beaver1\n:   \nA data.frame: 6 × 4\n\n| <!--/--> | day &lt;dbl&gt; | time &lt;dbl&gt; | temp &lt;dbl&gt; | activ &lt;dbl&gt; |\n|---|---|---|---|---|\n| 1 | 346 | 840 | 36.33 | 0 |\n| 2 | 346 | 850 | 36.34 | 0 |\n| 3 | 346 | 900 | 36.35 | 0 |\n| 4 | 346 | 910 | 36.42 | 0 |\n| 5 | 346 | 920 | 36.55 | 0 |\n| 6 | 346 | 930 | 36.69 | 0 |\n\n\n$beaver2\n:   \nA data.frame: 6 × 4\n\n| <!--/--> | day &lt;dbl&gt; | time &lt;dbl&gt; | temp &lt;dbl&gt; | activ &lt;dbl&gt; |\n|---|---|---|---|---|\n| 1 | 307 |  930 | 36.58 | 0 |\n| 2 | 307 |  940 | 36.73 | 0 |\n| 3 | 307 |  950 | 36.93 | 0 |\n| 4 | 307 | 1000 | 37.15 | 0 |\n| 5 | 307 | 1010 | 37.23 | 0 |\n| 6 | 307 | 1020 | 37.24 | 0 |\n\n\n\n\n",
            "text/latex": "\\begin{description}\n\\item[\\$beaver1] A data.frame: 6 × 4\n\\begin{tabular}{r|llll}\n  & day & time & temp & activ\\\\\n  & <dbl> & <dbl> & <dbl> & <dbl>\\\\\n\\hline\n\t1 & 346 & 840 & 36.33 & 0\\\\\n\t2 & 346 & 850 & 36.34 & 0\\\\\n\t3 & 346 & 900 & 36.35 & 0\\\\\n\t4 & 346 & 910 & 36.42 & 0\\\\\n\t5 & 346 & 920 & 36.55 & 0\\\\\n\t6 & 346 & 930 & 36.69 & 0\\\\\n\\end{tabular}\n\n\\item[\\$beaver2] A data.frame: 6 × 4\n\\begin{tabular}{r|llll}\n  & day & time & temp & activ\\\\\n  & <dbl> & <dbl> & <dbl> & <dbl>\\\\\n\\hline\n\t1 & 307 &  930 & 36.58 & 0\\\\\n\t2 & 307 &  940 & 36.73 & 0\\\\\n\t3 & 307 &  950 & 36.93 & 0\\\\\n\t4 & 307 & 1000 & 37.15 & 0\\\\\n\t5 & 307 & 1010 & 37.23 & 0\\\\\n\t6 & 307 & 1020 & 37.24 & 0\\\\\n\\end{tabular}\n\n\\end{description}\n",
            "text/plain": [
              "$beaver1\n",
              "  day time  temp activ\n",
              "1 346  840 36.33     0\n",
              "2 346  850 36.34     0\n",
              "3 346  900 36.35     0\n",
              "4 346  910 36.42     0\n",
              "5 346  920 36.55     0\n",
              "6 346  930 36.69     0\n",
              "\n",
              "$beaver2\n",
              "  day time  temp activ\n",
              "1 307  930 36.58     0\n",
              "2 307  940 36.73     0\n",
              "3 307  950 36.93     0\n",
              "4 307 1000 37.15     0\n",
              "5 307 1010 37.23     0\n",
              "6 307 1020 37.24     0\n"
            ]
          },
          "metadata": {}
        }
      ]
    },
    {
      "cell_type": "code",
      "source": [
        "lapply(beaver_data, function(x) {\n",
        "    round(apply(x, 2, mean), 2)\n",
        "})"
      ],
      "metadata": {
        "colab": {
          "base_uri": "https://localhost:8080/",
          "height": 110
        },
        "id": "qss92roQGsgg",
        "outputId": "ac8df747-8d5b-4f9c-f3f2-4d3d33f5f3d4"
      },
      "execution_count": 37,
      "outputs": [
        {
          "output_type": "display_data",
          "data": {
            "text/html": [
              "<dl>\n",
              "\t<dt>$beaver1</dt>\n",
              "\t\t<dd><style>\n",
              ".dl-inline {width: auto; margin:0; padding: 0}\n",
              ".dl-inline>dt, .dl-inline>dd {float: none; width: auto; display: inline-block}\n",
              ".dl-inline>dt::after {content: \":\\0020\"; padding-right: .5ex}\n",
              ".dl-inline>dt:not(:first-of-type) {padding-left: .5ex}\n",
              "</style><dl class=dl-inline><dt>day</dt><dd>346.2</dd><dt>time</dt><dd>1312.02</dd><dt>temp</dt><dd>36.86</dd><dt>activ</dt><dd>0.05</dd></dl>\n",
              "</dd>\n",
              "\t<dt>$beaver2</dt>\n",
              "\t\t<dd><style>\n",
              ".dl-inline {width: auto; margin:0; padding: 0}\n",
              ".dl-inline>dt, .dl-inline>dd {float: none; width: auto; display: inline-block}\n",
              ".dl-inline>dt::after {content: \":\\0020\"; padding-right: .5ex}\n",
              ".dl-inline>dt:not(:first-of-type) {padding-left: .5ex}\n",
              "</style><dl class=dl-inline><dt>day</dt><dd>307.13</dd><dt>time</dt><dd>1446.2</dd><dt>temp</dt><dd>37.6</dd><dt>activ</dt><dd>0.62</dd></dl>\n",
              "</dd>\n",
              "</dl>\n"
            ],
            "text/markdown": "$beaver1\n:   day\n:   346.2time\n:   1312.02temp\n:   36.86activ\n:   0.05\n\n\n$beaver2\n:   day\n:   307.13time\n:   1446.2temp\n:   37.6activ\n:   0.62\n\n\n\n\n",
            "text/latex": "\\begin{description}\n\\item[\\$beaver1] \\begin{description*}\n\\item[day] 346.2\n\\item[time] 1312.02\n\\item[temp] 36.86\n\\item[activ] 0.05\n\\end{description*}\n\n\\item[\\$beaver2] \\begin{description*}\n\\item[day] 307.13\n\\item[time] 1446.2\n\\item[temp] 37.6\n\\item[activ] 0.62\n\\end{description*}\n\n\\end{description}\n",
            "text/plain": [
              "$beaver1\n",
              "    day    time    temp   activ \n",
              " 346.20 1312.02   36.86    0.05 \n",
              "\n",
              "$beaver2\n",
              "    day    time    temp   activ \n",
              " 307.13 1446.20   37.60    0.62 \n"
            ]
          },
          "metadata": {}
        }
      ]
    },
    {
      "cell_type": "code",
      "source": [
        "# output 벡터 or 메트릭스\n",
        "sapply(beaver_data, function(x) {\n",
        "    round(apply(x, 2, mean), 2)\n",
        "})"
      ],
      "metadata": {
        "colab": {
          "base_uri": "https://localhost:8080/",
          "height": 187
        },
        "id": "O7AikytsHM_T",
        "outputId": "3185a78d-bb2d-4ea6-e795-a9eb88da5cf5"
      },
      "execution_count": 38,
      "outputs": [
        {
          "output_type": "display_data",
          "data": {
            "text/html": [
              "<table class=\"dataframe\">\n",
              "<caption>A matrix: 4 × 2 of type dbl</caption>\n",
              "<thead>\n",
              "\t<tr><th></th><th scope=col>beaver1</th><th scope=col>beaver2</th></tr>\n",
              "</thead>\n",
              "<tbody>\n",
              "\t<tr><th scope=row>day</th><td> 346.20</td><td> 307.13</td></tr>\n",
              "\t<tr><th scope=row>time</th><td>1312.02</td><td>1446.20</td></tr>\n",
              "\t<tr><th scope=row>temp</th><td>  36.86</td><td>  37.60</td></tr>\n",
              "\t<tr><th scope=row>activ</th><td>   0.05</td><td>   0.62</td></tr>\n",
              "</tbody>\n",
              "</table>\n"
            ],
            "text/markdown": "\nA matrix: 4 × 2 of type dbl\n\n| <!--/--> | beaver1 | beaver2 |\n|---|---|---|\n| day |  346.20 |  307.13 |\n| time | 1312.02 | 1446.20 |\n| temp |   36.86 |   37.60 |\n| activ |    0.05 |    0.62 |\n\n",
            "text/latex": "A matrix: 4 × 2 of type dbl\n\\begin{tabular}{r|ll}\n  & beaver1 & beaver2\\\\\n\\hline\n\tday &  346.20 &  307.13\\\\\n\ttime & 1312.02 & 1446.20\\\\\n\ttemp &   36.86 &   37.60\\\\\n\tactiv &    0.05 &    0.62\\\\\n\\end{tabular}\n",
            "text/plain": [
              "      beaver1 beaver2\n",
              "day    346.20  307.13\n",
              "time  1312.02 1446.20\n",
              "temp    36.86   37.60\n",
              "activ    0.05    0.62"
            ]
          },
          "metadata": {}
        }
      ]
    },
    {
      "cell_type": "code",
      "source": [
        "# 행 합계, 열 합계\n",
        "rowSums(mtcars)\n",
        "colSums(mtcars)"
      ],
      "metadata": {
        "colab": {
          "base_uri": "https://localhost:8080/",
          "height": 98
        },
        "id": "ejMIOPAUHfHO",
        "outputId": "95521fc8-a72b-4e77-f77c-4a9f66031260"
      },
      "execution_count": 41,
      "outputs": [
        {
          "output_type": "display_data",
          "data": {
            "text/html": [
              "<style>\n",
              ".dl-inline {width: auto; margin:0; padding: 0}\n",
              ".dl-inline>dt, .dl-inline>dd {float: none; width: auto; display: inline-block}\n",
              ".dl-inline>dt::after {content: \":\\0020\"; padding-right: .5ex}\n",
              ".dl-inline>dt:not(:first-of-type) {padding-left: .5ex}\n",
              "</style><dl class=dl-inline><dt>Mazda RX4</dt><dd>328.98</dd><dt>Mazda RX4 Wag</dt><dd>329.795</dd><dt>Datsun 710</dt><dd>259.58</dd><dt>Hornet 4 Drive</dt><dd>426.135</dd><dt>Hornet Sportabout</dt><dd>590.31</dd><dt>Valiant</dt><dd>385.54</dd><dt>Duster 360</dt><dd>656.92</dd><dt>Merc 240D</dt><dd>270.98</dd><dt>Merc 230</dt><dd>299.57</dd><dt>Merc 280</dt><dd>350.46</dd><dt>Merc 280C</dt><dd>349.66</dd><dt>Merc 450SE</dt><dd>510.74</dd><dt>Merc 450SL</dt><dd>511.5</dd><dt>Merc 450SLC</dt><dd>509.85</dd><dt>Cadillac Fleetwood</dt><dd>728.56</dd><dt>Lincoln Continental</dt><dd>726.644</dd><dt>Chrysler Imperial</dt><dd>725.695</dd><dt>Fiat 128</dt><dd>213.85</dd><dt>Honda Civic</dt><dd>195.165</dd><dt>Toyota Corolla</dt><dd>206.955</dd><dt>Toyota Corona</dt><dd>273.775</dd><dt>Dodge Challenger</dt><dd>519.65</dd><dt>AMC Javelin</dt><dd>506.085</dd><dt>Camaro Z28</dt><dd>646.28</dd><dt>Pontiac Firebird</dt><dd>631.175</dd><dt>Fiat X1-9</dt><dd>208.215</dd><dt>Porsche 914-2</dt><dd>272.57</dd><dt>Lotus Europa</dt><dd>273.683</dd><dt>Ford Pantera L</dt><dd>670.69</dd><dt>Ferrari Dino</dt><dd>379.59</dd><dt>Maserati Bora</dt><dd>694.71</dd><dt>Volvo 142E</dt><dd>288.89</dd></dl>\n"
            ],
            "text/markdown": "Mazda RX4\n:   328.98Mazda RX4 Wag\n:   329.795Datsun 710\n:   259.58Hornet 4 Drive\n:   426.135Hornet Sportabout\n:   590.31Valiant\n:   385.54Duster 360\n:   656.92Merc 240D\n:   270.98Merc 230\n:   299.57Merc 280\n:   350.46Merc 280C\n:   349.66Merc 450SE\n:   510.74Merc 450SL\n:   511.5Merc 450SLC\n:   509.85Cadillac Fleetwood\n:   728.56Lincoln Continental\n:   726.644Chrysler Imperial\n:   725.695Fiat 128\n:   213.85Honda Civic\n:   195.165Toyota Corolla\n:   206.955Toyota Corona\n:   273.775Dodge Challenger\n:   519.65AMC Javelin\n:   506.085Camaro Z28\n:   646.28Pontiac Firebird\n:   631.175Fiat X1-9\n:   208.215Porsche 914-2\n:   272.57Lotus Europa\n:   273.683Ford Pantera L\n:   670.69Ferrari Dino\n:   379.59Maserati Bora\n:   694.71Volvo 142E\n:   288.89\n\n",
            "text/latex": "\\begin{description*}\n\\item[Mazda RX4] 328.98\n\\item[Mazda RX4 Wag] 329.795\n\\item[Datsun 710] 259.58\n\\item[Hornet 4 Drive] 426.135\n\\item[Hornet Sportabout] 590.31\n\\item[Valiant] 385.54\n\\item[Duster 360] 656.92\n\\item[Merc 240D] 270.98\n\\item[Merc 230] 299.57\n\\item[Merc 280] 350.46\n\\item[Merc 280C] 349.66\n\\item[Merc 450SE] 510.74\n\\item[Merc 450SL] 511.5\n\\item[Merc 450SLC] 509.85\n\\item[Cadillac Fleetwood] 728.56\n\\item[Lincoln Continental] 726.644\n\\item[Chrysler Imperial] 725.695\n\\item[Fiat 128] 213.85\n\\item[Honda Civic] 195.165\n\\item[Toyota Corolla] 206.955\n\\item[Toyota Corona] 273.775\n\\item[Dodge Challenger] 519.65\n\\item[AMC Javelin] 506.085\n\\item[Camaro Z28] 646.28\n\\item[Pontiac Firebird] 631.175\n\\item[Fiat X1-9] 208.215\n\\item[Porsche 914-2] 272.57\n\\item[Lotus Europa] 273.683\n\\item[Ford Pantera L] 670.69\n\\item[Ferrari Dino] 379.59\n\\item[Maserati Bora] 694.71\n\\item[Volvo 142E] 288.89\n\\end{description*}\n",
            "text/plain": [
              "          Mazda RX4       Mazda RX4 Wag          Datsun 710      Hornet 4 Drive \n",
              "            328.980             329.795             259.580             426.135 \n",
              "  Hornet Sportabout             Valiant          Duster 360           Merc 240D \n",
              "            590.310             385.540             656.920             270.980 \n",
              "           Merc 230            Merc 280           Merc 280C          Merc 450SE \n",
              "            299.570             350.460             349.660             510.740 \n",
              "         Merc 450SL         Merc 450SLC  Cadillac Fleetwood Lincoln Continental \n",
              "            511.500             509.850             728.560             726.644 \n",
              "  Chrysler Imperial            Fiat 128         Honda Civic      Toyota Corolla \n",
              "            725.695             213.850             195.165             206.955 \n",
              "      Toyota Corona    Dodge Challenger         AMC Javelin          Camaro Z28 \n",
              "            273.775             519.650             506.085             646.280 \n",
              "   Pontiac Firebird           Fiat X1-9       Porsche 914-2        Lotus Europa \n",
              "            631.175             208.215             272.570             273.683 \n",
              "     Ford Pantera L        Ferrari Dino       Maserati Bora          Volvo 142E \n",
              "            670.690             379.590             694.710             288.890 "
            ]
          },
          "metadata": {}
        },
        {
          "output_type": "display_data",
          "data": {
            "text/html": [
              "<style>\n",
              ".dl-inline {width: auto; margin:0; padding: 0}\n",
              ".dl-inline>dt, .dl-inline>dd {float: none; width: auto; display: inline-block}\n",
              ".dl-inline>dt::after {content: \":\\0020\"; padding-right: .5ex}\n",
              ".dl-inline>dt:not(:first-of-type) {padding-left: .5ex}\n",
              "</style><dl class=dl-inline><dt>mpg</dt><dd>642.9</dd><dt>cyl</dt><dd>198</dd><dt>disp</dt><dd>7383.1</dd><dt>hp</dt><dd>4694</dd><dt>drat</dt><dd>115.09</dd><dt>wt</dt><dd>102.952</dd><dt>qsec</dt><dd>571.16</dd><dt>vs</dt><dd>14</dd><dt>am</dt><dd>13</dd><dt>gear</dt><dd>118</dd><dt>carb</dt><dd>90</dd></dl>\n"
            ],
            "text/markdown": "mpg\n:   642.9cyl\n:   198disp\n:   7383.1hp\n:   4694drat\n:   115.09wt\n:   102.952qsec\n:   571.16vs\n:   14am\n:   13gear\n:   118carb\n:   90\n\n",
            "text/latex": "\\begin{description*}\n\\item[mpg] 642.9\n\\item[cyl] 198\n\\item[disp] 7383.1\n\\item[hp] 4694\n\\item[drat] 115.09\n\\item[wt] 102.952\n\\item[qsec] 571.16\n\\item[vs] 14\n\\item[am] 13\n\\item[gear] 118\n\\item[carb] 90\n\\end{description*}\n",
            "text/plain": [
              "     mpg      cyl     disp       hp     drat       wt     qsec       vs \n",
              " 642.900  198.000 7383.100 4694.000  115.090  102.952  571.160   14.000 \n",
              "      am     gear     carb \n",
              "  13.000  118.000   90.000 "
            ]
          },
          "metadata": {}
        }
      ]
    },
    {
      "cell_type": "code",
      "source": [
        "# 행, 열 평균\n",
        "rowMeans(mtcars)\n",
        "colMeans(mtcars)"
      ],
      "metadata": {
        "colab": {
          "base_uri": "https://localhost:8080/",
          "height": 131
        },
        "id": "fzpUSh03Hsrz",
        "outputId": "54497b9c-c94c-4156-a679-84ad20e6bd9c"
      },
      "execution_count": 43,
      "outputs": [
        {
          "output_type": "display_data",
          "data": {
            "text/html": [
              "<style>\n",
              ".dl-inline {width: auto; margin:0; padding: 0}\n",
              ".dl-inline>dt, .dl-inline>dd {float: none; width: auto; display: inline-block}\n",
              ".dl-inline>dt::after {content: \":\\0020\"; padding-right: .5ex}\n",
              ".dl-inline>dt:not(:first-of-type) {padding-left: .5ex}\n",
              "</style><dl class=dl-inline><dt>Mazda RX4</dt><dd>29.9072727272727</dd><dt>Mazda RX4 Wag</dt><dd>29.9813636363636</dd><dt>Datsun 710</dt><dd>23.5981818181818</dd><dt>Hornet 4 Drive</dt><dd>38.7395454545455</dd><dt>Hornet Sportabout</dt><dd>53.6645454545455</dd><dt>Valiant</dt><dd>35.0490909090909</dd><dt>Duster 360</dt><dd>59.72</dd><dt>Merc 240D</dt><dd>24.6345454545455</dd><dt>Merc 230</dt><dd>27.2336363636364</dd><dt>Merc 280</dt><dd>31.86</dd><dt>Merc 280C</dt><dd>31.7872727272727</dd><dt>Merc 450SE</dt><dd>46.4309090909091</dd><dt>Merc 450SL</dt><dd>46.5</dd><dt>Merc 450SLC</dt><dd>46.35</dd><dt>Cadillac Fleetwood</dt><dd>66.2327272727273</dd><dt>Lincoln Continental</dt><dd>66.0585454545455</dd><dt>Chrysler Imperial</dt><dd>65.9722727272727</dd><dt>Fiat 128</dt><dd>19.4409090909091</dd><dt>Honda Civic</dt><dd>17.7422727272727</dd><dt>Toyota Corolla</dt><dd>18.8140909090909</dd><dt>Toyota Corona</dt><dd>24.8886363636364</dd><dt>Dodge Challenger</dt><dd>47.2409090909091</dd><dt>AMC Javelin</dt><dd>46.0077272727273</dd><dt>Camaro Z28</dt><dd>58.7527272727273</dd><dt>Pontiac Firebird</dt><dd>57.3795454545455</dd><dt>Fiat X1-9</dt><dd>18.9286363636364</dd><dt>Porsche 914-2</dt><dd>24.7790909090909</dd><dt>Lotus Europa</dt><dd>24.8802727272727</dd><dt>Ford Pantera L</dt><dd>60.9718181818182</dd><dt>Ferrari Dino</dt><dd>34.5081818181818</dd><dt>Maserati Bora</dt><dd>63.1554545454545</dd><dt>Volvo 142E</dt><dd>26.2627272727273</dd></dl>\n"
            ],
            "text/markdown": "Mazda RX4\n:   29.9072727272727Mazda RX4 Wag\n:   29.9813636363636Datsun 710\n:   23.5981818181818Hornet 4 Drive\n:   38.7395454545455Hornet Sportabout\n:   53.6645454545455Valiant\n:   35.0490909090909Duster 360\n:   59.72Merc 240D\n:   24.6345454545455Merc 230\n:   27.2336363636364Merc 280\n:   31.86Merc 280C\n:   31.7872727272727Merc 450SE\n:   46.4309090909091Merc 450SL\n:   46.5Merc 450SLC\n:   46.35Cadillac Fleetwood\n:   66.2327272727273Lincoln Continental\n:   66.0585454545455Chrysler Imperial\n:   65.9722727272727Fiat 128\n:   19.4409090909091Honda Civic\n:   17.7422727272727Toyota Corolla\n:   18.8140909090909Toyota Corona\n:   24.8886363636364Dodge Challenger\n:   47.2409090909091AMC Javelin\n:   46.0077272727273Camaro Z28\n:   58.7527272727273Pontiac Firebird\n:   57.3795454545455Fiat X1-9\n:   18.9286363636364Porsche 914-2\n:   24.7790909090909Lotus Europa\n:   24.8802727272727Ford Pantera L\n:   60.9718181818182Ferrari Dino\n:   34.5081818181818Maserati Bora\n:   63.1554545454545Volvo 142E\n:   26.2627272727273\n\n",
            "text/latex": "\\begin{description*}\n\\item[Mazda RX4] 29.9072727272727\n\\item[Mazda RX4 Wag] 29.9813636363636\n\\item[Datsun 710] 23.5981818181818\n\\item[Hornet 4 Drive] 38.7395454545455\n\\item[Hornet Sportabout] 53.6645454545455\n\\item[Valiant] 35.0490909090909\n\\item[Duster 360] 59.72\n\\item[Merc 240D] 24.6345454545455\n\\item[Merc 230] 27.2336363636364\n\\item[Merc 280] 31.86\n\\item[Merc 280C] 31.7872727272727\n\\item[Merc 450SE] 46.4309090909091\n\\item[Merc 450SL] 46.5\n\\item[Merc 450SLC] 46.35\n\\item[Cadillac Fleetwood] 66.2327272727273\n\\item[Lincoln Continental] 66.0585454545455\n\\item[Chrysler Imperial] 65.9722727272727\n\\item[Fiat 128] 19.4409090909091\n\\item[Honda Civic] 17.7422727272727\n\\item[Toyota Corolla] 18.8140909090909\n\\item[Toyota Corona] 24.8886363636364\n\\item[Dodge Challenger] 47.2409090909091\n\\item[AMC Javelin] 46.0077272727273\n\\item[Camaro Z28] 58.7527272727273\n\\item[Pontiac Firebird] 57.3795454545455\n\\item[Fiat X1-9] 18.9286363636364\n\\item[Porsche 914-2] 24.7790909090909\n\\item[Lotus Europa] 24.8802727272727\n\\item[Ford Pantera L] 60.9718181818182\n\\item[Ferrari Dino] 34.5081818181818\n\\item[Maserati Bora] 63.1554545454545\n\\item[Volvo 142E] 26.2627272727273\n\\end{description*}\n",
            "text/plain": [
              "          Mazda RX4       Mazda RX4 Wag          Datsun 710      Hornet 4 Drive \n",
              "           29.90727            29.98136            23.59818            38.73955 \n",
              "  Hornet Sportabout             Valiant          Duster 360           Merc 240D \n",
              "           53.66455            35.04909            59.72000            24.63455 \n",
              "           Merc 230            Merc 280           Merc 280C          Merc 450SE \n",
              "           27.23364            31.86000            31.78727            46.43091 \n",
              "         Merc 450SL         Merc 450SLC  Cadillac Fleetwood Lincoln Continental \n",
              "           46.50000            46.35000            66.23273            66.05855 \n",
              "  Chrysler Imperial            Fiat 128         Honda Civic      Toyota Corolla \n",
              "           65.97227            19.44091            17.74227            18.81409 \n",
              "      Toyota Corona    Dodge Challenger         AMC Javelin          Camaro Z28 \n",
              "           24.88864            47.24091            46.00773            58.75273 \n",
              "   Pontiac Firebird           Fiat X1-9       Porsche 914-2        Lotus Europa \n",
              "           57.37955            18.92864            24.77909            24.88027 \n",
              "     Ford Pantera L        Ferrari Dino       Maserati Bora          Volvo 142E \n",
              "           60.97182            34.50818            63.15545            26.26273 "
            ]
          },
          "metadata": {}
        },
        {
          "output_type": "display_data",
          "data": {
            "text/html": [
              "<style>\n",
              ".dl-inline {width: auto; margin:0; padding: 0}\n",
              ".dl-inline>dt, .dl-inline>dd {float: none; width: auto; display: inline-block}\n",
              ".dl-inline>dt::after {content: \":\\0020\"; padding-right: .5ex}\n",
              ".dl-inline>dt:not(:first-of-type) {padding-left: .5ex}\n",
              "</style><dl class=dl-inline><dt>mpg</dt><dd>20.090625</dd><dt>cyl</dt><dd>6.1875</dd><dt>disp</dt><dd>230.721875</dd><dt>hp</dt><dd>146.6875</dd><dt>drat</dt><dd>3.5965625</dd><dt>wt</dt><dd>3.21725</dd><dt>qsec</dt><dd>17.84875</dd><dt>vs</dt><dd>0.4375</dd><dt>am</dt><dd>0.40625</dd><dt>gear</dt><dd>3.6875</dd><dt>carb</dt><dd>2.8125</dd></dl>\n"
            ],
            "text/markdown": "mpg\n:   20.090625cyl\n:   6.1875disp\n:   230.721875hp\n:   146.6875drat\n:   3.5965625wt\n:   3.21725qsec\n:   17.84875vs\n:   0.4375am\n:   0.40625gear\n:   3.6875carb\n:   2.8125\n\n",
            "text/latex": "\\begin{description*}\n\\item[mpg] 20.090625\n\\item[cyl] 6.1875\n\\item[disp] 230.721875\n\\item[hp] 146.6875\n\\item[drat] 3.5965625\n\\item[wt] 3.21725\n\\item[qsec] 17.84875\n\\item[vs] 0.4375\n\\item[am] 0.40625\n\\item[gear] 3.6875\n\\item[carb] 2.8125\n\\end{description*}\n",
            "text/plain": [
              "       mpg        cyl       disp         hp       drat         wt       qsec \n",
              " 20.090625   6.187500 230.721875 146.687500   3.596563   3.217250  17.848750 \n",
              "        vs         am       gear       carb \n",
              "  0.437500   0.406250   3.687500   2.812500 "
            ]
          },
          "metadata": {}
        }
      ]
    },
    {
      "cell_type": "markdown",
      "source": [
        "# Pipe Operator %>%\n",
        "```\n",
        "library(magrittr)\n",
        "```\n",
        "\n",
        "### [magrittr](https://magrittr.tidyverse.org/)"
      ],
      "metadata": {
        "id": "ky2f4EtlH3zv"
      }
    },
    {
      "cell_type": "code",
      "source": [
        "x = rnorm(10, mean=5, sd=1)\n",
        "\n",
        "x1 = log(x)\n",
        "x2 = diff(x1)\n",
        "x3 = exp(x2)\n",
        "round(x3, 2)"
      ],
      "metadata": {
        "colab": {
          "base_uri": "https://localhost:8080/",
          "height": 32
        },
        "id": "CfryxnFQIEcg",
        "outputId": "f3b8fcdc-691b-46e9-d909-5460df940acb"
      },
      "execution_count": 49,
      "outputs": [
        {
          "output_type": "display_data",
          "data": {
            "text/html": [
              "<style>\n",
              ".list-inline {list-style: none; margin:0; padding: 0}\n",
              ".list-inline>li {display: inline-block}\n",
              ".list-inline>li:not(:last-child)::after {content: \"\\00b7\"; padding: 0 .5ex}\n",
              "</style>\n",
              "<ol class=list-inline><li>1.04</li><li>1.16</li><li>0.95</li><li>0.98</li><li>1.1</li><li>0.72</li><li>1.56</li><li>0.87</li><li>0.67</li></ol>\n"
            ],
            "text/markdown": "1. 1.04\n2. 1.16\n3. 0.95\n4. 0.98\n5. 1.1\n6. 0.72\n7. 1.56\n8. 0.87\n9. 0.67\n\n\n",
            "text/latex": "\\begin{enumerate*}\n\\item 1.04\n\\item 1.16\n\\item 0.95\n\\item 0.98\n\\item 1.1\n\\item 0.72\n\\item 1.56\n\\item 0.87\n\\item 0.67\n\\end{enumerate*}\n",
            "text/plain": [
              "[1] 1.04 1.16 0.95 0.98 1.10 0.72 1.56 0.87 0.67"
            ]
          },
          "metadata": {}
        }
      ]
    },
    {
      "cell_type": "code",
      "source": [
        "x\n",
        "x1\n",
        "x2\n",
        "x3"
      ],
      "metadata": {
        "colab": {
          "base_uri": "https://localhost:8080/",
          "height": 82
        },
        "id": "wPt9d9z_IPLm",
        "outputId": "181ff26e-3afe-4504-a614-c9c5dfb02f44"
      },
      "execution_count": 51,
      "outputs": [
        {
          "output_type": "display_data",
          "data": {
            "text/html": [
              "<style>\n",
              ".list-inline {list-style: none; margin:0; padding: 0}\n",
              ".list-inline>li {display: inline-block}\n",
              ".list-inline>li:not(:last-child)::after {content: \"\\00b7\"; padding: 0 .5ex}\n",
              "</style>\n",
              "<ol class=list-inline><li>4.84221079992066</li><li>5.01800889845956</li><li>5.8160915198992</li><li>5.50318645882865</li><li>5.38150828521918</li><li>5.91347778781237</li><li>4.25719855728549</li><li>6.64446808366603</li><li>5.79653117615727</li><li>3.87815405256511</li></ol>\n"
            ],
            "text/markdown": "1. 4.84221079992066\n2. 5.01800889845956\n3. 5.8160915198992\n4. 5.50318645882865\n5. 5.38150828521918\n6. 5.91347778781237\n7. 4.25719855728549\n8. 6.64446808366603\n9. 5.79653117615727\n10. 3.87815405256511\n\n\n",
            "text/latex": "\\begin{enumerate*}\n\\item 4.84221079992066\n\\item 5.01800889845956\n\\item 5.8160915198992\n\\item 5.50318645882865\n\\item 5.38150828521918\n\\item 5.91347778781237\n\\item 4.25719855728549\n\\item 6.64446808366603\n\\item 5.79653117615727\n\\item 3.87815405256511\n\\end{enumerate*}\n",
            "text/plain": [
              " [1] 4.842211 5.018009 5.816092 5.503186 5.381508 5.913478 4.257199 6.644468\n",
              " [9] 5.796531 3.878154"
            ]
          },
          "metadata": {}
        },
        {
          "output_type": "display_data",
          "data": {
            "text/html": [
              "<style>\n",
              ".list-inline {list-style: none; margin:0; padding: 0}\n",
              ".list-inline>li {display: inline-block}\n",
              ".list-inline>li:not(:last-child)::after {content: \"\\00b7\"; padding: 0 .5ex}\n",
              "</style>\n",
              "<ol class=list-inline><li>1.57737139328087</li><li>1.61303322125066</li><li>1.76062847599104</li><li>1.70532728062711</li><li>1.68296868529535</li><li>1.77723411651907</li><li>1.44861132829657</li><li>1.89378464135642</li><li>1.757259665559</li><li>1.35535928077749</li></ol>\n"
            ],
            "text/markdown": "1. 1.57737139328087\n2. 1.61303322125066\n3. 1.76062847599104\n4. 1.70532728062711\n5. 1.68296868529535\n6. 1.77723411651907\n7. 1.44861132829657\n8. 1.89378464135642\n9. 1.757259665559\n10. 1.35535928077749\n\n\n",
            "text/latex": "\\begin{enumerate*}\n\\item 1.57737139328087\n\\item 1.61303322125066\n\\item 1.76062847599104\n\\item 1.70532728062711\n\\item 1.68296868529535\n\\item 1.77723411651907\n\\item 1.44861132829657\n\\item 1.89378464135642\n\\item 1.757259665559\n\\item 1.35535928077749\n\\end{enumerate*}\n",
            "text/plain": [
              " [1] 1.577371 1.613033 1.760628 1.705327 1.682969 1.777234 1.448611 1.893785\n",
              " [9] 1.757260 1.355359"
            ]
          },
          "metadata": {}
        },
        {
          "output_type": "display_data",
          "data": {
            "text/html": [
              "<style>\n",
              ".list-inline {list-style: none; margin:0; padding: 0}\n",
              ".list-inline>li {display: inline-block}\n",
              ".list-inline>li:not(:last-child)::after {content: \"\\00b7\"; padding: 0 .5ex}\n",
              "</style>\n",
              "<ol class=list-inline><li>0.035661827969796</li><li>0.14759525474038</li><li>-0.0553011953639346</li><li>-0.0223585953317618</li><li>0.0942654312237259</li><li>-0.328622788222499</li><li>0.445173313059843</li><li>-0.136524975797419</li><li>-0.401900384781512</li></ol>\n"
            ],
            "text/markdown": "1. 0.035661827969796\n2. 0.14759525474038\n3. -0.0553011953639346\n4. -0.0223585953317618\n5. 0.0942654312237259\n6. -0.328622788222499\n7. 0.445173313059843\n8. -0.136524975797419\n9. -0.401900384781512\n\n\n",
            "text/latex": "\\begin{enumerate*}\n\\item 0.035661827969796\n\\item 0.14759525474038\n\\item -0.0553011953639346\n\\item -0.0223585953317618\n\\item 0.0942654312237259\n\\item -0.328622788222499\n\\item 0.445173313059843\n\\item -0.136524975797419\n\\item -0.401900384781512\n\\end{enumerate*}\n",
            "text/plain": [
              "[1]  0.03566183  0.14759525 -0.05530120 -0.02235860  0.09426543 -0.32862279\n",
              "[7]  0.44517331 -0.13652498 -0.40190038"
            ]
          },
          "metadata": {}
        },
        {
          "output_type": "display_data",
          "data": {
            "text/html": [
              "<style>\n",
              ".list-inline {list-style: none; margin:0; padding: 0}\n",
              ".list-inline>li {display: inline-block}\n",
              ".list-inline>li:not(:last-child)::after {content: \"\\00b7\"; padding: 0 .5ex}\n",
              "</style>\n",
              "<ol class=list-inline><li>1.03630533774816</li><li>1.15904368397685</li><li>0.946200113942503</li><li>0.977889505558317</li><li>1.09885137667711</li><li>0.719914525773571</li><li>1.56076067260126</li><li>0.872384531488198</li><li>0.669047389672815</li></ol>\n"
            ],
            "text/markdown": "1. 1.03630533774816\n2. 1.15904368397685\n3. 0.946200113942503\n4. 0.977889505558317\n5. 1.09885137667711\n6. 0.719914525773571\n7. 1.56076067260126\n8. 0.872384531488198\n9. 0.669047389672815\n\n\n",
            "text/latex": "\\begin{enumerate*}\n\\item 1.03630533774816\n\\item 1.15904368397685\n\\item 0.946200113942503\n\\item 0.977889505558317\n\\item 1.09885137667711\n\\item 0.719914525773571\n\\item 1.56076067260126\n\\item 0.872384531488198\n\\item 0.669047389672815\n\\end{enumerate*}\n",
            "text/plain": [
              "[1] 1.0363053 1.1590437 0.9462001 0.9778895 1.0988514 0.7199145 1.5607607\n",
              "[8] 0.8723845 0.6690474"
            ]
          },
          "metadata": {}
        }
      ]
    },
    {
      "cell_type": "code",
      "source": [
        "diff(c(10, 9))"
      ],
      "metadata": {
        "colab": {
          "base_uri": "https://localhost:8080/",
          "height": 32
        },
        "id": "USdfKsO3IlVO",
        "outputId": "2d4aed6d-c73e-4fe0-9666-3606a0d6f017"
      },
      "execution_count": 52,
      "outputs": [
        {
          "output_type": "display_data",
          "data": {
            "text/html": [
              "-1"
            ],
            "text/markdown": "-1",
            "text/latex": "-1",
            "text/plain": [
              "[1] -1"
            ]
          },
          "metadata": {}
        }
      ]
    },
    {
      "cell_type": "code",
      "source": [
        "round(exp(diff(log(x))), 2)"
      ],
      "metadata": {
        "colab": {
          "base_uri": "https://localhost:8080/",
          "height": 32
        },
        "id": "tYHlIxZpIrsq",
        "outputId": "a526006c-9f45-49ff-a0c4-99df41ea1a0a"
      },
      "execution_count": 53,
      "outputs": [
        {
          "output_type": "display_data",
          "data": {
            "text/html": [
              "<style>\n",
              ".list-inline {list-style: none; margin:0; padding: 0}\n",
              ".list-inline>li {display: inline-block}\n",
              ".list-inline>li:not(:last-child)::after {content: \"\\00b7\"; padding: 0 .5ex}\n",
              "</style>\n",
              "<ol class=list-inline><li>1.04</li><li>1.16</li><li>0.95</li><li>0.98</li><li>1.1</li><li>0.72</li><li>1.56</li><li>0.87</li><li>0.67</li></ol>\n"
            ],
            "text/markdown": "1. 1.04\n2. 1.16\n3. 0.95\n4. 0.98\n5. 1.1\n6. 0.72\n7. 1.56\n8. 0.87\n9. 0.67\n\n\n",
            "text/latex": "\\begin{enumerate*}\n\\item 1.04\n\\item 1.16\n\\item 0.95\n\\item 0.98\n\\item 1.1\n\\item 0.72\n\\item 1.56\n\\item 0.87\n\\item 0.67\n\\end{enumerate*}\n",
            "text/plain": [
              "[1] 1.04 1.16 0.95 0.98 1.10 0.72 1.56 0.87 0.67"
            ]
          },
          "metadata": {}
        }
      ]
    },
    {
      "cell_type": "code",
      "source": [
        "library(magrittr)\n",
        "\n",
        "x %>% log() %>% diff() %>% exp() %>% round(., 2)"
      ],
      "metadata": {
        "colab": {
          "base_uri": "https://localhost:8080/",
          "height": 32
        },
        "id": "NyRR_kScI4YE",
        "outputId": "7fe4a8ce-5423-4002-a977-3642e7adf9f5"
      },
      "execution_count": 56,
      "outputs": [
        {
          "output_type": "display_data",
          "data": {
            "text/html": [
              "<style>\n",
              ".list-inline {list-style: none; margin:0; padding: 0}\n",
              ".list-inline>li {display: inline-block}\n",
              ".list-inline>li:not(:last-child)::after {content: \"\\00b7\"; padding: 0 .5ex}\n",
              "</style>\n",
              "<ol class=list-inline><li>1.04</li><li>1.16</li><li>0.95</li><li>0.98</li><li>1.1</li><li>0.72</li><li>1.56</li><li>0.87</li><li>0.67</li></ol>\n"
            ],
            "text/markdown": "1. 1.04\n2. 1.16\n3. 0.95\n4. 0.98\n5. 1.1\n6. 0.72\n7. 1.56\n8. 0.87\n9. 0.67\n\n\n",
            "text/latex": "\\begin{enumerate*}\n\\item 1.04\n\\item 1.16\n\\item 0.95\n\\item 0.98\n\\item 1.1\n\\item 0.72\n\\item 1.56\n\\item 0.87\n\\item 0.67\n\\end{enumerate*}\n",
            "text/plain": [
              "[1] 1.04 1.16 0.95 0.98 1.10 0.72 1.56 0.87 0.67"
            ]
          },
          "metadata": {}
        }
      ]
    },
    {
      "cell_type": "code",
      "source": [],
      "metadata": {
        "id": "4H61Qw_UJG39"
      },
      "execution_count": null,
      "outputs": []
    }
  ],
  "metadata": {
    "colab": {
      "provenance": []
    },
    "kernelspec": {
      "display_name": "R",
      "name": "ir"
    },
    "language_info": {
      "name": "R"
    }
  },
  "nbformat": 4,
  "nbformat_minor": 0
}